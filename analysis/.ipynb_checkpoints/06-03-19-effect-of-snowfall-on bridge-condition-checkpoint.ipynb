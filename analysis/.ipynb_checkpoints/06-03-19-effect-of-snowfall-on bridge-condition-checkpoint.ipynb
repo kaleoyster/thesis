{
 "cells": [
  {
   "cell_type": "code",
   "execution_count": 1,
   "metadata": {},
   "outputs": [],
   "source": [
    "import pymongo\n",
    "from pymongo import MongoClient\n",
    "import time\n",
    "import pandas as pd\n",
    "import numpy as np\n",
    "import seaborn as sns\n",
    "import matplotlib.pyplot as plt\n",
    "import csv\n",
    "from sklearn import preprocessing\n",
    "from nbi1 import *\n",
    "\n",
    "import warnings\n",
    "from statsmodels.formula.api import ols\n",
    "from statsmodels.stats.anova import anova_lm\n",
    "from statsmodels.graphics.factorplots import interaction_plot\n",
    "from scipy import stats\n",
    "\n",
    "import matplotlib.patches as mpatches\n",
    "import matplotlib.pyplot as plt\n",
    "import matplotlib.lines as mlines\n",
    "\n",
    "\n",
    "\n",
    "warnings.filterwarnings('ignore')"
   ]
  },
  {
   "cell_type": "code",
   "execution_count": 2,
   "metadata": {},
   "outputs": [],
   "source": [
    "def eta_squared(aov):\n",
    "    aov['eta_sq'] = 'NaN'\n",
    "    aov['eta_sq'] = aov[:-1]['sum_sq']/sum(aov['sum_sq'])\n",
    "    return aov\n",
    " \n",
    "def omega_squared(aov):\n",
    "    mse = aov['sum_sq'][-1]/aov['df'][-1]\n",
    "    aov['omega_sq'] = 'NaN'\n",
    "    aov['omega_sq'] = (aov[:-1]['sum_sq']-(aov[:-1]['df']*mse))/(sum(aov['sum_sq'])+mse)\n",
    "    return aov\n",
    "\n",
    "def undersample(df, keyword):\n",
    "    \"\"\"\n",
    "    It will take a dataframe and a keyword to groupby\n",
    "    :input: df: Dataframe\n",
    "            Key-word: column to groupby\n",
    "            \n",
    "    :return: undersample_df: Datafram\n",
    "    \n",
    "    \"\"\"\n",
    "    groupby_df = df.groupby([keyword]).count()\n",
    "    count = min(groupby_df[groupby_df.columns[0]].tolist())\n",
    "    \n",
    "    tempdf_list = []\n",
    "\n",
    "    for index in df[keyword].unique():\n",
    "        tempdf_list.append(df[df[keyword] == index].sample(count)) ## Count\n",
    "    \n",
    "    undersample_df = pd.concat(tempdf_list)\n",
    "    \n",
    "    return undersample_df\n",
    "\n",
    "def aov(df, formula):\n",
    "    \"\"\"\n",
    "    :input: df: DataFrame\n",
    "            formula: \n",
    "    \n",
    "    :return: \n",
    "            Table\n",
    "    \"\"\"  \n",
    "    model = ols(formula, df).fit()\n",
    "    aov_table = anova_lm(model, typ=2)\n",
    "\n",
    "    eta_squared(aov_table)\n",
    "    return omega_squared(aov_table)\n",
    "    "
   ]
  },
  {
   "cell_type": "code",
   "execution_count": 3,
   "metadata": {},
   "outputs": [],
   "source": [
    "csv_file = \"../data-generation/04-28-19-thesis-dataset-without-outliers_allstates\"\n",
    "df_wo = pd.read_csv(csv_file, index_col = 0)"
   ]
  },
  {
   "cell_type": "code",
   "execution_count": 4,
   "metadata": {},
   "outputs": [
    {
     "data": {
      "text/plain": [
       "Index(['Structure Number', 'Age', 'ADT Type', 'ADTT Type', 'Superstructure',\n",
       "       'Avg. Daily Precipitation', 'State Code', 'Average Daily Traffic',\n",
       "       'Owner', 'Maintainer', 'Length Of Maximum Span', 'Structure Length',\n",
       "       'Structure Type', 'Kind Of Material', 'Year', 'No Change Span',\n",
       "       'No Change structure length', 'Average ADT', 'ADT Category',\n",
       "       'ADTT Category', 'Length Of Maximum Span Flat', 'Material', 'Year Last',\n",
       "       'Constant', 'Mean Age', 'Deterioration Score',\n",
       "       'Baseline Difference Score', 'Scaled Baseline Difference Score'],\n",
       "      dtype='object')"
      ]
     },
     "execution_count": 4,
     "metadata": {},
     "output_type": "execute_result"
    }
   ],
   "source": [
    "df_wo.columns"
   ]
  },
  {
   "cell_type": "code",
   "execution_count": 4,
   "metadata": {},
   "outputs": [
    {
     "data": {
      "text/plain": [
       "(292488, 28)"
      ]
     },
     "execution_count": 4,
     "metadata": {},
     "output_type": "execute_result"
    }
   ],
   "source": [
    "df_wo[df_wo['No Change structure length'] == True].shape"
   ]
  },
  {
   "cell_type": "code",
   "execution_count": 5,
   "metadata": {},
   "outputs": [
    {
     "data": {
      "text/plain": [
       "(435482, 28)"
      ]
     },
     "execution_count": 5,
     "metadata": {},
     "output_type": "execute_result"
    }
   ],
   "source": [
    "df_wo.shape"
   ]
  },
  {
   "cell_type": "code",
   "execution_count": 6,
   "metadata": {},
   "outputs": [],
   "source": [
    "df_wo = df_wo[df_wo['No Change structure length'] == True]"
   ]
  },
  {
   "cell_type": "code",
   "execution_count": 7,
   "metadata": {},
   "outputs": [],
   "source": [
    "df_wo = df_wo[~df_wo['Structure Length'].isin([-1,0, ])]"
   ]
  },
  {
   "cell_type": "code",
   "execution_count": 8,
   "metadata": {},
   "outputs": [],
   "source": [
    "df_wo = df_wo[df_wo['Structure Length']>6]"
   ]
  },
  {
   "cell_type": "code",
   "execution_count": 9,
   "metadata": {},
   "outputs": [],
   "source": [
    "# Arrange Dataframe is ascending order\n",
    "df_wo['5 percent'] = pd.qcut(df_wo['Avg. Daily Precipitation'],[0, .05, .95, 1.], labels = ['Very Low','Medium','Very High'])\n",
    "df_wo['spanlength'] = pd.qcut(df_wo['Length Of Maximum Span Flat'],[0, .1, .8, 1.], labels = ['Very Low','Medium','Very High'])\n",
    "df_wo['structurelength'] = pd.qcut(df_wo['Structure Length'],[0, .1, .8, 1.], labels = ['Very Low','Medium','Very High'])\n",
    "\n",
    "df_anova = df_wo[['Baseline Difference Score', 'ADT Category','ADTT Category','Avg. Daily Precipitation', 'State Code','5 percent',\\\n",
    "                       'Length Of Maximum Span Flat', 'Material','Structure Type', 'Maintainer','spanlength','structurelength']]\n",
    "\n",
    "df_anova = df_anova.rename(index=str, columns={\"Baseline Difference Score\": \"score\", \\\n",
    "                                               \"ADT Category\": \"adt\", \\\n",
    "                                               \"ADTT Category\": \"adtt\",\\\n",
    "                                               \"Avg. Daily Precipitation\": \"precp\", \\\n",
    "                                               \"State Code\":\"region\", \\\n",
    "                                               \"5 percent\": \"precipitation\", \\\n",
    "                                               \"Length Of Maximum Span Flat\": \"lengthofspan\",\\\n",
    "                                               \"Material\":\"material\",\\\n",
    "                                               \"Structure Type\":\"structuretype\",\\\n",
    "                                               \"Maintainer\":\"maintainer\",\\\n",
    "                                               \"spanlength\":\"spanlength\",\\\n",
    "                                               \"structurelength\":\"structurelength\"\n",
    "                                              })\n",
    "# Northeast\n",
    "N = ['09','23','25','33','44','50','34','36','42']  \n",
    "\n",
    "# Midwest\n",
    "M = ['17','18','21','39','55','19','20','27','29','31','38','46']\n",
    "\n",
    "# South\n",
    "S = ['10','12','13','24','37','45','51','11','54','01','21','28','47','05','22','40','48']\n",
    "\n",
    "# West\n",
    "W = ['04','08','16','32','30','35','49','56','01','06','15','41','53','72']\n",
    "\n",
    "w = [int(i) for i in W]\n",
    "s = [int(i) for i in S]\n",
    "m = [int(i) for i in M]\n",
    "n = [int(i) for i in N]\n",
    "\n",
    "west_df_anova = df_anova[df_anova[\"region\"].isin(w)]\n",
    "west_df_anova['region'] = len(west_df_anova)*['West']\n",
    "\n",
    "south_df_anova = df_anova[df_anova[\"region\"].isin(s)]\n",
    "south_df_anova['region'] = len(south_df_anova)*['South']\n",
    "\n",
    "midwest_df_anova = df_anova[df_anova[\"region\"].isin(m)]\n",
    "midwest_df_anova['region'] = len(midwest_df_anova)*['Midwest']\n",
    "\n",
    "northeast_df_anova = df_anova[df_anova[\"region\"].isin(n)]\n",
    "northeast_df_anova['region'] = len(northeast_df_anova)*['Northeast']\n",
    "\n",
    "\n",
    "\n",
    "df_anova['precp']  =  pd.qcut(df_anova['precp'], 4, labels=[\"Very Light\", \"Light\", \"Moderate\",\"Heavy\"])\n",
    "\n",
    "df_anova = pd.concat([west_df_anova,midwest_df_anova,south_df_anova,northeast_df_anova])"
   ]
  },
  {
   "cell_type": "code",
   "execution_count": 10,
   "metadata": {},
   "outputs": [
    {
     "data": {
      "text/plain": [
       "(291455, 31)"
      ]
     },
     "execution_count": 10,
     "metadata": {},
     "output_type": "execute_result"
    }
   ],
   "source": [
    "df_wo.shape"
   ]
  },
  {
   "cell_type": "code",
   "execution_count": 11,
   "metadata": {},
   "outputs": [
    {
     "data": {
      "text/html": [
       "<div>\n",
       "<style scoped>\n",
       "    .dataframe tbody tr th:only-of-type {\n",
       "        vertical-align: middle;\n",
       "    }\n",
       "\n",
       "    .dataframe tbody tr th {\n",
       "        vertical-align: top;\n",
       "    }\n",
       "\n",
       "    .dataframe thead th {\n",
       "        text-align: right;\n",
       "    }\n",
       "</style>\n",
       "<table border=\"1\" class=\"dataframe\">\n",
       "  <thead>\n",
       "    <tr style=\"text-align: right;\">\n",
       "      <th></th>\n",
       "      <th>score</th>\n",
       "      <th>adt</th>\n",
       "      <th>adtt</th>\n",
       "      <th>precp</th>\n",
       "      <th>region</th>\n",
       "      <th>precipitation</th>\n",
       "      <th>lengthofspan</th>\n",
       "      <th>material</th>\n",
       "      <th>structuretype</th>\n",
       "      <th>maintainer</th>\n",
       "      <th>spanlength</th>\n",
       "      <th>structurelength</th>\n",
       "    </tr>\n",
       "  </thead>\n",
       "  <tbody>\n",
       "    <tr>\n",
       "      <th>5</th>\n",
       "      <td>0.634804</td>\n",
       "      <td>Very Light</td>\n",
       "      <td>Light</td>\n",
       "      <td>0.87</td>\n",
       "      <td>West</td>\n",
       "      <td>Very Low</td>\n",
       "      <td>16.2</td>\n",
       "      <td>7</td>\n",
       "      <td>2</td>\n",
       "      <td>1</td>\n",
       "      <td>Medium</td>\n",
       "      <td>Very High</td>\n",
       "    </tr>\n",
       "    <tr>\n",
       "      <th>1061</th>\n",
       "      <td>0.391678</td>\n",
       "      <td>Moderate</td>\n",
       "      <td>Light</td>\n",
       "      <td>0.84</td>\n",
       "      <td>West</td>\n",
       "      <td>Very Low</td>\n",
       "      <td>9.1</td>\n",
       "      <td>7</td>\n",
       "      <td>2</td>\n",
       "      <td>1</td>\n",
       "      <td>Medium</td>\n",
       "      <td>Medium</td>\n",
       "    </tr>\n",
       "    <tr>\n",
       "      <th>2005</th>\n",
       "      <td>-0.750304</td>\n",
       "      <td>Light</td>\n",
       "      <td>Light</td>\n",
       "      <td>0.71</td>\n",
       "      <td>West</td>\n",
       "      <td>Very Low</td>\n",
       "      <td>7.9</td>\n",
       "      <td>1</td>\n",
       "      <td>2</td>\n",
       "      <td>26</td>\n",
       "      <td>Medium</td>\n",
       "      <td>Very Low</td>\n",
       "    </tr>\n",
       "    <tr>\n",
       "      <th>2697</th>\n",
       "      <td>-0.940536</td>\n",
       "      <td>Light</td>\n",
       "      <td>Light</td>\n",
       "      <td>1.14</td>\n",
       "      <td>West</td>\n",
       "      <td>Very Low</td>\n",
       "      <td>7.3</td>\n",
       "      <td>7</td>\n",
       "      <td>2</td>\n",
       "      <td>26</td>\n",
       "      <td>Medium</td>\n",
       "      <td>Very Low</td>\n",
       "    </tr>\n",
       "    <tr>\n",
       "      <th>3012</th>\n",
       "      <td>0.155585</td>\n",
       "      <td>Light</td>\n",
       "      <td>Light</td>\n",
       "      <td>0.90</td>\n",
       "      <td>West</td>\n",
       "      <td>Very Low</td>\n",
       "      <td>9.8</td>\n",
       "      <td>3</td>\n",
       "      <td>2</td>\n",
       "      <td>26</td>\n",
       "      <td>Medium</td>\n",
       "      <td>Medium</td>\n",
       "    </tr>\n",
       "  </tbody>\n",
       "</table>\n",
       "</div>"
      ],
      "text/plain": [
       "         score         adt   adtt  precp region precipitation  lengthofspan  \\\n",
       "5     0.634804  Very Light  Light   0.87   West      Very Low          16.2   \n",
       "1061  0.391678    Moderate  Light   0.84   West      Very Low           9.1   \n",
       "2005 -0.750304       Light  Light   0.71   West      Very Low           7.9   \n",
       "2697 -0.940536       Light  Light   1.14   West      Very Low           7.3   \n",
       "3012  0.155585       Light  Light   0.90   West      Very Low           9.8   \n",
       "\n",
       "      material  structuretype  maintainer spanlength structurelength  \n",
       "5            7              2           1     Medium       Very High  \n",
       "1061         7              2           1     Medium          Medium  \n",
       "2005         1              2          26     Medium        Very Low  \n",
       "2697         7              2          26     Medium        Very Low  \n",
       "3012         3              2          26     Medium          Medium  "
      ]
     },
     "execution_count": 11,
     "metadata": {},
     "output_type": "execute_result"
    }
   ],
   "source": [
    "df_anova.head()"
   ]
  },
  {
   "cell_type": "code",
   "execution_count": 12,
   "metadata": {},
   "outputs": [
    {
     "data": {
      "image/png": "[encoded data removed]",
      "text/plain": [
       "<matplotlib.figure.Figure at 0x1a2b44c7f0>"
      ]
     },
     "metadata": {},
     "output_type": "display_data"
    }
   ],
   "source": [
    "count_structurelen = df_anova.groupby('structurelength')['score'].count()\n",
    "\n",
    "# Plotting \n",
    "plt.figure(figsize=(8,8))\n",
    "plt.suptitle(\"Baseline Difference Scores\", fontsize = 20, fontweight = 'bold')\n",
    "sns.set(font_scale=2)\n",
    "\n",
    "#Subplot 1\n",
    "labels = [\"Very Low\", \"Very High\"]\n",
    "no_of_records = [count_structurelen[0], count_structurelen[2]]\n",
    "plt.bar(labels, no_of_records, align = 'center', alpha = 0.5, color = ['crimson','teal'])\n",
    "plt.xticks(size = 20, rotation = 0)\n",
    "plt.yticks(size = 20)\n",
    "plt.xlabel(\"Structure Length\", fontweight = 'bold', fontsize = 20)\n",
    "plt.ylabel(\"Number of Bridges\", fontweight = 'bold', fontsize = 20)\n",
    "plt.show()"
   ]
  },
  {
   "cell_type": "code",
   "execution_count": 13,
   "metadata": {},
   "outputs": [
    {
     "data": {
      "text/plain": [
       "count    30371.000000\n",
       "mean         7.434727\n",
       "std          0.683810\n",
       "min          6.100000\n",
       "25%          7.000000\n",
       "50%          7.300000\n",
       "75%          7.900000\n",
       "max          8.500000\n",
       "Name: Structure Length, dtype: float64"
      ]
     },
     "execution_count": 13,
     "metadata": {},
     "output_type": "execute_result"
    }
   ],
   "source": [
    "l = df_wo[df_wo['structurelength']== 'Very Low']\n",
    "h = df_wo[df_wo['structurelength']== 'Very High']\n",
    "\n",
    "\n",
    "l['Structure Length'].describe()"
   ]
  },
  {
   "cell_type": "code",
   "execution_count": 14,
   "metadata": {},
   "outputs": [
    {
     "data": {
      "text/plain": [
       "count    57040.000000\n",
       "mean       150.924676\n",
       "std        283.844802\n",
       "min         61.100000\n",
       "25%         72.800000\n",
       "50%         90.200000\n",
       "75%        133.800000\n",
       "max      23382.400000\n",
       "Name: Structure Length, dtype: float64"
      ]
     },
     "execution_count": 14,
     "metadata": {},
     "output_type": "execute_result"
    }
   ],
   "source": [
    "h['Structure Length'].describe()"
   ]
  },
  {
   "cell_type": "code",
   "execution_count": 15,
   "metadata": {},
   "outputs": [
    {
     "data": {
      "image/png": "[encoded data removed]",
      "text/plain": [
       "<matplotlib.figure.Figure at 0x1a236db208>"
      ]
     },
     "metadata": {},
     "output_type": "display_data"
    }
   ],
   "source": [
    "scores_low = df_anova[df_anova['structurelength'] == 'Very Low']['score']\n",
    "scores_high = df_anova[df_anova['structurelength'] == 'Very High']['score']\n",
    "\n",
    "scores_structurelen = [scores_low,scores_high]\n",
    "\n",
    "\n",
    "green_line = mlines.Line2D([], [], color='Green',\n",
    "                          markersize=15, label='Median')\n",
    "red_triangle = mlines.Line2D([], [], color='Red', marker='^',\n",
    "                          markersize=15, label='Mean')\n",
    "\n",
    "# Plotting \n",
    "plt.figure(figsize=(12,8))\n",
    "plt.subplots_adjust(bottom=0, left=0.025, top = 0.9, right=0.975)\n",
    "plt.suptitle(\"Baseline Difference Scores\", fontsize = 20, fontweight = 'bold')\n",
    "sns.set(font_scale=2)\n",
    "\n",
    "plt.boxplot(scores_structurelen, labels = labels, showfliers=True, showmeans=True)\n",
    "plt.xticks(size = 20, rotation = 0)\n",
    "plt.yticks(size = 20)\n",
    "plt.xlabel(\"Structure Length\", fontweight = 'bold')\n",
    "plt.ylabel(\"Baseline Difference Score\", fontweight = 'bold')\n",
    "\n",
    "red_patch = mpatches.Patch(color='red', label='The red data')\n",
    "green_patch = mpatches.Patch(color='green', label='The red data')\n",
    "plt.legend(handles=[red_triangle, green_line], loc = 'lower center')\n",
    "\n",
    "plt.show()"
   ]
  },
  {
   "cell_type": "markdown",
   "metadata": {},
   "source": [
    "#### ANOVA - Small Sample"
   ]
  },
  {
   "cell_type": "code",
   "execution_count": 16,
   "metadata": {},
   "outputs": [
    {
     "data": {
      "text/html": [
       "<div>\n",
       "<style scoped>\n",
       "    .dataframe tbody tr th:only-of-type {\n",
       "        vertical-align: middle;\n",
       "    }\n",
       "\n",
       "    .dataframe tbody tr th {\n",
       "        vertical-align: top;\n",
       "    }\n",
       "\n",
       "    .dataframe thead th {\n",
       "        text-align: right;\n",
       "    }\n",
       "</style>\n",
       "<table border=\"1\" class=\"dataframe\">\n",
       "  <thead>\n",
       "    <tr style=\"text-align: right;\">\n",
       "      <th></th>\n",
       "      <th>sum_sq</th>\n",
       "      <th>df</th>\n",
       "      <th>F</th>\n",
       "      <th>PR(&gt;F)</th>\n",
       "      <th>eta_sq</th>\n",
       "      <th>omega_sq</th>\n",
       "    </tr>\n",
       "  </thead>\n",
       "  <tbody>\n",
       "    <tr>\n",
       "      <th>C(structurelength)</th>\n",
       "      <td>0.660159</td>\n",
       "      <td>1.0</td>\n",
       "      <td>0.992795</td>\n",
       "      <td>0.320276</td>\n",
       "      <td>0.004989</td>\n",
       "      <td>-0.000036</td>\n",
       "    </tr>\n",
       "    <tr>\n",
       "      <th>Residual</th>\n",
       "      <td>131.660077</td>\n",
       "      <td>198.0</td>\n",
       "      <td>NaN</td>\n",
       "      <td>NaN</td>\n",
       "      <td>NaN</td>\n",
       "      <td>NaN</td>\n",
       "    </tr>\n",
       "  </tbody>\n",
       "</table>\n",
       "</div>"
      ],
      "text/plain": [
       "                        sum_sq     df         F    PR(>F)    eta_sq  omega_sq\n",
       "C(structurelength)    0.660159    1.0  0.992795  0.320276  0.004989 -0.000036\n",
       "Residual            131.660077  198.0       NaN       NaN       NaN       NaN"
      ]
     },
     "execution_count": 16,
     "metadata": {},
     "output_type": "execute_result"
    }
   ],
   "source": [
    "span = df_anova.groupby('structurelength').apply(lambda s: s.sample(100))['structurelength'].tolist()\n",
    "score = df_anova.groupby('structurelength').apply(lambda s: s.sample(100))['score'].tolist()\n",
    "df_span_sample_100 = pd.DataFrame({'structurelength':span, 'score':score})\n",
    "df_span_100 = df_span_sample_100[df_span_sample_100['structurelength'].isin(['Very Low', 'Very High'])]\n",
    "\n",
    "formula = 'score ~ C(structurelength)'\n",
    "span_undersample = undersample(df_span_100, 'structurelength')\n",
    "aov(span_undersample, formula)"
   ]
  },
  {
   "cell_type": "code",
   "execution_count": 18,
   "metadata": {},
   "outputs": [],
   "source": []
  },
  {
   "cell_type": "markdown",
   "metadata": {},
   "source": [
    "#### ANOVA - Large Sample"
   ]
  },
  {
   "cell_type": "code",
   "execution_count": 19,
   "metadata": {},
   "outputs": [
    {
     "data": {
      "text/html": [
       "<div>\n",
       "<style scoped>\n",
       "    .dataframe tbody tr th:only-of-type {\n",
       "        vertical-align: middle;\n",
       "    }\n",
       "\n",
       "    .dataframe tbody tr th {\n",
       "        vertical-align: top;\n",
       "    }\n",
       "\n",
       "    .dataframe thead th {\n",
       "        text-align: right;\n",
       "    }\n",
       "</style>\n",
       "<table border=\"1\" class=\"dataframe\">\n",
       "  <thead>\n",
       "    <tr style=\"text-align: right;\">\n",
       "      <th></th>\n",
       "      <th>sum_sq</th>\n",
       "      <th>df</th>\n",
       "      <th>F</th>\n",
       "      <th>PR(&gt;F)</th>\n",
       "      <th>eta_sq</th>\n",
       "      <th>omega_sq</th>\n",
       "    </tr>\n",
       "  </thead>\n",
       "  <tbody>\n",
       "    <tr>\n",
       "      <th>C(structurelength)</th>\n",
       "      <td>93.173070</td>\n",
       "      <td>1.0</td>\n",
       "      <td>135.599049</td>\n",
       "      <td>2.636006e-31</td>\n",
       "      <td>0.002223</td>\n",
       "      <td>0.002207</td>\n",
       "    </tr>\n",
       "    <tr>\n",
       "      <th>Residual</th>\n",
       "      <td>41812.739179</td>\n",
       "      <td>60852.0</td>\n",
       "      <td>NaN</td>\n",
       "      <td>NaN</td>\n",
       "      <td>NaN</td>\n",
       "      <td>NaN</td>\n",
       "    </tr>\n",
       "  </tbody>\n",
       "</table>\n",
       "</div>"
      ],
      "text/plain": [
       "                          sum_sq       df           F        PR(>F)    eta_sq  \\\n",
       "C(structurelength)     93.173070      1.0  135.599049  2.636006e-31  0.002223   \n",
       "Residual            41812.739179  60852.0         NaN           NaN       NaN   \n",
       "\n",
       "                    omega_sq  \n",
       "C(structurelength)  0.002207  \n",
       "Residual                 NaN  "
      ]
     },
     "execution_count": 19,
     "metadata": {},
     "output_type": "execute_result"
    }
   ],
   "source": [
    "samplesize = min(df_anova.groupby(['structurelength'])['structurelength'].count())\n",
    "span = df_anova.groupby('structurelength').apply(lambda s: s.sample(samplesize))['structurelength'].tolist()\n",
    "score = df_anova.groupby('structurelength').apply(lambda s: s.sample(samplesize))['score'].tolist()\n",
    "df_span_sample_45121 = pd.DataFrame({'structurelength':span, 'score':score})\n",
    "df_span_45121 = df_span_sample_45121[df_span_sample_45121['structurelength'].isin(['Very Low', 'Very High'])]\n",
    "\n",
    "formula = 'score ~ C(structurelength)'\n",
    "span_undersample = undersample(df_span_45121, 'structurelength')\n",
    "aov(span_undersample, formula)"
   ]
  },
  {
   "cell_type": "code",
   "execution_count": null,
   "metadata": {},
   "outputs": [],
   "source": []
  }
 ],
 "metadata": {
  "kernelspec": {
   "display_name": "Python 3",
   "language": "python",
   "name": "python3"
  },
  "language_info": {
   "codemirror_mode": {
    "name": "ipython",
    "version": 3
   },
   "file_extension": ".py",
   "mimetype": "text/x-python",
   "name": "python",
   "nbconvert_exporter": "python",
   "pygments_lexer": "ipython3",
   "version": "3.6.4"
  }
 },
 "nbformat": 4,
 "nbformat_minor": 2
}
