{
 "cells": [
  {
   "cell_type": "code",
   "execution_count": 2,
   "metadata": {},
   "outputs": [],
   "source": [
    "import pymongo\n",
    "from pymongo import MongoClient\n",
    "import time\n",
    "import pandas as pd\n",
    "import numpy as np\n",
    "import seaborn as sns\n",
    "import matplotlib.pyplot as plt\n",
    "import csv\n",
    "from sklearn import preprocessing\n",
    "import warnings\n",
    "import sys\n",
    "import os\n",
    "def nbipath():\n",
    "    os.chdir('..')\n",
    "    path = os.getcwd()+'/nbi'\n",
    "    return path \n",
    "\n",
    "sys.path.insert(0, nbipath())\n",
    "from nbi1 import *\n",
    "\n",
    "from numpy.random import randn\n",
    "from scipy.stats import anderson\n",
    "from scipy.stats import normaltest\n",
    "from statsmodels.graphics.gofplots import qqplot\n",
    "from matplotlib import pyplot\n",
    "import scipy\n",
    "\n",
    "from statsmodels.formula.api import ols\n",
    "from statsmodels.stats.anova import anova_lm\n",
    "from statsmodels.graphics.factorplots import interaction_plot\n",
    "from scipy import stats\n",
    "\n",
    "\n",
    "import matplotlib.patches as mpatches\n",
    "import matplotlib.pyplot as plt\n",
    "import matplotlib.lines as mlines\n",
    "\n",
    "warnings.filterwarnings('ignore')"
   ]
  },
  {
   "cell_type": "markdown",
   "metadata": {},
   "source": [
    "### Preprocessing Functions"
   ]
  },
  {
   "cell_type": "code",
   "execution_count": 3,
   "metadata": {},
   "outputs": [],
   "source": [
    "def convertStringListtoList(List):\n",
    "    return  [int(i) for i in List[1:-1].split(',')]"
   ]
  },
  {
   "cell_type": "markdown",
   "metadata": {},
   "source": [
    "### Data Selection "
   ]
  },
  {
   "cell_type": "code",
   "execution_count": 4,
   "metadata": {},
   "outputs": [],
   "source": [
    "\n",
    "df = pd.read_csv(\"/Users/AkshayKale/Documents/github/data/nbi/06-20-19-thesis-dataset-without-outliers_allstates\", index_col=0)\n",
    "\n",
    "# Select records from 2017\n",
    "df = df[df['Year Last'] == 2017]"
   ]
  },
  {
   "cell_type": "markdown",
   "metadata": {},
   "source": [
    "### Create a row of the bridges with the last age of the bridges"
   ]
  },
  {
   "cell_type": "code",
   "execution_count": 5,
   "metadata": {},
   "outputs": [],
   "source": [
    "last_age = []\n",
    "for ages in df['Age']:   \n",
    "    last_age.append(convertStringListtoList(ages)[-1])\n",
    "    \n",
    "df['last age'] = last_age"
   ]
  },
  {
   "cell_type": "markdown",
   "metadata": {},
   "source": [
    "## Creating a dictionary of ages and the number of bridges"
   ]
  },
  {
   "cell_type": "code",
   "execution_count": 6,
   "metadata": {},
   "outputs": [],
   "source": [
    "# create dictionary_bsd_a\n",
    "above = {a:0 for a in range(1,150)} \n",
    "below = {b:0 for b in range(1,150)}\n",
    "\n",
    "for age, bsd in zip(df['last age'], df['Baseline Difference Score']):\n",
    "    if bsd < 0:\n",
    "        below[age] = below[age] + 1\n",
    "    else:\n",
    "        above[age] = above[age] + 1"
   ]
  },
  {
   "cell_type": "markdown",
   "metadata": {},
   "source": [
    "### Counting bridges above and below the bsd of zero"
   ]
  },
  {
   "cell_type": "code",
   "execution_count": 7,
   "metadata": {},
   "outputs": [],
   "source": [
    "total = []\n",
    "for a, b in zip(above.values(), below.values()):\n",
    "    t = a + b\n",
    "    total.append(t)\n",
    "    \n",
    "total = total[1:90]\n",
    "percent_above = []\n",
    "percent_below = []\n",
    "\n",
    "for a, b, t in zip(above.values(),below.values(), total):\n",
    "    percent_above.append(a/t)\n",
    "    percent_below.append(b/t)"
   ]
  },
  {
   "cell_type": "markdown",
   "metadata": {},
   "source": [
    "### Visualization of the Number of the bridges above and below BDS of Zero"
   ]
  },
  {
   "cell_type": "code",
   "execution_count": 8,
   "metadata": {},
   "outputs": [
    {
     "data": {
      "image/png": "[encoded data removed]",
      "text/plain": [
       "<matplotlib.figure.Figure at 0x1a36d57a58>"
      ]
     },
     "metadata": {},
     "output_type": "display_data"
    }
   ],
   "source": [
    "y = [i for i in range(2, 91, 1)]\n",
    "d_1 = percent_above\n",
    "d_2 = -1 * np.array(percent_below)\n",
    "\n",
    "\n",
    "fig, ax = plt.subplots(figsize=(10,8))\n",
    "ax.bar( y, d_1, color='green', label='Percent of bridges above BDS = 0')\n",
    "ax.bar( y, d_2, color='red', label='Percent of bridges below BDS = 0')\n",
    "\n",
    "# Formatting x labels\n",
    "plt.title(\"Number of bridges above and below BDS of zero\")\n",
    "# plt.title(\"using data of the bridges present in 2017\")\n",
    "plt.tight_layout()\n",
    "# Use absolute value for y-ticks\n",
    "ticks =  ax.get_yticks()\n",
    "ax.set_yticklabels([abs(tick) for tick in ticks])\n",
    "plt.ylabel(\"Percentage\", fontweight='bold', fontsize=20)\n",
    "plt.xlabel(\"Age\", fontweight='bold', fontsize=20)\n",
    "plt.legend()\n",
    "plt.show()"
   ]
  },
  {
   "cell_type": "code",
   "execution_count": null,
   "metadata": {},
   "outputs": [],
   "source": []
  }
 ],
 "metadata": {
  "kernelspec": {
   "display_name": "Python 3",
   "language": "python",
   "name": "python3"
  }
 },
 "nbformat": 4,
 "nbformat_minor": 2
}
