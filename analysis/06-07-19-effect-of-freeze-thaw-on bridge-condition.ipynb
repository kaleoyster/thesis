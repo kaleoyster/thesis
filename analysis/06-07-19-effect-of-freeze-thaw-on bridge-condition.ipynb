{
 "cells": [
  {
   "cell_type": "code",
   "execution_count": 1,
   "metadata": {},
   "outputs": [],
   "source": [
    "import pymongo\n",
    "from pymongo import MongoClient\n",
    "import time\n",
    "import pandas as pd\n",
    "import numpy as np\n",
    "import seaborn as sns\n",
    "import matplotlib.pyplot as plt\n",
    "import csv\n",
    "from sklearn import preprocessing\n",
    "from nbi1 import *\n",
    "\n",
    "import warnings\n",
    "from statsmodels.formula.api import ols\n",
    "from statsmodels.stats.anova import anova_lm\n",
    "from statsmodels.graphics.factorplots import interaction_plot\n",
    "from scipy import stats\n",
    "\n",
    "import matplotlib.patches as mpatches\n",
    "import matplotlib.pyplot as plt\n",
    "import matplotlib.lines as mlines\n",
    "\n",
    "\n",
    "\n",
    "warnings.filterwarnings('ignore')"
   ]
  },
  {
   "cell_type": "code",
   "execution_count": 2,
   "metadata": {},
   "outputs": [],
   "source": [
    "def eta_squared(aov):\n",
    "    aov['eta_sq'] = 'NaN'\n",
    "    aov['eta_sq'] = aov[:-1]['sum_sq']/sum(aov['sum_sq'])\n",
    "    return aov\n",
    " \n",
    "def omega_squared(aov):\n",
    "    mse = aov['sum_sq'][-1]/aov['df'][-1]\n",
    "    aov['omega_sq'] = 'NaN'\n",
    "    aov['omega_sq'] = (aov[:-1]['sum_sq']-(aov[:-1]['df']*mse))/(sum(aov['sum_sq'])+mse)\n",
    "    return aov\n",
    "\n",
    "def undersample(df, keyword):\n",
    "    \"\"\"\n",
    "    It will take a dataframe and a keyword to groupby\n",
    "    :input: df: Dataframe\n",
    "            Key-word: column to groupby\n",
    "            \n",
    "    :return: undersample_df: Datafram\n",
    "    \n",
    "    \"\"\"\n",
    "    groupby_df = df.groupby([keyword]).count()\n",
    "    count = min(groupby_df[groupby_df.columns[0]].tolist())\n",
    "    \n",
    "    tempdf_list = []\n",
    "\n",
    "    for index in df[keyword].unique():\n",
    "        tempdf_list.append(df[df[keyword] == index].sample(count)) ## Count\n",
    "    \n",
    "    undersample_df = pd.concat(tempdf_list)\n",
    "    \n",
    "    return undersample_df\n",
    "\n",
    "def aov(df, formula):\n",
    "    \"\"\"\n",
    "    :input: df: DataFrame\n",
    "            formula: \n",
    "    \n",
    "    :return: \n",
    "            Table\n",
    "    \"\"\"  \n",
    "    model = ols(formula, df).fit()\n",
    "    aov_table = anova_lm(model, typ=2)\n",
    "\n",
    "    eta_squared(aov_table)\n",
    "    return omega_squared(aov_table)\n",
    "    \n",
    "def createDictionary(dataframe_col1, dataframe_col2):\n",
    "    \"\"\"\n",
    "    returns dictionary of structure number as key and and list of attribute belonging  to structure number\n",
    "    :rtype: dictionary\n",
    "    \n",
    "    \"\"\"\n",
    "    # initialize the dictionary\n",
    "    dictionary = {structure_number:[] for structure_number in dataframe_col1}\n",
    "    \n",
    "    for structure_number, value in zip(dataframe_col1, dataframe_col2):\n",
    "        dictionary[structure_number].append(value)\n",
    "    return dictionary\n",
    "\n",
    "\n",
    "def createDictionaryOfMeanValue(dictionary):\n",
    "    \"\"\"\n",
    "    returns dictionary of structure number as key and and mean values in corresponding to the structure number\n",
    "    :rtype: dictionary\n",
    "    \n",
    "    \"\"\"\n",
    "    dictionary_new = {}\n",
    "    \n",
    "    for key, value in dictionary.items():\n",
    "        mean_value = np.mean(value)\n",
    "        dictionary_new[key] = mean_value\n",
    "        \n",
    "    return dictionary_new\n",
    "\n",
    "def createDictionaryOfFirstValue(dictionary):\n",
    "    dictionary_new = {}\n",
    "    \n",
    "    for key, value in dictionary.items():\n",
    "        value = value[0]\n",
    "        dictionary_new[key] = value\n",
    "        \n",
    "    return dictionary_new\n"
   ]
  },
  {
   "cell_type": "markdown",
   "metadata": {},
   "source": [
    "### Importing dataset"
   ]
  },
  {
   "cell_type": "code",
   "execution_count": 3,
   "metadata": {},
   "outputs": [],
   "source": [
    "df_csv = pd.read_csv('../data-generation/NE_Counties_MERRA_by_bridge.csv', index_col=0)\n",
    "d_structureNumber_county = createDictionary(df_csv['structure_number'],df_csv['COUNTY_NAME'])\n",
    "d_structureNumber_freeze_thaw = createDictionary(df_csv['structure_number'],df_csv['NO_OF_FREEZE_THAW_CYCLES'])"
   ]
  },
  {
   "cell_type": "markdown",
   "metadata": {},
   "source": [
    "### Dataset"
   ]
  },
  {
   "cell_type": "code",
   "execution_count": 4,
   "metadata": {},
   "outputs": [
    {
     "data": {
      "text/html": [
       "<div>\n",
       "<style scoped>\n",
       "    .dataframe tbody tr th:only-of-type {\n",
       "        vertical-align: middle;\n",
       "    }\n",
       "\n",
       "    .dataframe tbody tr th {\n",
       "        vertical-align: top;\n",
       "    }\n",
       "\n",
       "    .dataframe thead th {\n",
       "        text-align: right;\n",
       "    }\n",
       "</style>\n",
       "<table border=\"1\" class=\"dataframe\">\n",
       "  <thead>\n",
       "    <tr style=\"text-align: right;\">\n",
       "      <th></th>\n",
       "      <th>structure_number</th>\n",
       "      <th>county_code</th>\n",
       "      <th>COUNTY_NAME</th>\n",
       "      <th>year</th>\n",
       "      <th>NO_OF_FREEZE_THAW_CYCLES</th>\n",
       "      <th>no_of_snowfalls</th>\n",
       "    </tr>\n",
       "    <tr>\n",
       "      <th>state_code</th>\n",
       "      <th></th>\n",
       "      <th></th>\n",
       "      <th></th>\n",
       "      <th></th>\n",
       "      <th></th>\n",
       "      <th></th>\n",
       "    </tr>\n",
       "  </thead>\n",
       "  <tbody>\n",
       "    <tr>\n",
       "      <th>31</th>\n",
       "      <td>C000100305P</td>\n",
       "      <td>1.0</td>\n",
       "      <td>Adams County</td>\n",
       "      <td>1980.0</td>\n",
       "      <td>115.0</td>\n",
       "      <td>57.0</td>\n",
       "    </tr>\n",
       "    <tr>\n",
       "      <th>31</th>\n",
       "      <td>C000100305P</td>\n",
       "      <td>1.0</td>\n",
       "      <td>Adams County</td>\n",
       "      <td>1981.0</td>\n",
       "      <td>101.0</td>\n",
       "      <td>33.0</td>\n",
       "    </tr>\n",
       "    <tr>\n",
       "      <th>31</th>\n",
       "      <td>C000100305P</td>\n",
       "      <td>1.0</td>\n",
       "      <td>Adams County</td>\n",
       "      <td>1982.0</td>\n",
       "      <td>105.0</td>\n",
       "      <td>56.0</td>\n",
       "    </tr>\n",
       "    <tr>\n",
       "      <th>31</th>\n",
       "      <td>C000100305P</td>\n",
       "      <td>1.0</td>\n",
       "      <td>Adams County</td>\n",
       "      <td>1983.0</td>\n",
       "      <td>99.0</td>\n",
       "      <td>88.0</td>\n",
       "    </tr>\n",
       "    <tr>\n",
       "      <th>31</th>\n",
       "      <td>C000100305P</td>\n",
       "      <td>1.0</td>\n",
       "      <td>Adams County</td>\n",
       "      <td>1984.0</td>\n",
       "      <td>133.0</td>\n",
       "      <td>68.0</td>\n",
       "    </tr>\n",
       "    <tr>\n",
       "      <th>31</th>\n",
       "      <td>C000100305P</td>\n",
       "      <td>1.0</td>\n",
       "      <td>Adams County</td>\n",
       "      <td>1985.0</td>\n",
       "      <td>99.0</td>\n",
       "      <td>62.0</td>\n",
       "    </tr>\n",
       "    <tr>\n",
       "      <th>31</th>\n",
       "      <td>C000100305P</td>\n",
       "      <td>1.0</td>\n",
       "      <td>Adams County</td>\n",
       "      <td>1986.0</td>\n",
       "      <td>112.0</td>\n",
       "      <td>36.0</td>\n",
       "    </tr>\n",
       "    <tr>\n",
       "      <th>31</th>\n",
       "      <td>C000100305P</td>\n",
       "      <td>1.0</td>\n",
       "      <td>Adams County</td>\n",
       "      <td>1987.0</td>\n",
       "      <td>113.0</td>\n",
       "      <td>46.0</td>\n",
       "    </tr>\n",
       "    <tr>\n",
       "      <th>31</th>\n",
       "      <td>C000100305P</td>\n",
       "      <td>1.0</td>\n",
       "      <td>Adams County</td>\n",
       "      <td>1988.0</td>\n",
       "      <td>112.0</td>\n",
       "      <td>43.0</td>\n",
       "    </tr>\n",
       "    <tr>\n",
       "      <th>31</th>\n",
       "      <td>C000100305P</td>\n",
       "      <td>1.0</td>\n",
       "      <td>Adams County</td>\n",
       "      <td>1989.0</td>\n",
       "      <td>110.0</td>\n",
       "      <td>39.0</td>\n",
       "    </tr>\n",
       "  </tbody>\n",
       "</table>\n",
       "</div>"
      ],
      "text/plain": [
       "           structure_number  county_code   COUNTY_NAME    year  \\\n",
       "state_code                                                       \n",
       "31              C000100305P          1.0  Adams County  1980.0   \n",
       "31              C000100305P          1.0  Adams County  1981.0   \n",
       "31              C000100305P          1.0  Adams County  1982.0   \n",
       "31              C000100305P          1.0  Adams County  1983.0   \n",
       "31              C000100305P          1.0  Adams County  1984.0   \n",
       "31              C000100305P          1.0  Adams County  1985.0   \n",
       "31              C000100305P          1.0  Adams County  1986.0   \n",
       "31              C000100305P          1.0  Adams County  1987.0   \n",
       "31              C000100305P          1.0  Adams County  1988.0   \n",
       "31              C000100305P          1.0  Adams County  1989.0   \n",
       "\n",
       "            NO_OF_FREEZE_THAW_CYCLES  no_of_snowfalls  \n",
       "state_code                                             \n",
       "31                             115.0             57.0  \n",
       "31                             101.0             33.0  \n",
       "31                             105.0             56.0  \n",
       "31                              99.0             88.0  \n",
       "31                             133.0             68.0  \n",
       "31                              99.0             62.0  \n",
       "31                             112.0             36.0  \n",
       "31                             113.0             46.0  \n",
       "31                             112.0             43.0  \n",
       "31                             110.0             39.0  "
      ]
     },
     "execution_count": 4,
     "metadata": {},
     "output_type": "execute_result"
    }
   ],
   "source": [
    "df_csv.head(10)"
   ]
  },
  {
   "cell_type": "markdown",
   "metadata": {},
   "source": [
    "### Creating a dictionary"
   ]
  },
  {
   "cell_type": "code",
   "execution_count": 5,
   "metadata": {},
   "outputs": [],
   "source": [
    "d_freeze_thaw = createDictionaryOfMeanValue(d_structureNumber_freeze_thaw)"
   ]
  },
  {
   "cell_type": "markdown",
   "metadata": {},
   "source": [
    "### Importing NBI data"
   ]
  },
  {
   "cell_type": "code",
   "execution_count": 6,
   "metadata": {},
   "outputs": [],
   "source": [
    "csv_file = \"../data-generation/04-28-19-thesis-dataset-without-outliers_allstates\"\n",
    "df_wo = pd.read_csv(csv_file, index_col = 0)"
   ]
  },
  {
   "cell_type": "markdown",
   "metadata": {},
   "source": [
    "### Data Preprocessing"
   ]
  },
  {
   "cell_type": "code",
   "execution_count": 7,
   "metadata": {},
   "outputs": [],
   "source": [
    "df_wo = df_wo[df_wo['No Change structure length'] == True]\n",
    "df_wo = df_wo[~df_wo['Structure Length'].isin([-1,0, ])]\n",
    "df_wo = df_wo[df_wo['Structure Length']>6]"
   ]
  },
  {
   "cell_type": "code",
   "execution_count": 8,
   "metadata": {},
   "outputs": [],
   "source": [
    "NE = df_wo[df_wo['State Code'] == 31]\n",
    "NE['SN'] = [structureNumber[:-2] for structureNumber in NE['Structure Number']]\n",
    "NE['No. of Freeze Thaw'] = NE['SN'].map(d_freeze_thaw) \n",
    "NE_clean = NE.dropna()"
   ]
  },
  {
   "cell_type": "code",
   "execution_count": 9,
   "metadata": {},
   "outputs": [
    {
     "data": {
      "text/plain": [
       "(8859, 30)"
      ]
     },
     "execution_count": 9,
     "metadata": {},
     "output_type": "execute_result"
    }
   ],
   "source": [
    "NE_clean.shape"
   ]
  },
  {
   "cell_type": "markdown",
   "metadata": {},
   "source": [
    "## Data visualization "
   ]
  },
  {
   "cell_type": "code",
   "execution_count": 12,
   "metadata": {},
   "outputs": [
    {
     "data": {
      "image/png": "[encoded data removed]",
      "text/plain": [
       "<matplotlib.figure.Figure at 0x1a36ca2f60>"
      ]
     },
     "metadata": {},
     "output_type": "display_data"
    }
   ],
   "source": [
    "# mean_freezethaw = list(d_freeze_thaw.values())\n",
    "# Q1 = NE_clean['No. of Freeze Thaw'].quantile(0.25)\n",
    "# Q3 = NE_clean['No. of Freeze Thaw'].quantile(0.75)\n",
    "# IQR = Q3 - Q1\n",
    "\n",
    "# df_new = NE_clean[NE_clean['No. of Freeze Thaw'] < (Q3+1.5*IQR)]\n",
    "# df_anova = df_new[df_new['No. of Freeze Thaw'] > (Q1+1.5*IQR)]\n",
    "\n",
    "plt.figure(figsize=(12,10))\n",
    "plt.subplots_adjust(bottom=0.025, left=0.025, top = 0.9, right=0.975)\n",
    "plt.suptitle(\"Distribution of the Mean Freeze Thaw\", fontsize = 20, fontweight = 'bold')\n",
    "sns.set(font_scale=2)\n",
    "plt.subplot(1,2,1)\n",
    "sns.boxplot(x = NE_clean['No. of Freeze Thaw'],  color = 'Green', orient='v', width = 0.25)\n",
    "plt.ylabel(\"No. of Mean Freeze Thaw\", fontsize = 20, fontweight = \"bold\")\n",
    "\n",
    "plt.subplot(1,2,2)\n",
    "sns.stripplot(y= NE_clean['No. of Freeze Thaw'], jitter=True, color=\".3\")\n",
    "plt.show()"
   ]
  },
  {
   "cell_type": "code",
   "execution_count": 14,
   "metadata": {},
   "outputs": [],
   "source": [
    "NE_clean['freezethaw'] = pd.qcut(NE_clean['No. of Freeze Thaw'],[0, .05, .95, 1.], labels = ['Very Low','Medium','Very High'])\n",
    "\n",
    "df_anova = NE_clean[['Baseline Difference Score', 'ADT Category','ADTT Category','Avg. Daily Precipitation', 'State Code',\n",
    "                       'Material','Structure Type', 'Maintainer','freezethaw', 'No. of Freeze Thaw']]\n",
    "\n",
    "\n",
    "df_anova = df_anova.rename(index=str, columns={\"Baseline Difference Score\": \"score\", \\\n",
    "                                               \"ADT Category\": \"adt\", \\\n",
    "                                               \"ADTT Category\": \"adtt\",\\\n",
    "                                               \"Avg. Daily Precipitation\": \"precp\", \\\n",
    "                                               \"State Code\":\"region\", \\\n",
    "                                               \"Material\":\"material\",\\\n",
    "                                               \"Structure Type\":\"structuretype\",\\\n",
    "                                               \"Maintainer\":\"maintainer\",\\\n",
    "                                               'freezethaw':'freezethaw',\\\n",
    "                                               'No. of Freeze Thaw':'numfreezethaw'\n",
    "                                               \n",
    "                                              })"
   ]
  },
  {
   "cell_type": "markdown",
   "metadata": {},
   "source": [
    "### Number of records after removing outliers "
   ]
  },
  {
   "cell_type": "code",
   "execution_count": 15,
   "metadata": {},
   "outputs": [
    {
     "data": {
      "text/plain": [
       "(8859, 10)"
      ]
     },
     "execution_count": 15,
     "metadata": {},
     "output_type": "execute_result"
    }
   ],
   "source": [
    "df_anova.shape"
   ]
  },
  {
   "cell_type": "markdown",
   "metadata": {},
   "source": [
    "### Bar chart"
   ]
  },
  {
   "cell_type": "code",
   "execution_count": 16,
   "metadata": {},
   "outputs": [
    {
     "data": {
      "image/png": "[encoded data removed]",
      "text/plain": [
       "<matplotlib.figure.Figure at 0x1a335e9780>"
      ]
     },
     "metadata": {},
     "output_type": "display_data"
    }
   ],
   "source": [
    "count_freezethaw = df_anova.groupby('freezethaw')['score'].count()\n",
    "\n",
    "# Plotting \n",
    "plt.figure(figsize=(8,8))\n",
    "plt.suptitle(\"Mean No. of Freeze Thaw\", fontsize = 20, fontweight = 'bold')\n",
    "sns.set(font_scale=2)\n",
    "\n",
    "#Subplot 1\n",
    "labels = [\"Very Low\", \"Very High\"]\n",
    "no_of_records = [count_freezethaw[0], count_freezethaw[2]]\n",
    "plt.bar(labels, no_of_records, align = 'center', alpha = 0.5, color = ['crimson','teal'])\n",
    "plt.xticks(size = 20, rotation = 0)\n",
    "plt.yticks(size = 20)\n",
    "plt.xlabel(\"Freeze Thaw\", fontweight = 'bold', fontsize = 20)\n",
    "plt.ylabel(\"Number of Bridges\", fontweight = 'bold', fontsize = 20)\n",
    "plt.show()"
   ]
  },
  {
   "cell_type": "markdown",
   "metadata": {},
   "source": [
    "#### Small sample analysis"
   ]
  },
  {
   "cell_type": "code",
   "execution_count": 17,
   "metadata": {},
   "outputs": [
    {
     "data": {
      "text/html": [
       "<div>\n",
       "<style scoped>\n",
       "    .dataframe tbody tr th:only-of-type {\n",
       "        vertical-align: middle;\n",
       "    }\n",
       "\n",
       "    .dataframe tbody tr th {\n",
       "        vertical-align: top;\n",
       "    }\n",
       "\n",
       "    .dataframe thead th {\n",
       "        text-align: right;\n",
       "    }\n",
       "</style>\n",
       "<table border=\"1\" class=\"dataframe\">\n",
       "  <thead>\n",
       "    <tr style=\"text-align: right;\">\n",
       "      <th></th>\n",
       "      <th>sum_sq</th>\n",
       "      <th>df</th>\n",
       "      <th>F</th>\n",
       "      <th>PR(&gt;F)</th>\n",
       "      <th>eta_sq</th>\n",
       "      <th>omega_sq</th>\n",
       "    </tr>\n",
       "  </thead>\n",
       "  <tbody>\n",
       "    <tr>\n",
       "      <th>C(freezethaw)</th>\n",
       "      <td>16.406697</td>\n",
       "      <td>1.0</td>\n",
       "      <td>19.475986</td>\n",
       "      <td>0.000017</td>\n",
       "      <td>0.089555</td>\n",
       "      <td>0.084568</td>\n",
       "    </tr>\n",
       "    <tr>\n",
       "      <th>Residual</th>\n",
       "      <td>166.796488</td>\n",
       "      <td>198.0</td>\n",
       "      <td>NaN</td>\n",
       "      <td>NaN</td>\n",
       "      <td>NaN</td>\n",
       "      <td>NaN</td>\n",
       "    </tr>\n",
       "  </tbody>\n",
       "</table>\n",
       "</div>"
      ],
      "text/plain": [
       "                   sum_sq     df          F    PR(>F)    eta_sq  omega_sq\n",
       "C(freezethaw)   16.406697    1.0  19.475986  0.000017  0.089555  0.084568\n",
       "Residual       166.796488  198.0        NaN       NaN       NaN       NaN"
      ]
     },
     "execution_count": 17,
     "metadata": {},
     "output_type": "execute_result"
    }
   ],
   "source": [
    "freezethaw = df_anova.groupby('freezethaw').apply(lambda s: s.sample(100))['freezethaw'].tolist()\n",
    "score = df_anova.groupby('freezethaw').apply(lambda s: s.sample(100))['score'].tolist()\n",
    "df_freezethaw_sample_100 = pd.DataFrame({'freezethaw':freezethaw, 'score':score})\n",
    "df_freezethaw_100 = df_freezethaw_sample_100[df_freezethaw_sample_100['freezethaw'].isin(['Very Low', 'Very High'])]\n",
    "\n",
    "formula = 'score ~ C(freezethaw)'\n",
    "freezethaw_undersample = undersample(df_freezethaw_100, 'freezethaw')\n",
    "aov(freezethaw_undersample, formula)"
   ]
  },
  {
   "cell_type": "markdown",
   "metadata": {},
   "source": [
    "#### Large sample analysis"
   ]
  },
  {
   "cell_type": "code",
   "execution_count": 18,
   "metadata": {},
   "outputs": [
    {
     "data": {
      "text/html": [
       "<div>\n",
       "<style scoped>\n",
       "    .dataframe tbody tr th:only-of-type {\n",
       "        vertical-align: middle;\n",
       "    }\n",
       "\n",
       "    .dataframe tbody tr th {\n",
       "        vertical-align: top;\n",
       "    }\n",
       "\n",
       "    .dataframe thead th {\n",
       "        text-align: right;\n",
       "    }\n",
       "</style>\n",
       "<table border=\"1\" class=\"dataframe\">\n",
       "  <thead>\n",
       "    <tr style=\"text-align: right;\">\n",
       "      <th></th>\n",
       "      <th>sum_sq</th>\n",
       "      <th>df</th>\n",
       "      <th>F</th>\n",
       "      <th>PR(&gt;F)</th>\n",
       "      <th>eta_sq</th>\n",
       "      <th>omega_sq</th>\n",
       "    </tr>\n",
       "  </thead>\n",
       "  <tbody>\n",
       "    <tr>\n",
       "      <th>C(freezethaw)</th>\n",
       "      <td>82.955705</td>\n",
       "      <td>1.0</td>\n",
       "      <td>103.078631</td>\n",
       "      <td>6.755589e-23</td>\n",
       "      <td>0.111427</td>\n",
       "      <td>0.110227</td>\n",
       "    </tr>\n",
       "    <tr>\n",
       "      <th>Residual</th>\n",
       "      <td>661.529837</td>\n",
       "      <td>822.0</td>\n",
       "      <td>NaN</td>\n",
       "      <td>NaN</td>\n",
       "      <td>NaN</td>\n",
       "      <td>NaN</td>\n",
       "    </tr>\n",
       "  </tbody>\n",
       "</table>\n",
       "</div>"
      ],
      "text/plain": [
       "                   sum_sq     df           F        PR(>F)    eta_sq  omega_sq\n",
       "C(freezethaw)   82.955705    1.0  103.078631  6.755589e-23  0.111427  0.110227\n",
       "Residual       661.529837  822.0         NaN           NaN       NaN       NaN"
      ]
     },
     "execution_count": 18,
     "metadata": {},
     "output_type": "execute_result"
    }
   ],
   "source": [
    "samplesize = min(df_anova.groupby(['freezethaw'])['freezethaw'].count())\n",
    "freezethaw = df_anova.groupby('freezethaw').apply(lambda s: s.sample(samplesize))['freezethaw'].tolist()\n",
    "score = df_anova.groupby('freezethaw').apply(lambda s: s.sample(samplesize))['score'].tolist()\n",
    "df_freezethaw_sample_45121 = pd.DataFrame({'freezethaw':freezethaw, 'score':score})\n",
    "df_freezethaw_45121 = df_freezethaw_sample_45121[df_freezethaw_sample_45121['freezethaw'].isin(['Very Low', 'Very High'])]\n",
    "\n",
    "formula = 'score ~ C(freezethaw)'\n",
    "freezethaw_undersample = undersample(df_freezethaw_45121, 'freezethaw')\n",
    "aov(freezethaw_undersample, formula)"
   ]
  }
 ],
 "metadata": {
  "kernelspec": {
   "display_name": "Python 3",
   "language": "python",
   "name": "python3"
  },
  "language_info": {
   "codemirror_mode": {
    "name": "ipython",
    "version": 3
   },
   "file_extension": ".py",
   "mimetype": "text/x-python",
   "name": "python",
   "nbconvert_exporter": "python",
   "pygments_lexer": "ipython3",
   "version": "3.6.4"
  }
 },
 "nbformat": 4,
 "nbformat_minor": 2
}
