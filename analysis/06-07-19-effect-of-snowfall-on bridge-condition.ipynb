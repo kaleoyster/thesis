{
 "cells": [
  {
   "cell_type": "code",
   "execution_count": 1,
   "metadata": {},
   "outputs": [],
   "source": [
    "import pymongo\n",
    "from pymongo import MongoClient\n",
    "import time\n",
    "import pandas as pd\n",
    "import numpy as np\n",
    "import seaborn as sns\n",
    "import matplotlib.pyplot as plt\n",
    "import csv\n",
    "from sklearn import preprocessing\n",
    "import warnings\n",
    "import sys\n",
    "import os\n",
    "def nbipath():\n",
    "    os.chdir('..')\n",
    "    path = os.getcwd()+'/nbi'\n",
    "    return path \n",
    "\n",
    "sys.path.insert(0, nbipath())\n",
    "from nbi1 import *\n",
    "\n",
    "from numpy.random import randn\n",
    "from scipy.stats import anderson\n",
    "from scipy.stats import normaltest\n",
    "from statsmodels.graphics.gofplots import qqplot\n",
    "from matplotlib import pyplot\n",
    "import scipy\n",
    "\n",
    "from statsmodels.formula.api import ols\n",
    "from statsmodels.stats.anova import anova_lm\n",
    "from statsmodels.graphics.factorplots import interaction_plot\n",
    "from scipy import stats\n",
    "\n",
    "\n",
    "import matplotlib.patches as mpatches\n",
    "import matplotlib.pyplot as plt\n",
    "import matplotlib.lines as mlines\n",
    "\n",
    "warnings.filterwarnings('ignore')"
   ]
  },
  {
   "cell_type": "code",
   "execution_count": 2,
   "metadata": {},
   "outputs": [],
   "source": [
    "def eta_squared(aov):\n",
    "    aov['eta_sq'] = 'NaN'\n",
    "    aov['eta_sq'] = aov[:-1]['sum_sq']/sum(aov['sum_sq'])\n",
    "    return aov\n",
    " \n",
    "def omega_squared(aov):\n",
    "    mse = aov['sum_sq'][-1]/aov['df'][-1]\n",
    "    aov['omega_sq'] = 'NaN'\n",
    "    aov['omega_sq'] = (aov[:-1]['sum_sq']-(aov[:-1]['df']*mse))/(sum(aov['sum_sq'])+mse)\n",
    "    return aov\n",
    "\n",
    "def undersample(df, keyword):\n",
    "    \"\"\"\n",
    "    It will take a dataframe and a keyword to groupby\n",
    "    :input: df: Dataframe\n",
    "            Key-word: column to groupby\n",
    "            \n",
    "    :return: undersample_df: Datafram\n",
    "    \n",
    "    \"\"\"\n",
    "    groupby_df = df.groupby([keyword]).count()\n",
    "    count = min(groupby_df[groupby_df.columns[0]].tolist())\n",
    "    \n",
    "    tempdf_list = []\n",
    "\n",
    "    for index in df[keyword].unique():\n",
    "        tempdf_list.append(df[df[keyword] == index].sample(count)) ## Count\n",
    "    \n",
    "    undersample_df = pd.concat(tempdf_list)\n",
    "    \n",
    "    return undersample_df\n",
    "\n",
    "def aov(df, formula):\n",
    "    \"\"\"\n",
    "    :input: df: DataFrame\n",
    "            formula: \n",
    "    \n",
    "    :return: \n",
    "            Table\n",
    "    \"\"\"  \n",
    "    model = ols(formula, df).fit()\n",
    "    aov_table = anova_lm(model, typ=2)\n",
    "\n",
    "    eta_squared(aov_table)\n",
    "    return omega_squared(aov_table)\n",
    "    \n",
    "def createDictionary(dataframe_col1, dataframe_col2):\n",
    "    \"\"\"\n",
    "    returns dictionary of structure number as key and and list of attribute belonging  to structure number\n",
    "    :rtype: dictionary\n",
    "    \n",
    "    \"\"\"\n",
    "    # initialize the dictionary\n",
    "    dictionary = {structure_number:[] for structure_number in snowfall_csv['structure_number']}\n",
    "    \n",
    "    for structure_number, value in zip(dataframe_col1, dataframe_col2):\n",
    "        dictionary[structure_number].append(value)\n",
    "    return dictionary\n",
    "\n",
    "\n",
    "def createDictionaryOfMeanValue(dictionary):\n",
    "    \"\"\"\n",
    "    returns dictionary of structure number as key and and mean values in corresponding to the structure number\n",
    "    :rtype: dictionary\n",
    "    \n",
    "    \"\"\"\n",
    "    dictionary_new = {}\n",
    "    \n",
    "    for key, value in dictionary.items():\n",
    "        mean_value = np.mean(value)\n",
    "        dictionary_new[key] = mean_value\n",
    "        \n",
    "    return dictionary_new\n",
    "\n",
    "def createDictionaryOfFirstValue(dictionary):\n",
    "    dictionary_new = {}\n",
    "    \n",
    "    for key, value in dictionary.items():\n",
    "        value = value[0]\n",
    "        dictionary_new[key] = value\n",
    "        \n",
    "    return dictionary_new\n",
    "\n"
   ]
  },
  {
   "cell_type": "markdown",
   "metadata": {},
   "source": [
    "### Importing data"
   ]
  },
  {
   "cell_type": "code",
   "execution_count": 3,
   "metadata": {},
   "outputs": [],
   "source": [
    "snowfall_csv = pd.read_csv('/Users/AkshayKale/Documents/github/data/freezethaw-snowfall/freezethaw-snowfall-allstates-allyears.csv', index_col=0)\n",
    "d_structureNumber_county = createDictionary(snowfall_csv['structure_number'],snowfall_csv['COUNTY_NAME'])\n",
    "d_structureNumber_freeze_thaw = createDictionary(snowfall_csv['structure_number'],snowfall_csv['NO_OF_FREEZE_THAW_CYCLES'])\n",
    "d_structureNumber_no_of_snowfall = createDictionary(snowfall_csv['structure_number'],snowfall_csv['no_of_snowfalls'])"
   ]
  },
  {
   "cell_type": "code",
   "execution_count": 4,
   "metadata": {},
   "outputs": [
    {
     "data": {
      "text/html": [
       "<div>\n",
       "<style scoped>\n",
       "    .dataframe tbody tr th:only-of-type {\n",
       "        vertical-align: middle;\n",
       "    }\n",
       "\n",
       "    .dataframe tbody tr th {\n",
       "        vertical-align: top;\n",
       "    }\n",
       "\n",
       "    .dataframe thead th {\n",
       "        text-align: right;\n",
       "    }\n",
       "</style>\n",
       "<table border=\"1\" class=\"dataframe\">\n",
       "  <thead>\n",
       "    <tr style=\"text-align: right;\">\n",
       "      <th></th>\n",
       "      <th>state_code</th>\n",
       "      <th>structure_number</th>\n",
       "      <th>county_code</th>\n",
       "      <th>COUNTY_NAME</th>\n",
       "      <th>Year</th>\n",
       "      <th>NO_OF_FREEZE_THAW_CYCLES</th>\n",
       "      <th>no_of_snowfalls</th>\n",
       "    </tr>\n",
       "  </thead>\n",
       "  <tbody>\n",
       "    <tr>\n",
       "      <th>1</th>\n",
       "      <td>27</td>\n",
       "      <td>000032540-00033</td>\n",
       "      <td>1.0</td>\n",
       "      <td>Aitkin County</td>\n",
       "      <td>1980.0</td>\n",
       "      <td>69.0</td>\n",
       "      <td>130.0</td>\n",
       "    </tr>\n",
       "    <tr>\n",
       "      <th>2</th>\n",
       "      <td>27</td>\n",
       "      <td>000032540-00033</td>\n",
       "      <td>1.0</td>\n",
       "      <td>Aitkin County</td>\n",
       "      <td>1981.0</td>\n",
       "      <td>89.0</td>\n",
       "      <td>108.0</td>\n",
       "    </tr>\n",
       "    <tr>\n",
       "      <th>3</th>\n",
       "      <td>27</td>\n",
       "      <td>000032540-00033</td>\n",
       "      <td>1.0</td>\n",
       "      <td>Aitkin County</td>\n",
       "      <td>1982.0</td>\n",
       "      <td>58.0</td>\n",
       "      <td>125.0</td>\n",
       "    </tr>\n",
       "    <tr>\n",
       "      <th>4</th>\n",
       "      <td>27</td>\n",
       "      <td>000032540-00033</td>\n",
       "      <td>1.0</td>\n",
       "      <td>Aitkin County</td>\n",
       "      <td>1983.0</td>\n",
       "      <td>76.0</td>\n",
       "      <td>130.0</td>\n",
       "    </tr>\n",
       "    <tr>\n",
       "      <th>5</th>\n",
       "      <td>27</td>\n",
       "      <td>000032540-00033</td>\n",
       "      <td>1.0</td>\n",
       "      <td>Aitkin County</td>\n",
       "      <td>1984.0</td>\n",
       "      <td>81.0</td>\n",
       "      <td>115.0</td>\n",
       "    </tr>\n",
       "    <tr>\n",
       "      <th>6</th>\n",
       "      <td>27</td>\n",
       "      <td>000032540-00033</td>\n",
       "      <td>1.0</td>\n",
       "      <td>Aitkin County</td>\n",
       "      <td>1985.0</td>\n",
       "      <td>85.0</td>\n",
       "      <td>124.0</td>\n",
       "    </tr>\n",
       "    <tr>\n",
       "      <th>7</th>\n",
       "      <td>27</td>\n",
       "      <td>000032540-00033</td>\n",
       "      <td>1.0</td>\n",
       "      <td>Aitkin County</td>\n",
       "      <td>1986.0</td>\n",
       "      <td>68.0</td>\n",
       "      <td>131.0</td>\n",
       "    </tr>\n",
       "    <tr>\n",
       "      <th>8</th>\n",
       "      <td>27</td>\n",
       "      <td>000032540-00033</td>\n",
       "      <td>1.0</td>\n",
       "      <td>Aitkin County</td>\n",
       "      <td>1987.0</td>\n",
       "      <td>96.0</td>\n",
       "      <td>88.0</td>\n",
       "    </tr>\n",
       "    <tr>\n",
       "      <th>9</th>\n",
       "      <td>27</td>\n",
       "      <td>000032540-00033</td>\n",
       "      <td>1.0</td>\n",
       "      <td>Aitkin County</td>\n",
       "      <td>1988.0</td>\n",
       "      <td>82.0</td>\n",
       "      <td>123.0</td>\n",
       "    </tr>\n",
       "    <tr>\n",
       "      <th>10</th>\n",
       "      <td>27</td>\n",
       "      <td>000032540-00033</td>\n",
       "      <td>1.0</td>\n",
       "      <td>Aitkin County</td>\n",
       "      <td>1989.0</td>\n",
       "      <td>70.0</td>\n",
       "      <td>133.0</td>\n",
       "    </tr>\n",
       "  </tbody>\n",
       "</table>\n",
       "</div>"
      ],
      "text/plain": [
       "   state_code structure_number  county_code    COUNTY_NAME    Year  \\\n",
       "1          27  000032540-00033          1.0  Aitkin County  1980.0   \n",
       "2          27  000032540-00033          1.0  Aitkin County  1981.0   \n",
       "3          27  000032540-00033          1.0  Aitkin County  1982.0   \n",
       "4          27  000032540-00033          1.0  Aitkin County  1983.0   \n",
       "5          27  000032540-00033          1.0  Aitkin County  1984.0   \n",
       "6          27  000032540-00033          1.0  Aitkin County  1985.0   \n",
       "7          27  000032540-00033          1.0  Aitkin County  1986.0   \n",
       "8          27  000032540-00033          1.0  Aitkin County  1987.0   \n",
       "9          27  000032540-00033          1.0  Aitkin County  1988.0   \n",
       "10         27  000032540-00033          1.0  Aitkin County  1989.0   \n",
       "\n",
       "    NO_OF_FREEZE_THAW_CYCLES  no_of_snowfalls  \n",
       "1                       69.0            130.0  \n",
       "2                       89.0            108.0  \n",
       "3                       58.0            125.0  \n",
       "4                       76.0            130.0  \n",
       "5                       81.0            115.0  \n",
       "6                       85.0            124.0  \n",
       "7                       68.0            131.0  \n",
       "8                       96.0             88.0  \n",
       "9                       82.0            123.0  \n",
       "10                      70.0            133.0  "
      ]
     },
     "execution_count": 4,
     "metadata": {},
     "output_type": "execute_result"
    }
   ],
   "source": [
    "snowfall_csv.head(10)"
   ]
  },
  {
   "cell_type": "markdown",
   "metadata": {},
   "source": [
    "### Creating dictionary of structure number as key and snowfall, county, and freeze thaw as value"
   ]
  },
  {
   "cell_type": "code",
   "execution_count": 5,
   "metadata": {},
   "outputs": [],
   "source": [
    "d_snowfall = createDictionaryOfMeanValue(d_structureNumber_no_of_snowfall)"
   ]
  },
  {
   "cell_type": "markdown",
   "metadata": {},
   "source": [
    "### Importing NBI records "
   ]
  },
  {
   "cell_type": "code",
   "execution_count": 6,
   "metadata": {},
   "outputs": [],
   "source": [
    "csv_file = \"/Users/AkshayKale/Documents/github/data/nbi/06-20-19-thesis-dataset-without-outliers_allstates\"\n",
    "df_wo = pd.read_csv(csv_file, index_col = 0)"
   ]
  },
  {
   "cell_type": "markdown",
   "metadata": {},
   "source": [
    "## Selecting bridges with no change in structure length over time"
   ]
  },
  {
   "cell_type": "markdown",
   "metadata": {},
   "source": [
    "### Shape of the databframe"
   ]
  },
  {
   "cell_type": "code",
   "execution_count": 7,
   "metadata": {},
   "outputs": [
    {
     "data": {
      "text/plain": [
       "(292457, 30)"
      ]
     },
     "execution_count": 7,
     "metadata": {},
     "output_type": "execute_result"
    }
   ],
   "source": [
    "df_wo[df_wo['No Change structure length'] == True].shape"
   ]
  },
  {
   "cell_type": "markdown",
   "metadata": {},
   "source": [
    "### Selecting bridges with no change in structure length"
   ]
  },
  {
   "cell_type": "code",
   "execution_count": 8,
   "metadata": {},
   "outputs": [],
   "source": [
    "df_wo = df_wo[df_wo['No Change structure length'] == True]\n",
    "df_wo = df_wo[~df_wo['Structure Length'].isin([-1,0, ])]\n",
    "df_wo = df_wo[df_wo['Structure Length']>6]"
   ]
  },
  {
   "cell_type": "markdown",
   "metadata": {},
   "source": [
    "### Removing null values"
   ]
  },
  {
   "cell_type": "code",
   "execution_count": 9,
   "metadata": {},
   "outputs": [],
   "source": [
    "df_wo = df_wo[~df_wo['Structure Length'].isin([-1,0, ])]"
   ]
  },
  {
   "cell_type": "markdown",
   "metadata": {},
   "source": [
    "### Selecting bridges only with the structure length greater than 6 "
   ]
  },
  {
   "cell_type": "code",
   "execution_count": 10,
   "metadata": {},
   "outputs": [],
   "source": [
    "df_wo = df_wo[df_wo['Structure Length']>6]"
   ]
  },
  {
   "cell_type": "markdown",
   "metadata": {},
   "source": [
    "### Select records from Nebraska"
   ]
  },
  {
   "cell_type": "code",
   "execution_count": 11,
   "metadata": {},
   "outputs": [
    {
     "name": "stdout",
     "output_type": "stream",
     "text": [
      "(8865, 32)\n",
      "(4413, 32)\n"
     ]
    }
   ],
   "source": [
    "# select records only with state code 31 (Nebraska)\n",
    "NE = df_wo[df_wo['State Code'] == 31]\n",
    "#NE = df_wo\n",
    "\n",
    "# creating a new column for structure numbers\n",
    "NE['SN'] = [structureNumber[:-2] for structureNumber in NE['Structure Number']]\n",
    "NE['No. of Snow Fall'] = NE['SN'].map(d_snowfall)\n",
    "\n",
    "# drop all rows with any null value\n",
    "NE_clean = NE.dropna()\n",
    "\n",
    "print(NE_clean.shape)\n",
    "low, high = NE_clean['No. of Snow Fall'].quantile([0.25,0.75])\n",
    "NE_clean = NE_clean.loc[(NE_clean['No. of Snow Fall'] > low) & (NE_clean['No. of Snow Fall'] < high)]\n",
    "print(NE_clean.shape)\n",
    "# categorizing snowfall into very low, medium, and hard\n",
    "NE_clean['snowfall'] = pd.qcut(NE_clean['No. of Snow Fall'],[0, .05, .95, 1.], labels = ['Very Low','Medium','Very High'])"
   ]
  },
  {
   "cell_type": "markdown",
   "metadata": {},
   "source": [
    "### Understanding the distirbution of the Mean Snowfall in the state of Nebraska with respect to bridges"
   ]
  },
  {
   "cell_type": "code",
   "execution_count": 12,
   "metadata": {},
   "outputs": [
    {
     "data": {
      "image/png": "[encoded data removed]",
      "text/plain": [
       "<matplotlib.figure.Figure at 0x1abb508f60>"
      ]
     },
     "metadata": {},
     "output_type": "display_data"
    }
   ],
   "source": [
    "# creating a list of mean snowfall values\n",
    "mean_snowfall = list(d_snowfall.values())\n",
    "\n",
    "# Plotting distribution of the mean snowfall\n",
    "plt.figure(figsize=(12,10))\n",
    "plt.subplots_adjust(bottom=0.025, left=0.025, top = 0.9, right=0.975)\n",
    "plt.suptitle(\"Distribution of the the Mean Number of Snowfall\", fontsize = 20, fontweight = 'bold')\n",
    "sns.set(font_scale=2)\n",
    "\n",
    "plt.subplot(1,2,1)\n",
    "sns.boxplot(x = mean_snowfall,  color = 'blue', orient='v', width = 0.25)\n",
    "plt.ylabel(\"No. of Mean Snowfall\", fontsize = 20, fontweight = \"bold\")\n",
    "\n",
    "plt.subplot(1,2,2)\n",
    "sns.stripplot(y= mean_snowfall, jitter=True, color=\".3\")\n",
    "plt.show()"
   ]
  },
  {
   "cell_type": "markdown",
   "metadata": {},
   "source": [
    "### Five point summary of very low snowfall"
   ]
  },
  {
   "cell_type": "markdown",
   "metadata": {},
   "source": [
    "#### Very High Number of Snowfall"
   ]
  },
  {
   "cell_type": "code",
   "execution_count": 13,
   "metadata": {
    "scrolled": false
   },
   "outputs": [
    {
     "data": {
      "text/html": [
       "<div>\n",
       "<style scoped>\n",
       "    .dataframe tbody tr th:only-of-type {\n",
       "        vertical-align: middle;\n",
       "    }\n",
       "\n",
       "    .dataframe tbody tr th {\n",
       "        vertical-align: top;\n",
       "    }\n",
       "\n",
       "    .dataframe thead th {\n",
       "        text-align: right;\n",
       "    }\n",
       "</style>\n",
       "<table border=\"1\" class=\"dataframe\">\n",
       "  <thead>\n",
       "    <tr style=\"text-align: right;\">\n",
       "      <th></th>\n",
       "      <th>No. of Snow Fall</th>\n",
       "    </tr>\n",
       "  </thead>\n",
       "  <tbody>\n",
       "    <tr>\n",
       "      <th>count</th>\n",
       "      <td>186.000000</td>\n",
       "    </tr>\n",
       "    <tr>\n",
       "      <th>mean</th>\n",
       "      <td>63.075410</td>\n",
       "    </tr>\n",
       "    <tr>\n",
       "      <th>std</th>\n",
       "      <td>0.315277</td>\n",
       "    </tr>\n",
       "    <tr>\n",
       "      <th>min</th>\n",
       "      <td>62.684211</td>\n",
       "    </tr>\n",
       "    <tr>\n",
       "      <th>25%</th>\n",
       "      <td>62.921053</td>\n",
       "    </tr>\n",
       "    <tr>\n",
       "      <th>50%</th>\n",
       "      <td>62.921053</td>\n",
       "    </tr>\n",
       "    <tr>\n",
       "      <th>75%</th>\n",
       "      <td>63.447368</td>\n",
       "    </tr>\n",
       "    <tr>\n",
       "      <th>max</th>\n",
       "      <td>63.631579</td>\n",
       "    </tr>\n",
       "  </tbody>\n",
       "</table>\n",
       "</div>"
      ],
      "text/plain": [
       "       No. of Snow Fall\n",
       "count        186.000000\n",
       "mean          63.075410\n",
       "std            0.315277\n",
       "min           62.684211\n",
       "25%           62.921053\n",
       "50%           62.921053\n",
       "75%           63.447368\n",
       "max           63.631579"
      ]
     },
     "execution_count": 13,
     "metadata": {},
     "output_type": "execute_result"
    }
   ],
   "source": [
    "pd.DataFrame(NE_clean[NE_clean['snowfall'] == 'Very High']['No. of Snow Fall'].describe())"
   ]
  },
  {
   "cell_type": "markdown",
   "metadata": {},
   "source": [
    "#### Very Low Number of Snowfall"
   ]
  },
  {
   "cell_type": "code",
   "execution_count": 14,
   "metadata": {},
   "outputs": [
    {
     "data": {
      "text/html": [
       "<div>\n",
       "<style scoped>\n",
       "    .dataframe tbody tr th:only-of-type {\n",
       "        vertical-align: middle;\n",
       "    }\n",
       "\n",
       "    .dataframe tbody tr th {\n",
       "        vertical-align: top;\n",
       "    }\n",
       "\n",
       "    .dataframe thead th {\n",
       "        text-align: right;\n",
       "    }\n",
       "</style>\n",
       "<table border=\"1\" class=\"dataframe\">\n",
       "  <thead>\n",
       "    <tr style=\"text-align: right;\">\n",
       "      <th></th>\n",
       "      <th>No. of Snow Fall</th>\n",
       "    </tr>\n",
       "  </thead>\n",
       "  <tbody>\n",
       "    <tr>\n",
       "      <th>count</th>\n",
       "      <td>444.000000</td>\n",
       "    </tr>\n",
       "    <tr>\n",
       "      <th>mean</th>\n",
       "      <td>53.178698</td>\n",
       "    </tr>\n",
       "    <tr>\n",
       "      <th>std</th>\n",
       "      <td>0.690833</td>\n",
       "    </tr>\n",
       "    <tr>\n",
       "      <th>min</th>\n",
       "      <td>52.157895</td>\n",
       "    </tr>\n",
       "    <tr>\n",
       "      <th>25%</th>\n",
       "      <td>52.394737</td>\n",
       "    </tr>\n",
       "    <tr>\n",
       "      <th>50%</th>\n",
       "      <td>53.763158</td>\n",
       "    </tr>\n",
       "    <tr>\n",
       "      <th>75%</th>\n",
       "      <td>53.763158</td>\n",
       "    </tr>\n",
       "    <tr>\n",
       "      <th>max</th>\n",
       "      <td>53.763158</td>\n",
       "    </tr>\n",
       "  </tbody>\n",
       "</table>\n",
       "</div>"
      ],
      "text/plain": [
       "       No. of Snow Fall\n",
       "count        444.000000\n",
       "mean          53.178698\n",
       "std            0.690833\n",
       "min           52.157895\n",
       "25%           52.394737\n",
       "50%           53.763158\n",
       "75%           53.763158\n",
       "max           53.763158"
      ]
     },
     "execution_count": 14,
     "metadata": {},
     "output_type": "execute_result"
    }
   ],
   "source": [
    "pd.DataFrame(NE_clean[NE_clean['snowfall'] == 'Very Low']['No. of Snow Fall'].describe())"
   ]
  },
  {
   "cell_type": "markdown",
   "metadata": {},
   "source": [
    "## Statistical Analysis"
   ]
  },
  {
   "cell_type": "code",
   "execution_count": 15,
   "metadata": {},
   "outputs": [],
   "source": [
    "# creating a dataframe\n",
    "df_anova = NE_clean[['Baseline Difference Score', 'ADT Category', 'ADTT Category', 'Avg. Daily Precipitation', 'State Code',\n",
    "                       'Material','Structure Type', 'Maintainer', 'snowfall', 'No. of Snow Fall', 'Longitude', \"Latitude\"]]\n",
    "\n",
    "# renaming columns\n",
    "df_anova = df_anova.rename(index=str, columns={\"Baseline Difference Score\": \"score\", \\\n",
    "                                               \"ADT Category\": \"adt\", \\\n",
    "                                               \"ADTT Category\": \"adtt\",\\\n",
    "                                               \"Avg. Daily Precipitation\": \"precp\", \\\n",
    "                                               \"State Code\":\"region\", \\\n",
    "                                               \"Material\":\"material\",\\\n",
    "                                               \"Structure Type\":\"structuretype\",\\\n",
    "                                               \"Maintainer\":\"maintainer\",\\\n",
    "                                               'snowfall':'snowfall',\\\n",
    "                                               'No. of Snow Fall':'numsnowfall',\\\n",
    "                                               'Latitude':'latitude',\n",
    "                                               'Longitude':'longitude'\n",
    "                                              })"
   ]
  },
  {
   "cell_type": "code",
   "execution_count": 16,
   "metadata": {},
   "outputs": [
    {
     "data": {
      "text/plain": [
       "Index(['Structure Number', 'Age', 'ADT Type', 'ADTT Type', 'Superstructure',\n",
       "       'Avg. Daily Precipitation', 'State Code', 'Average Daily Traffic',\n",
       "       'Owner', 'Maintainer', 'Length Of Maximum Span', 'Structure Length',\n",
       "       'Structure Type', 'Kind Of Material', 'Year', 'Longitude', 'Latitude',\n",
       "       'No Change Span', 'No Change structure length', 'Average ADT',\n",
       "       'ADT Category', 'ADTT Category', 'Length Of Maximum Span Flat',\n",
       "       'Material', 'Year Last', 'Constant', 'Mean Age', 'Deterioration Score',\n",
       "       'Baseline Difference Score', 'Scaled Baseline Difference Score', 'SN',\n",
       "       'No. of Snow Fall', 'snowfall'],\n",
       "      dtype='object')"
      ]
     },
     "execution_count": 16,
     "metadata": {},
     "output_type": "execute_result"
    }
   ],
   "source": [
    "NE_clean.columns"
   ]
  },
  {
   "cell_type": "code",
   "execution_count": 17,
   "metadata": {},
   "outputs": [],
   "source": [
    "def makefloat(items):\n",
    "    \"\"\"\n",
    "       Return a list of float from a list of strings.\n",
    "    \"\"\"\n",
    "    items_int = []\n",
    "    for item in items:\n",
    "        try:\n",
    "            items_int.append(float(item))\n",
    "        except:\n",
    "            pass\n",
    "    return items_int\n",
    "            \n",
    "            \n",
    "def getNonZeroValue(items):\n",
    "    \"\"\"\n",
    "       Returns first non-zero value from the string.\n",
    "    \"\"\"\n",
    "    for item in items:\n",
    "        if item != 0.0:\n",
    "            return item\n",
    "        \n",
    "\n",
    "def parseCoordinate(df_column): \n",
    "    \"\"\"\n",
    "       Returns a list of coordinatenate from list of lists of repeated or null coordinates.\n",
    "    \"\"\"\n",
    "    coordinate = []\n",
    "    for coords in df_column:\n",
    "        list_coords = coords[1:-1].split(',')\n",
    "        list_coords = makefloat(list_coords)\n",
    "        coords = getNonZeroValue(list_coords)     \n",
    "        coordinate.append(coords)\n",
    "    return coordinate\n",
    "\n",
    "df_anova['longitude'] = parseCoordinate(df_anova['longitude'])\n",
    "df_anova['latitude'] = parseCoordinate(df_anova['latitude'])\n",
    "\n",
    "df_anova_mapping = df_anova[['numsnowfall', 'longitude', 'latitude', 'score', 'snowfall']]\n",
    "df_anova_mapping.to_csv('../data/nbi/mapping-snowfall.csv')"
   ]
  },
  {
   "cell_type": "code",
   "execution_count": 18,
   "metadata": {},
   "outputs": [
    {
     "data": {
      "image/png": "[encoded data removed]",
      "text/plain": [
       "<matplotlib.figure.Figure at 0x1abd5bf470>"
      ]
     },
     "metadata": {},
     "output_type": "display_data"
    }
   ],
   "source": [
    "# count of bridges in each category of snowfall\n",
    "count_snowfall = df_anova.groupby('snowfall')['score'].count()\n",
    "\n",
    "# Plotting \n",
    "plt.figure(figsize=(8,8))\n",
    "plt.suptitle(\"Mean No. of Snowfall\", fontsize = 20, fontweight = 'bold')\n",
    "sns.set(font_scale=2)\n",
    "\n",
    "#Subplot 1\n",
    "labels = [\"Very Low\", \"Very High\"]\n",
    "no_of_records = [count_snowfall[0], count_snowfall[2]]\n",
    "plt.bar(labels, no_of_records, align = 'center', alpha = 0.5, color = ['crimson','teal'])\n",
    "plt.xticks(size = 20, rotation = 0)\n",
    "plt.yticks(size = 20)\n",
    "plt.xlabel(\"snowfall\", fontweight = 'bold', fontsize = 20)\n",
    "plt.ylabel(\"Number of Bridges\", fontweight = 'bold', fontsize = 20)\n",
    "plt.show()"
   ]
  },
  {
   "cell_type": "markdown",
   "metadata": {},
   "source": [
    "### Distribution of bridges with very high snowfall and very low snowfall"
   ]
  },
  {
   "cell_type": "code",
   "execution_count": 19,
   "metadata": {},
   "outputs": [
    {
     "data": {
      "image/png": "[encoded data removed]",
      "text/plain": [
       "<matplotlib.figure.Figure at 0x1abd5a2588>"
      ]
     },
     "metadata": {},
     "output_type": "display_data"
    }
   ],
   "source": [
    "# creating a list of scores\n",
    "scores_low = df_anova[df_anova['snowfall'] == 'Very Low']['score']\n",
    "scores_high = df_anova[df_anova['snowfall'] == 'Very High']['score']\n",
    "scores_snowfall = [scores_low,scores_high]\n",
    "\n",
    "\n",
    "green_line = mlines.Line2D([], [], color='Green',\n",
    "                          markersize=15, label='Median')\n",
    "red_triangle = mlines.Line2D([], [], color='Red', marker='^',\n",
    "                          markersize=15, label='Mean')\n",
    "\n",
    "# Plotting \n",
    "plt.figure(figsize=(12,8))\n",
    "plt.subplots_adjust(bottom=0, left=0.025, top = 0.9, right=0.975)\n",
    "plt.suptitle(\"No. of Snowfall\", fontsize = 20, fontweight = 'bold')\n",
    "sns.set(font_scale=2)\n",
    "\n",
    "plt.boxplot(scores_snowfall, labels = labels, showfliers=True, showmeans=True)\n",
    "plt.xticks(size = 20, rotation = 0)\n",
    "plt.yticks(size = 20)\n",
    "plt.xlabel(\"snowfall\", fontweight = 'bold')\n",
    "plt.ylabel(\"Baseline Difference Score\", fontweight = 'bold')\n",
    "\n",
    "red_patch = mpatches.Patch(color='red', label='The red data')\n",
    "green_patch = mpatches.Patch(color='green', label='The red data')\n",
    "plt.legend(handles=[red_triangle, green_line], loc = 'lower center')\n",
    "\n",
    "plt.show()"
   ]
  },
  {
   "cell_type": "markdown",
   "metadata": {},
   "source": [
    "### Adding new column for material name"
   ]
  },
  {
   "cell_type": "code",
   "execution_count": 20,
   "metadata": {},
   "outputs": [],
   "source": [
    "df_anova['materialname'] = retMaterialNames(df_anova['material'])\n",
    "df_anova = df_anova[df_anova['materialname'].isin(['Concrete', 'Prestressed Concrete','Wood or Timber', 'Steel'])]"
   ]
  },
  {
   "cell_type": "markdown",
   "metadata": {},
   "source": [
    "#### ANOVA - Small Sample"
   ]
  },
  {
   "cell_type": "code",
   "execution_count": 21,
   "metadata": {},
   "outputs": [
    {
     "data": {
      "text/html": [
       "<div>\n",
       "<style scoped>\n",
       "    .dataframe tbody tr th:only-of-type {\n",
       "        vertical-align: middle;\n",
       "    }\n",
       "\n",
       "    .dataframe tbody tr th {\n",
       "        vertical-align: top;\n",
       "    }\n",
       "\n",
       "    .dataframe thead th {\n",
       "        text-align: right;\n",
       "    }\n",
       "</style>\n",
       "<table border=\"1\" class=\"dataframe\">\n",
       "  <thead>\n",
       "    <tr style=\"text-align: right;\">\n",
       "      <th></th>\n",
       "      <th>sum_sq</th>\n",
       "      <th>df</th>\n",
       "      <th>F</th>\n",
       "      <th>PR(&gt;F)</th>\n",
       "      <th>eta_sq</th>\n",
       "      <th>omega_sq</th>\n",
       "    </tr>\n",
       "  </thead>\n",
       "  <tbody>\n",
       "    <tr>\n",
       "      <th>C(snowfall)</th>\n",
       "      <td>3.989274</td>\n",
       "      <td>1.0</td>\n",
       "      <td>6.630986</td>\n",
       "      <td>0.010751</td>\n",
       "      <td>0.032405</td>\n",
       "      <td>0.027384</td>\n",
       "    </tr>\n",
       "    <tr>\n",
       "      <th>Residual</th>\n",
       "      <td>119.118979</td>\n",
       "      <td>198.0</td>\n",
       "      <td>NaN</td>\n",
       "      <td>NaN</td>\n",
       "      <td>NaN</td>\n",
       "      <td>NaN</td>\n",
       "    </tr>\n",
       "  </tbody>\n",
       "</table>\n",
       "</div>"
      ],
      "text/plain": [
       "                 sum_sq     df         F    PR(>F)    eta_sq  omega_sq\n",
       "C(snowfall)    3.989274    1.0  6.630986  0.010751  0.032405  0.027384\n",
       "Residual     119.118979  198.0       NaN       NaN       NaN       NaN"
      ]
     },
     "execution_count": 21,
     "metadata": {},
     "output_type": "execute_result"
    }
   ],
   "source": [
    "#span = df_anova.groupby('snowfall').apply(lambda s: s.sample(100))['snowfall'].tolist()\n",
    "span_list_small = df_anova.groupby('snowfall').apply(lambda s: s.sample(100))\n",
    "span = span_list_small['snowfall'].tolist()\n",
    "\n",
    "score = df_anova.groupby('snowfall').apply(lambda s: s.sample(100))['score'].tolist()\n",
    "df_span_sample_100 = pd.DataFrame({'snowfall':span, 'score':score})\n",
    "df_span_100 = df_span_sample_100[df_span_sample_100['snowfall'].isin(['Very Low', 'Very High'])]\n",
    "\n",
    "formula = 'score ~ C(snowfall)'\n",
    "span_undersample = undersample(df_span_100, 'snowfall')\n",
    "aov(span_undersample, formula)"
   ]
  },
  {
   "cell_type": "markdown",
   "metadata": {},
   "source": [
    "#### ANOVA - Two way "
   ]
  },
  {
   "cell_type": "code",
   "execution_count": 22,
   "metadata": {},
   "outputs": [
    {
     "data": {
      "text/html": [
       "<div>\n",
       "<style scoped>\n",
       "    .dataframe tbody tr th:only-of-type {\n",
       "        vertical-align: middle;\n",
       "    }\n",
       "\n",
       "    .dataframe tbody tr th {\n",
       "        vertical-align: top;\n",
       "    }\n",
       "\n",
       "    .dataframe thead th {\n",
       "        text-align: right;\n",
       "    }\n",
       "</style>\n",
       "<table border=\"1\" class=\"dataframe\">\n",
       "  <thead>\n",
       "    <tr style=\"text-align: right;\">\n",
       "      <th></th>\n",
       "      <th>sum_sq</th>\n",
       "      <th>df</th>\n",
       "      <th>F</th>\n",
       "      <th>PR(&gt;F)</th>\n",
       "      <th>eta_sq</th>\n",
       "      <th>omega_sq</th>\n",
       "    </tr>\n",
       "  </thead>\n",
       "  <tbody>\n",
       "    <tr>\n",
       "      <th>C(snowfall)</th>\n",
       "      <td>3.492668</td>\n",
       "      <td>1.0</td>\n",
       "      <td>5.783341</td>\n",
       "      <td>0.017128</td>\n",
       "      <td>0.028893</td>\n",
       "      <td>0.023778</td>\n",
       "    </tr>\n",
       "    <tr>\n",
       "      <th>C(material)</th>\n",
       "      <td>0.610200</td>\n",
       "      <td>3.0</td>\n",
       "      <td>0.336800</td>\n",
       "      <td>0.798743</td>\n",
       "      <td>0.005048</td>\n",
       "      <td>-0.009890</td>\n",
       "    </tr>\n",
       "    <tr>\n",
       "      <th>C(snowfall):C(material)</th>\n",
       "      <td>0.827283</td>\n",
       "      <td>3.0</td>\n",
       "      <td>0.456619</td>\n",
       "      <td>0.712926</td>\n",
       "      <td>0.006844</td>\n",
       "      <td>-0.008104</td>\n",
       "    </tr>\n",
       "    <tr>\n",
       "      <th>Residual</th>\n",
       "      <td>115.952411</td>\n",
       "      <td>192.0</td>\n",
       "      <td>NaN</td>\n",
       "      <td>NaN</td>\n",
       "      <td>NaN</td>\n",
       "      <td>NaN</td>\n",
       "    </tr>\n",
       "  </tbody>\n",
       "</table>\n",
       "</div>"
      ],
      "text/plain": [
       "                             sum_sq     df         F    PR(>F)    eta_sq  \\\n",
       "C(snowfall)                3.492668    1.0  5.783341  0.017128  0.028893   \n",
       "C(material)                0.610200    3.0  0.336800  0.798743  0.005048   \n",
       "C(snowfall):C(material)    0.827283    3.0  0.456619  0.712926  0.006844   \n",
       "Residual                 115.952411  192.0       NaN       NaN       NaN   \n",
       "\n",
       "                         omega_sq  \n",
       "C(snowfall)              0.023778  \n",
       "C(material)             -0.009890  \n",
       "C(snowfall):C(material) -0.008104  \n",
       "Residual                      NaN  "
      ]
     },
     "execution_count": 22,
     "metadata": {},
     "output_type": "execute_result"
    }
   ],
   "source": [
    "#span = df_anova.groupby('snowfall').apply(lambda s: s.sample(100))['snowfall'].tolist()\n",
    "\n",
    "span_list_small = df_anova.groupby('snowfall').apply(lambda s: s.sample(100))\n",
    "span = span_list_small['snowfall'].tolist()\n",
    "material= span_list_small['material'].tolist()\n",
    "\n",
    "score = df_anova.groupby('snowfall').apply(lambda s: s.sample(100))['score'].tolist()\n",
    "df_span_sample_100 = pd.DataFrame({'snowfall':span, 'score':score, 'material':material})\n",
    "df_span_100 = df_span_sample_100[df_span_sample_100['snowfall'].isin(['Very Low', 'Very High'])]\n",
    "\n",
    "formula = 'score ~ C(snowfall) + C(material) + C(snowfall):C(material)'\n",
    "span_undersample = undersample(df_span_100, 'snowfall')\n",
    "aov(span_undersample, formula)\n"
   ]
  },
  {
   "cell_type": "markdown",
   "metadata": {},
   "source": [
    "### Cohen's d: 0.61"
   ]
  },
  {
   "cell_type": "markdown",
   "metadata": {},
   "source": [
    "#### ANOVA - Large Sample"
   ]
  },
  {
   "cell_type": "code",
   "execution_count": 23,
   "metadata": {},
   "outputs": [
    {
     "data": {
      "text/html": [
       "<div>\n",
       "<style scoped>\n",
       "    .dataframe tbody tr th:only-of-type {\n",
       "        vertical-align: middle;\n",
       "    }\n",
       "\n",
       "    .dataframe tbody tr th {\n",
       "        vertical-align: top;\n",
       "    }\n",
       "\n",
       "    .dataframe thead th {\n",
       "        text-align: right;\n",
       "    }\n",
       "</style>\n",
       "<table border=\"1\" class=\"dataframe\">\n",
       "  <thead>\n",
       "    <tr style=\"text-align: right;\">\n",
       "      <th></th>\n",
       "      <th>sum_sq</th>\n",
       "      <th>df</th>\n",
       "      <th>F</th>\n",
       "      <th>PR(&gt;F)</th>\n",
       "      <th>eta_sq</th>\n",
       "      <th>omega_sq</th>\n",
       "    </tr>\n",
       "  </thead>\n",
       "  <tbody>\n",
       "    <tr>\n",
       "      <th>C(snowfall)</th>\n",
       "      <td>8.205201</td>\n",
       "      <td>1.0</td>\n",
       "      <td>14.762228</td>\n",
       "      <td>0.000148</td>\n",
       "      <td>0.045177</td>\n",
       "      <td>0.041988</td>\n",
       "    </tr>\n",
       "    <tr>\n",
       "      <th>Residual</th>\n",
       "      <td>173.417085</td>\n",
       "      <td>312.0</td>\n",
       "      <td>NaN</td>\n",
       "      <td>NaN</td>\n",
       "      <td>NaN</td>\n",
       "      <td>NaN</td>\n",
       "    </tr>\n",
       "  </tbody>\n",
       "</table>\n",
       "</div>"
      ],
      "text/plain": [
       "                 sum_sq     df          F    PR(>F)    eta_sq  omega_sq\n",
       "C(snowfall)    8.205201    1.0  14.762228  0.000148  0.045177  0.041988\n",
       "Residual     173.417085  312.0        NaN       NaN       NaN       NaN"
      ]
     },
     "execution_count": 23,
     "metadata": {},
     "output_type": "execute_result"
    }
   ],
   "source": [
    "samplesize = min(df_anova.groupby(['snowfall'])['snowfall'].count())\n",
    "#span = df_anova.groupby('snowfall').apply(lambda s: s.sample(samplesize))['snowfall'].tolist()\n",
    "\n",
    "span_list = df_anova.groupby('snowfall').apply(lambda s: s.sample(samplesize))\n",
    "span = span_list['snowfall'].tolist()\n",
    "score = df_anova.groupby('snowfall').apply(lambda s: s.sample(samplesize))['score'].tolist()\n",
    "df_span_sample_45121 = pd.DataFrame({'snowfall':span, 'score':score})\n",
    "df_span_45121 = df_span_sample_45121[df_span_sample_45121['snowfall'].isin(['Very Low', 'Very High'])]\n",
    "\n",
    "formula = 'score ~ C(snowfall)'\n",
    "span_undersample = undersample(df_span_45121, 'snowfall')\n",
    "aov(span_undersample, formula)"
   ]
  },
  {
   "cell_type": "markdown",
   "metadata": {},
   "source": [
    "### Cohen's d: 0.62"
   ]
  },
  {
   "cell_type": "markdown",
   "metadata": {},
   "source": [
    "## Further analysis"
   ]
  },
  {
   "cell_type": "code",
   "execution_count": 24,
   "metadata": {},
   "outputs": [
    {
     "data": {
      "image/png": "[encoded data removed]",
      "text/plain": [
       "<matplotlib.figure.Figure at 0x1abb495400>"
      ]
     },
     "metadata": {},
     "output_type": "display_data"
    }
   ],
   "source": [
    "#scores_high = df_anova[df_anova['snowfall'] == 'Very High']\n",
    "scores_high = span_list_small[span_list_small['snowfall'] == 'Very High']\n",
    "scores_high['materialname'] = retMaterialNames(scores_high['material'])\n",
    "\n",
    "#low_mat = scores_high[scores_high['materialname'].isin([\"Wood or Timber\",\"Concrete\", \"Steel\",\"Prestressed Concrete\"])]\n",
    "low_mat = scores_high[scores_high['materialname'].isin([\"Wood or Timber\",\"Concrete\", \"Steel\",\"Prestressed Concrete\"])]\n",
    "count_mat = low_mat.groupby('materialname')['score'].count()\n",
    "\n",
    "# Plotting \n",
    "plt.figure(figsize=(8,8))\n",
    "plt.suptitle(\"Distribution of bridges with respect to Material Type in Very High Snowfall \", fontsize = 20, fontweight = 'bold')\n",
    "sns.set(font_scale=2)\n",
    "\n",
    "\n",
    "labels = [\"Concrete\", \"Prestressed Concrete\",\\\n",
    "          \"Steel\", \"Wood or Timber\"]\n",
    "\n",
    "no_of_records = count_mat\n",
    "plt.barh(labels, no_of_records, align = 'center', alpha = 0.5, color = ['olive','midnightblue','blue','coral'])\n",
    "plt.xticks(size = 20, rotation = 0)\n",
    "plt.yticks(size = 20)\n",
    "plt.ylabel(\"Material Type\", fontweight = 'bold', fontsize = 20)\n",
    "plt.xlabel(\"Number of Bridges\", fontweight = 'bold', fontsize = 20)\n",
    "plt.show()"
   ]
  },
  {
   "cell_type": "code",
   "execution_count": 25,
   "metadata": {},
   "outputs": [
    {
     "data": {
      "image/png": "[encoded data removed]",
      "text/plain": [
       "<matplotlib.figure.Figure at 0x1abb3991d0>"
      ]
     },
     "metadata": {},
     "output_type": "display_data"
    }
   ],
   "source": [
    "scores_low = span_list[span_list['snowfall'] == 'Very Low']\n",
    "scores_low['materialname'] = retMaterialNames(scores_low['material'])\n",
    "low_mat = scores_low[scores_low['materialname'].isin([\"Wood or Timber\",\"Concrete\", \"Steel\",\"Prestressed Concrete\"])]\n",
    "count_mat = low_mat.groupby('materialname')['score'].count()\n",
    "\n",
    "# Plotting \n",
    "plt.figure(figsize=(8,8))\n",
    "plt.suptitle(\"Distribution of bridges with respect to Material Type in Very Low snowfall\", fontsize = 20, fontweight = 'bold')\n",
    "sns.set(font_scale=2)\n",
    "\n",
    "\n",
    "labels = [\"Concrete\", \"Prestressed Concrete\",\\\n",
    "          \"Steel\", \"Wood or Timber\"]\n",
    "\n",
    "no_of_records = count_mat\n",
    "\n",
    "plt.barh(labels, no_of_records, align = 'center', alpha = 0.5, color = ['olive','midnightblue','blue','coral'])\n",
    "plt.xticks(size = 20, rotation = 0)\n",
    "plt.yticks(size = 20)\n",
    "plt.ylabel(\"Material Type\", fontweight = 'bold', fontsize = 20)\n",
    "plt.xlabel(\"Number of Bridges\", fontweight = 'bold', fontsize = 20)\n",
    "plt.show()"
   ]
  }
 ],
 "metadata": {
  "kernelspec": {
   "display_name": "Python 3",
   "language": "python",
   "name": "python3"
  },
  "language_info": {
   "codemirror_mode": {
    "name": "ipython",
    "version": 3
   },
   "file_extension": ".py",
   "mimetype": "text/x-python",
   "name": "python",
   "nbconvert_exporter": "python",
   "pygments_lexer": "ipython3",
   "version": "3.6.4"
  }
 },
 "nbformat": 4,
 "nbformat_minor": 2
}
