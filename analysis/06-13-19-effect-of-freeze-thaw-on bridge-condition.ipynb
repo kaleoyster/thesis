{
 "cells": [
  {
   "cell_type": "code",
   "execution_count": 1,
   "metadata": {},
   "outputs": [],
   "source": [
    "import pymongo\n",
    "from pymongo import MongoClient\n",
    "import time\n",
    "import pandas as pd\n",
    "import numpy as np\n",
    "import seaborn as sns\n",
    "import matplotlib.pyplot as plt\n",
    "import csv\n",
    "from sklearn import preprocessing\n",
    "from nbi1 import *\n",
    "\n",
    "import warnings\n",
    "from statsmodels.formula.api import ols\n",
    "from statsmodels.stats.anova import anova_lm\n",
    "from statsmodels.graphics.factorplots import interaction_plot\n",
    "from scipy import stats\n",
    "\n",
    "import matplotlib.patches as mpatches\n",
    "import matplotlib.pyplot as plt\n",
    "import matplotlib.lines as mlines\n",
    "\n",
    "warnings.filterwarnings('ignore')\n",
    "                        "
   ]
  },
  {
   "cell_type": "code",
   "execution_count": 2,
   "metadata": {},
   "outputs": [],
   "source": [
    "def eta_squared(aov):\n",
    "    aov['eta_sq'] = 'NaN'\n",
    "    aov['eta_sq'] = aov[:-1]['sum_sq']/sum(aov['sum_sq'])\n",
    "    return aov\n",
    " \n",
    "def omega_squared(aov):\n",
    "    mse = aov['sum_sq'][-1]/aov['df'][-1]\n",
    "    aov['omega_sq'] = 'NaN'\n",
    "    aov['omega_sq'] = (aov[:-1]['sum_sq']-(aov[:-1]['df']*mse))/(sum(aov['sum_sq'])+mse)\n",
    "    return aov\n",
    "\n",
    "def undersample(df, keyword):\n",
    "    \"\"\"\n",
    "    It will take a dataframe and a keyword to groupby\n",
    "    :input: df: Dataframe\n",
    "            Key-word: column to groupby\n",
    "            \n",
    "    :return: undersample_df: Datafram\n",
    "    \n",
    "    \"\"\"\n",
    "    groupby_df = df.groupby([keyword]).count()\n",
    "    count = min(groupby_df[groupby_df.columns[0]].tolist())\n",
    "    \n",
    "    tempdf_list = []\n",
    "\n",
    "    for index in df[keyword].unique():\n",
    "        tempdf_list.append(df[df[keyword] == index].sample(count)) ## Count\n",
    "    \n",
    "    undersample_df = pd.concat(tempdf_list)\n",
    "    \n",
    "    return undersample_df\n",
    "\n",
    "def aov(df, formula):\n",
    "    \"\"\"\n",
    "    :input: df: DataFrame\n",
    "            formula: \n",
    "    \n",
    "    :return: \n",
    "            Table\n",
    "    \"\"\"  \n",
    "    model = ols(formula, df).fit()\n",
    "    aov_table = anova_lm(model, typ=2)\n",
    "\n",
    "    eta_squared(aov_table)\n",
    "    return omega_squared(aov_table)\n",
    "    \n",
    "def createDictionary(dataframe_col1, dataframe_col2):\n",
    "    \"\"\"\n",
    "    returns dictionary of structure number as key and and list of attribute belonging  to structure number\n",
    "    :rtype: dictionary\n",
    "    \n",
    "    \"\"\"\n",
    "    # initialize the dictionary\n",
    "    dictionary = {structure_number:[] for structure_number in dataframe_col1}\n",
    "    \n",
    "    for structure_number, value in zip(dataframe_col1, dataframe_col2):\n",
    "        dictionary[structure_number].append(value)\n",
    "    return dictionary\n",
    "\n",
    "\n",
    "def createDictionaryOfMeanValue(dictionary):\n",
    "    \"\"\"\n",
    "    returns dictionary of structure number as key and and mean values in corresponding to the structure number\n",
    "    :rtype: dictionary\n",
    "    \n",
    "    \"\"\"\n",
    "    dictionary_new = {}\n",
    "    \n",
    "    for key, value in dictionary.items():\n",
    "        mean_value = np.mean(value)\n",
    "        dictionary_new[key] = mean_value\n",
    "        \n",
    "    return dictionary_new\n",
    "\n",
    "def createDictionaryOfFirstValue(dictionary):\n",
    "    dictionary_new = {}\n",
    "    \n",
    "    for key, value in dictionary.items():\n",
    "        value = value[0]\n",
    "        dictionary_new[key] = value\n",
    "        \n",
    "    return dictionary_new\n"
   ]
  },
  {
   "cell_type": "markdown",
   "metadata": {},
   "source": [
    "### Importing dataset"
   ]
  },
  {
   "cell_type": "code",
   "execution_count": 3,
   "metadata": {},
   "outputs": [],
   "source": [
    "df_csv = pd.read_csv('../data-generation/NE_Counties_MERRA_by_bridge.csv', index_col=0)\n",
    "d_structureNumber_county = createDictionary(df_csv['structure_number'],df_csv['COUNTY_NAME'])\n",
    "d_structureNumber_freeze_thaw = createDictionary(df_csv['structure_number'],df_csv['NO_OF_FREEZE_THAW_CYCLES'])"
   ]
  },
  {
   "cell_type": "markdown",
   "metadata": {},
   "source": [
    "### Dataset"
   ]
  },
  {
   "cell_type": "code",
   "execution_count": 4,
   "metadata": {},
   "outputs": [
    {
     "data": {
      "text/html": [
       "<div>\n",
       "<style scoped>\n",
       "    .dataframe tbody tr th:only-of-type {\n",
       "        vertical-align: middle;\n",
       "    }\n",
       "\n",
       "    .dataframe tbody tr th {\n",
       "        vertical-align: top;\n",
       "    }\n",
       "\n",
       "    .dataframe thead th {\n",
       "        text-align: right;\n",
       "    }\n",
       "</style>\n",
       "<table border=\"1\" class=\"dataframe\">\n",
       "  <thead>\n",
       "    <tr style=\"text-align: right;\">\n",
       "      <th></th>\n",
       "      <th>structure_number</th>\n",
       "      <th>county_code</th>\n",
       "      <th>COUNTY_NAME</th>\n",
       "      <th>year</th>\n",
       "      <th>NO_OF_FREEZE_THAW_CYCLES</th>\n",
       "      <th>no_of_snowfalls</th>\n",
       "    </tr>\n",
       "    <tr>\n",
       "      <th>state_code</th>\n",
       "      <th></th>\n",
       "      <th></th>\n",
       "      <th></th>\n",
       "      <th></th>\n",
       "      <th></th>\n",
       "      <th></th>\n",
       "    </tr>\n",
       "  </thead>\n",
       "  <tbody>\n",
       "    <tr>\n",
       "      <th>31</th>\n",
       "      <td>C000100305P</td>\n",
       "      <td>1.0</td>\n",
       "      <td>Adams County</td>\n",
       "      <td>1980.0</td>\n",
       "      <td>115.0</td>\n",
       "      <td>57.0</td>\n",
       "    </tr>\n",
       "    <tr>\n",
       "      <th>31</th>\n",
       "      <td>C000100305P</td>\n",
       "      <td>1.0</td>\n",
       "      <td>Adams County</td>\n",
       "      <td>1981.0</td>\n",
       "      <td>101.0</td>\n",
       "      <td>33.0</td>\n",
       "    </tr>\n",
       "    <tr>\n",
       "      <th>31</th>\n",
       "      <td>C000100305P</td>\n",
       "      <td>1.0</td>\n",
       "      <td>Adams County</td>\n",
       "      <td>1982.0</td>\n",
       "      <td>105.0</td>\n",
       "      <td>56.0</td>\n",
       "    </tr>\n",
       "    <tr>\n",
       "      <th>31</th>\n",
       "      <td>C000100305P</td>\n",
       "      <td>1.0</td>\n",
       "      <td>Adams County</td>\n",
       "      <td>1983.0</td>\n",
       "      <td>99.0</td>\n",
       "      <td>88.0</td>\n",
       "    </tr>\n",
       "    <tr>\n",
       "      <th>31</th>\n",
       "      <td>C000100305P</td>\n",
       "      <td>1.0</td>\n",
       "      <td>Adams County</td>\n",
       "      <td>1984.0</td>\n",
       "      <td>133.0</td>\n",
       "      <td>68.0</td>\n",
       "    </tr>\n",
       "    <tr>\n",
       "      <th>31</th>\n",
       "      <td>C000100305P</td>\n",
       "      <td>1.0</td>\n",
       "      <td>Adams County</td>\n",
       "      <td>1985.0</td>\n",
       "      <td>99.0</td>\n",
       "      <td>62.0</td>\n",
       "    </tr>\n",
       "    <tr>\n",
       "      <th>31</th>\n",
       "      <td>C000100305P</td>\n",
       "      <td>1.0</td>\n",
       "      <td>Adams County</td>\n",
       "      <td>1986.0</td>\n",
       "      <td>112.0</td>\n",
       "      <td>36.0</td>\n",
       "    </tr>\n",
       "    <tr>\n",
       "      <th>31</th>\n",
       "      <td>C000100305P</td>\n",
       "      <td>1.0</td>\n",
       "      <td>Adams County</td>\n",
       "      <td>1987.0</td>\n",
       "      <td>113.0</td>\n",
       "      <td>46.0</td>\n",
       "    </tr>\n",
       "    <tr>\n",
       "      <th>31</th>\n",
       "      <td>C000100305P</td>\n",
       "      <td>1.0</td>\n",
       "      <td>Adams County</td>\n",
       "      <td>1988.0</td>\n",
       "      <td>112.0</td>\n",
       "      <td>43.0</td>\n",
       "    </tr>\n",
       "    <tr>\n",
       "      <th>31</th>\n",
       "      <td>C000100305P</td>\n",
       "      <td>1.0</td>\n",
       "      <td>Adams County</td>\n",
       "      <td>1989.0</td>\n",
       "      <td>110.0</td>\n",
       "      <td>39.0</td>\n",
       "    </tr>\n",
       "  </tbody>\n",
       "</table>\n",
       "</div>"
      ],
      "text/plain": [
       "           structure_number  county_code   COUNTY_NAME    year  \\\n",
       "state_code                                                       \n",
       "31              C000100305P          1.0  Adams County  1980.0   \n",
       "31              C000100305P          1.0  Adams County  1981.0   \n",
       "31              C000100305P          1.0  Adams County  1982.0   \n",
       "31              C000100305P          1.0  Adams County  1983.0   \n",
       "31              C000100305P          1.0  Adams County  1984.0   \n",
       "31              C000100305P          1.0  Adams County  1985.0   \n",
       "31              C000100305P          1.0  Adams County  1986.0   \n",
       "31              C000100305P          1.0  Adams County  1987.0   \n",
       "31              C000100305P          1.0  Adams County  1988.0   \n",
       "31              C000100305P          1.0  Adams County  1989.0   \n",
       "\n",
       "            NO_OF_FREEZE_THAW_CYCLES  no_of_snowfalls  \n",
       "state_code                                             \n",
       "31                             115.0             57.0  \n",
       "31                             101.0             33.0  \n",
       "31                             105.0             56.0  \n",
       "31                              99.0             88.0  \n",
       "31                             133.0             68.0  \n",
       "31                              99.0             62.0  \n",
       "31                             112.0             36.0  \n",
       "31                             113.0             46.0  \n",
       "31                             112.0             43.0  \n",
       "31                             110.0             39.0  "
      ]
     },
     "execution_count": 4,
     "metadata": {},
     "output_type": "execute_result"
    }
   ],
   "source": [
    "df_csv.head(10)"
   ]
  },
  {
   "cell_type": "markdown",
   "metadata": {},
   "source": [
    "### Creating a dictionary"
   ]
  },
  {
   "cell_type": "code",
   "execution_count": 6,
   "metadata": {},
   "outputs": [],
   "source": [
    "d_freeze_thaw = createDictionaryOfMeanValue(d_structureNumber_freeze_thaw)"
   ]
  },
  {
   "cell_type": "code",
   "execution_count": 32,
   "metadata": {},
   "outputs": [],
   "source": [
    "d_county = createDictionaryOfFirstValue(d_structureNumber_county)"
   ]
  },
  {
   "cell_type": "markdown",
   "metadata": {},
   "source": [
    "### Importing NBI data"
   ]
  },
  {
   "cell_type": "code",
   "execution_count": 7,
   "metadata": {},
   "outputs": [],
   "source": [
    "csv_file = \"../data-generation/04-28-19-thesis-dataset-without-outliers_allstates\"\n",
    "df_wo = pd.read_csv(csv_file, index_col = 0)"
   ]
  },
  {
   "cell_type": "markdown",
   "metadata": {},
   "source": [
    "### Data Preprocessing"
   ]
  },
  {
   "cell_type": "code",
   "execution_count": 8,
   "metadata": {},
   "outputs": [],
   "source": [
    "df_wo = df_wo[df_wo['No Change structure length'] == True]\n",
    "df_wo = df_wo[~df_wo['Structure Length'].isin([-1,0, ])]\n",
    "df_wo = df_wo[df_wo['Structure Length']>6]"
   ]
  },
  {
   "cell_type": "code",
   "execution_count": 9,
   "metadata": {},
   "outputs": [],
   "source": [
    "NE = df_wo[df_wo['State Code'] == 31]\n",
    "NE['SN'] = [structureNumber[:-2] for structureNumber in NE['Structure Number']]\n",
    "NE['No. of Freeze Thaw'] = NE['SN'].map(d_freeze_thaw) \n",
    "NE_clean = NE.dropna()"
   ]
  },
  {
   "cell_type": "code",
   "execution_count": 10,
   "metadata": {},
   "outputs": [
    {
     "data": {
      "text/plain": [
       "(8859, 30)"
      ]
     },
     "execution_count": 10,
     "metadata": {},
     "output_type": "execute_result"
    }
   ],
   "source": [
    "NE_clean.shape"
   ]
  },
  {
   "cell_type": "markdown",
   "metadata": {},
   "source": [
    "## Data visualization "
   ]
  },
  {
   "cell_type": "code",
   "execution_count": 11,
   "metadata": {},
   "outputs": [
    {
     "data": {
      "image/png": "[encoded data removed]",
      "text/plain": [
       "<matplotlib.figure.Figure at 0x1a31b56e10>"
      ]
     },
     "metadata": {},
     "output_type": "display_data"
    }
   ],
   "source": [
    "plt.figure(figsize=(12,10))\n",
    "plt.subplots_adjust(bottom=0.025, left=0.025, top = 0.9, right=0.975)\n",
    "plt.suptitle(\"Distribution of the Mean Freeze Thaw\", fontsize = 20, fontweight = 'bold')\n",
    "sns.set(font_scale=2)\n",
    "plt.subplot(1,2,1)\n",
    "sns.boxplot(x = NE_clean['No. of Freeze Thaw'],  color = 'Green', orient='v', width = 0.25)\n",
    "plt.ylabel(\"No. of Mean Freeze Thaw\", fontsize = 20, fontweight = \"bold\")\n",
    "\n",
    "plt.subplot(1,2,2)\n",
    "sns.stripplot(y= NE_clean['No. of Freeze Thaw'], jitter=True, color=\".3\")\n",
    "plt.show()\n"
   ]
  },
  {
   "cell_type": "code",
   "execution_count": 12,
   "metadata": {},
   "outputs": [],
   "source": [
    "NE_clean['freezethaw'] = pd.qcut(NE_clean['No. of Freeze Thaw'],[0, .05, .95, 1.], labels = ['Very Low','Medium','Very High'])\n",
    "\n",
    "df_anova = NE_clean[['Baseline Difference Score', 'ADT Category','ADTT Category','Avg. Daily Precipitation', 'State Code',\n",
    "                       'Material','Structure Type', 'Maintainer','freezethaw', 'No. of Freeze Thaw', 'Average ADT']]\n",
    "\n",
    "\n",
    "df_anova = df_anova.rename(index=str, columns={\"Baseline Difference Score\": \"score\", \\\n",
    "                                               \"ADT Category\": \"adt\", \\\n",
    "                                               \"ADTT Category\": \"adtt\",\\\n",
    "                                               \"Avg. Daily Precipitation\": \"precp\", \\\n",
    "                                               \"State Code\":\"region\", \\\n",
    "                                               \"Material\":\"material\",\\\n",
    "                                               \"Structure Type\":\"structuretype\",\\\n",
    "                                               \"Maintainer\":\"maintainer\",\\\n",
    "                                               'freezethaw':'freezethaw',\\\n",
    "                                               'No. of Freeze Thaw':'numfreezethaw',\n",
    "                                               'Average ADT':'aadtt'\n",
    "                                               \n",
    "                                              })"
   ]
  },
  {
   "cell_type": "markdown",
   "metadata": {},
   "source": [
    "### Number of records after removing outliers "
   ]
  },
  {
   "cell_type": "code",
   "execution_count": 13,
   "metadata": {},
   "outputs": [
    {
     "data": {
      "text/plain": [
       "(8859, 11)"
      ]
     },
     "execution_count": 13,
     "metadata": {},
     "output_type": "execute_result"
    }
   ],
   "source": [
    "df_anova.shape\n"
   ]
  },
  {
   "cell_type": "markdown",
   "metadata": {},
   "source": [
    "### Bar chart"
   ]
  },
  {
   "cell_type": "code",
   "execution_count": 14,
   "metadata": {},
   "outputs": [
    {
     "data": {
      "image/png": "[encoded data removed]",
      "text/plain": [
       "<matplotlib.figure.Figure at 0x1a31adb940>"
      ]
     },
     "metadata": {},
     "output_type": "display_data"
    }
   ],
   "source": [
    "count_freezethaw = df_anova.groupby('freezethaw')['score'].count()\n",
    "\n",
    "# Plotting \n",
    "plt.figure(figsize=(8,8))\n",
    "plt.suptitle(\"Mean No. of Freeze Thaw\", fontsize = 20, fontweight = 'bold')\n",
    "sns.set(font_scale=2)\n",
    "\n",
    "#Subplot 1\n",
    "labels = [\"Very Low\", \"Very High\"]\n",
    "no_of_records = [count_freezethaw[0], count_freezethaw[2]]\n",
    "plt.bar(labels, no_of_records, align = 'center', alpha = 0.5, color = ['crimson','teal'])\n",
    "plt.xticks(size = 20, rotation = 0)\n",
    "plt.yticks(size = 20)\n",
    "plt.xlabel(\"Freeze Thaw\", fontweight = 'bold', fontsize = 20)\n",
    "plt.ylabel(\"Number of Bridges\", fontweight = 'bold', fontsize = 20)\n",
    "plt.show()\n"
   ]
  },
  {
   "cell_type": "code",
   "execution_count": 15,
   "metadata": {},
   "outputs": [],
   "source": [
    "df_anova['materialname'] = retMaterialNames(df_anova['material'])\n",
    "df_anova = df_anova[df_anova['materialname'].isin([\"Wood or Timber\",\"Concrete\", \"Steel\",\"Prestressed Concrete\"])]"
   ]
  },
  {
   "cell_type": "markdown",
   "metadata": {},
   "source": [
    "### Five point summary of the very high freeze thaw of the bridges in the Nebraska"
   ]
  },
  {
   "cell_type": "code",
   "execution_count": 16,
   "metadata": {},
   "outputs": [
    {
     "data": {
      "text/plain": [
       "count    300.000000\n",
       "mean     128.408596\n",
       "std        5.237719\n",
       "min      119.157895\n",
       "25%      123.263158\n",
       "50%      128.763158\n",
       "75%      133.894737\n",
       "max      133.894737\n",
       "Name: numfreezethaw, dtype: float64"
      ]
     },
     "execution_count": 16,
     "metadata": {},
     "output_type": "execute_result"
    }
   ],
   "source": [
    "df_anova[df_anova['freezethaw'] == 'Very High']['numfreezethaw'].describe()"
   ]
  },
  {
   "cell_type": "markdown",
   "metadata": {},
   "source": [
    "### Five point summary of the very low freeze thaw of the bridges in the Nebraska"
   ]
  },
  {
   "cell_type": "code",
   "execution_count": 17,
   "metadata": {},
   "outputs": [
    {
     "data": {
      "text/plain": [
       "count    338.000000\n",
       "mean      99.425646\n",
       "std        0.615778\n",
       "min       98.447368\n",
       "25%       99.236842\n",
       "50%       99.421053\n",
       "75%       99.973684\n",
       "max      100.552632\n",
       "Name: numfreezethaw, dtype: float64"
      ]
     },
     "execution_count": 17,
     "metadata": {},
     "output_type": "execute_result"
    }
   ],
   "source": [
    "df_anova[df_anova['freezethaw'] == 'Very Low']['numfreezethaw'].describe()"
   ]
  },
  {
   "cell_type": "markdown",
   "metadata": {},
   "source": [
    "### Small sample analysis"
   ]
  },
  {
   "cell_type": "code",
   "execution_count": 18,
   "metadata": {},
   "outputs": [
    {
     "data": {
      "text/html": [
       "<div>\n",
       "<style scoped>\n",
       "    .dataframe tbody tr th:only-of-type {\n",
       "        vertical-align: middle;\n",
       "    }\n",
       "\n",
       "    .dataframe tbody tr th {\n",
       "        vertical-align: top;\n",
       "    }\n",
       "\n",
       "    .dataframe thead th {\n",
       "        text-align: right;\n",
       "    }\n",
       "</style>\n",
       "<table border=\"1\" class=\"dataframe\">\n",
       "  <thead>\n",
       "    <tr style=\"text-align: right;\">\n",
       "      <th></th>\n",
       "      <th>sum_sq</th>\n",
       "      <th>df</th>\n",
       "      <th>F</th>\n",
       "      <th>PR(&gt;F)</th>\n",
       "      <th>eta_sq</th>\n",
       "      <th>omega_sq</th>\n",
       "    </tr>\n",
       "  </thead>\n",
       "  <tbody>\n",
       "    <tr>\n",
       "      <th>C(freezethaw)</th>\n",
       "      <td>33.787874</td>\n",
       "      <td>1.0</td>\n",
       "      <td>39.975894</td>\n",
       "      <td>1.672445e-09</td>\n",
       "      <td>0.167983</td>\n",
       "      <td>0.163096</td>\n",
       "    </tr>\n",
       "    <tr>\n",
       "      <th>Residual</th>\n",
       "      <td>167.350826</td>\n",
       "      <td>198.0</td>\n",
       "      <td>NaN</td>\n",
       "      <td>NaN</td>\n",
       "      <td>NaN</td>\n",
       "      <td>NaN</td>\n",
       "    </tr>\n",
       "  </tbody>\n",
       "</table>\n",
       "</div>"
      ],
      "text/plain": [
       "                   sum_sq     df          F        PR(>F)    eta_sq  omega_sq\n",
       "C(freezethaw)   33.787874    1.0  39.975894  1.672445e-09  0.167983  0.163096\n",
       "Residual       167.350826  198.0        NaN           NaN       NaN       NaN"
      ]
     },
     "execution_count": 18,
     "metadata": {},
     "output_type": "execute_result"
    }
   ],
   "source": [
    "freezethaw_small = df_anova.groupby('freezethaw').apply(lambda s: s.sample(100))\n",
    "freezethaw = df_anova.groupby('freezethaw').apply(lambda s: s.sample(100))['freezethaw'].tolist()\n",
    "score = df_anova.groupby('freezethaw').apply(lambda s: s.sample(100))['score'].tolist()\n",
    "df_freezethaw_sample_100 = pd.DataFrame({'freezethaw':freezethaw, 'score':score})\n",
    "df_freezethaw_100 = df_freezethaw_sample_100[df_freezethaw_sample_100['freezethaw'].isin(['Very Low', 'Very High'])]\n",
    "\n",
    "formula = 'score ~ C(freezethaw)'\n",
    "freezethaw_undersample = undersample(df_freezethaw_100, 'freezethaw')\n",
    "aov(freezethaw_undersample, formula)"
   ]
  },
  {
   "cell_type": "code",
   "execution_count": 19,
   "metadata": {},
   "outputs": [
    {
     "data": {
      "text/plain": [
       "freezethaw\n",
       "Very Low    -0.498673\n",
       "Medium       0.461024\n",
       "Very High    0.361007\n",
       "Name: score, dtype: float64"
      ]
     },
     "execution_count": 19,
     "metadata": {},
     "output_type": "execute_result"
    }
   ],
   "source": [
    "freezethaw_small.groupby('freezethaw')['score'].mean()"
   ]
  },
  {
   "cell_type": "markdown",
   "metadata": {},
   "source": [
    "### Cohen'd: 0.96 (Large)"
   ]
  },
  {
   "cell_type": "markdown",
   "metadata": {},
   "source": [
    "### Large sample analysis"
   ]
  },
  {
   "cell_type": "code",
   "execution_count": 20,
   "metadata": {},
   "outputs": [
    {
     "data": {
      "text/html": [
       "<div>\n",
       "<style scoped>\n",
       "    .dataframe tbody tr th:only-of-type {\n",
       "        vertical-align: middle;\n",
       "    }\n",
       "\n",
       "    .dataframe tbody tr th {\n",
       "        vertical-align: top;\n",
       "    }\n",
       "\n",
       "    .dataframe thead th {\n",
       "        text-align: right;\n",
       "    }\n",
       "</style>\n",
       "<table border=\"1\" class=\"dataframe\">\n",
       "  <thead>\n",
       "    <tr style=\"text-align: right;\">\n",
       "      <th></th>\n",
       "      <th>sum_sq</th>\n",
       "      <th>df</th>\n",
       "      <th>F</th>\n",
       "      <th>PR(&gt;F)</th>\n",
       "      <th>eta_sq</th>\n",
       "      <th>omega_sq</th>\n",
       "    </tr>\n",
       "  </thead>\n",
       "  <tbody>\n",
       "    <tr>\n",
       "      <th>C(freezethaw)</th>\n",
       "      <td>110.034719</td>\n",
       "      <td>1.0</td>\n",
       "      <td>135.803068</td>\n",
       "      <td>2.004418e-28</td>\n",
       "      <td>0.185067</td>\n",
       "      <td>0.183455</td>\n",
       "    </tr>\n",
       "    <tr>\n",
       "      <th>Residual</th>\n",
       "      <td>484.530747</td>\n",
       "      <td>598.0</td>\n",
       "      <td>NaN</td>\n",
       "      <td>NaN</td>\n",
       "      <td>NaN</td>\n",
       "      <td>NaN</td>\n",
       "    </tr>\n",
       "  </tbody>\n",
       "</table>\n",
       "</div>"
      ],
      "text/plain": [
       "                   sum_sq     df           F        PR(>F)    eta_sq  omega_sq\n",
       "C(freezethaw)  110.034719    1.0  135.803068  2.004418e-28  0.185067  0.183455\n",
       "Residual       484.530747  598.0         NaN           NaN       NaN       NaN"
      ]
     },
     "execution_count": 20,
     "metadata": {},
     "output_type": "execute_result"
    }
   ],
   "source": [
    "samplesize = min(df_anova.groupby(['freezethaw'])['freezethaw'].count())\n",
    "freezethaw = df_anova.groupby('freezethaw').apply(lambda s: s.sample(samplesize))['freezethaw'].tolist()\n",
    "score = df_anova.groupby('freezethaw').apply(lambda s: s.sample(samplesize))['score'].tolist()\n",
    "df_freezethaw_sample_45121 = pd.DataFrame({'freezethaw':freezethaw, 'score':score})\n",
    "df_freezethaw_45121 = df_freezethaw_sample_45121[df_freezethaw_sample_45121['freezethaw'].isin(['Very Low', 'Very High'])]\n",
    "\n",
    "formula = 'score ~ C(freezethaw)'\n",
    "freezethaw_undersample = undersample(df_freezethaw_45121, 'freezethaw')\n",
    "aov(freezethaw_undersample, formula)"
   ]
  },
  {
   "cell_type": "markdown",
   "metadata": {},
   "source": [
    "### Cohen'd: 0.90 (Large)"
   ]
  },
  {
   "cell_type": "markdown",
   "metadata": {},
   "source": [
    "### Two-way ANOVA "
   ]
  },
  {
   "cell_type": "code",
   "execution_count": 21,
   "metadata": {},
   "outputs": [
    {
     "data": {
      "text/html": [
       "<div>\n",
       "<style scoped>\n",
       "    .dataframe tbody tr th:only-of-type {\n",
       "        vertical-align: middle;\n",
       "    }\n",
       "\n",
       "    .dataframe tbody tr th {\n",
       "        vertical-align: top;\n",
       "    }\n",
       "\n",
       "    .dataframe thead th {\n",
       "        text-align: right;\n",
       "    }\n",
       "</style>\n",
       "<table border=\"1\" class=\"dataframe\">\n",
       "  <thead>\n",
       "    <tr style=\"text-align: right;\">\n",
       "      <th></th>\n",
       "      <th>sum_sq</th>\n",
       "      <th>df</th>\n",
       "      <th>F</th>\n",
       "      <th>PR(&gt;F)</th>\n",
       "      <th>eta_sq</th>\n",
       "      <th>omega_sq</th>\n",
       "    </tr>\n",
       "  </thead>\n",
       "  <tbody>\n",
       "    <tr>\n",
       "      <th>C(freezethaw)</th>\n",
       "      <td>32.038452</td>\n",
       "      <td>1.0</td>\n",
       "      <td>42.410568</td>\n",
       "      <td>6.316493e-10</td>\n",
       "      <td>0.180067</td>\n",
       "      <td>0.175078</td>\n",
       "    </tr>\n",
       "    <tr>\n",
       "      <th>C(material)</th>\n",
       "      <td>0.709102</td>\n",
       "      <td>3.0</td>\n",
       "      <td>0.312889</td>\n",
       "      <td>8.160531e-01</td>\n",
       "      <td>0.003985</td>\n",
       "      <td>-0.008715</td>\n",
       "    </tr>\n",
       "    <tr>\n",
       "      <th>C(freezethaw):C(material)</th>\n",
       "      <td>0.133898</td>\n",
       "      <td>3.0</td>\n",
       "      <td>0.059082</td>\n",
       "      <td>9.811180e-01</td>\n",
       "      <td>0.000753</td>\n",
       "      <td>-0.011934</td>\n",
       "    </tr>\n",
       "    <tr>\n",
       "      <th>Residual</th>\n",
       "      <td>145.043635</td>\n",
       "      <td>192.0</td>\n",
       "      <td>NaN</td>\n",
       "      <td>NaN</td>\n",
       "      <td>NaN</td>\n",
       "      <td>NaN</td>\n",
       "    </tr>\n",
       "  </tbody>\n",
       "</table>\n",
       "</div>"
      ],
      "text/plain": [
       "                               sum_sq     df          F        PR(>F)  \\\n",
       "C(freezethaw)               32.038452    1.0  42.410568  6.316493e-10   \n",
       "C(material)                  0.709102    3.0   0.312889  8.160531e-01   \n",
       "C(freezethaw):C(material)    0.133898    3.0   0.059082  9.811180e-01   \n",
       "Residual                   145.043635  192.0        NaN           NaN   \n",
       "\n",
       "                             eta_sq  omega_sq  \n",
       "C(freezethaw)              0.180067  0.175078  \n",
       "C(material)                0.003985 -0.008715  \n",
       "C(freezethaw):C(material)  0.000753 -0.011934  \n",
       "Residual                        NaN       NaN  "
      ]
     },
     "execution_count": 21,
     "metadata": {},
     "output_type": "execute_result"
    }
   ],
   "source": [
    "freezethaw_small = df_anova.groupby('freezethaw').apply(lambda s: s.sample(100))\n",
    "span = freezethaw_small['freezethaw'].tolist()\n",
    "material= freezethaw_small['material'].tolist()\n",
    "\n",
    "score = df_anova.groupby('freezethaw').apply(lambda s: s.sample(100))['score'].tolist()\n",
    "df_span_sample_100 = pd.DataFrame({'freezethaw':span, 'score':score, 'material':material})\n",
    "df_span_100 = df_span_sample_100[df_span_sample_100['freezethaw'].isin(['Very Low', 'Very High'])]\n",
    "\n",
    "formula = 'score ~ C(freezethaw) + C(material) + C(freezethaw):C(material)'\n",
    "span_undersample = undersample(df_span_100, 'freezethaw')\n",
    "aov(span_undersample, formula)"
   ]
  },
  {
   "cell_type": "markdown",
   "metadata": {},
   "source": [
    "### Cohen's d\n",
    "### freezethaw: 0.677 (Medium)\n",
    "### material: 0.33 (Small)\n",
    "### freezethaw ~ material: 0.339 (Small)"
   ]
  },
  {
   "cell_type": "code",
   "execution_count": 22,
   "metadata": {},
   "outputs": [
    {
     "data": {
      "image/png": "[encoded data removed]",
      "text/plain": [
       "<matplotlib.figure.Figure at 0x1a31a08780>"
      ]
     },
     "metadata": {},
     "output_type": "display_data"
    }
   ],
   "source": [
    "scores_high = freezethaw_small[freezethaw_small['freezethaw'] == 'Very High']\n",
    "scores_high['materialname'] = retMaterialNames(scores_high['material'])\n",
    "\n",
    "low_mat = scores_high[scores_high['materialname'].isin([\"Wood or Timber\",\"Concrete\", \"Steel\",\"Prestressed Concrete\"])]\n",
    "count_mat = low_mat.groupby('materialname')['score'].count()\n",
    "\n",
    "# Plotting \n",
    "plt.figure(figsize=(8,8))\n",
    "plt.suptitle(\"Distribution of bridges with respect to Material Type in Very High Freeze Thaw \", fontsize = 20, fontweight = 'bold')\n",
    "sns.set(font_scale=2)\n",
    "\n",
    "\n",
    "labels = [\"Concrete\", \"Prestressed Concrete\",\\\n",
    "          \"Steel\", \"Wood or Timber\"]\n",
    "\n",
    "no_of_records = count_mat\n",
    "plt.barh(labels, no_of_records, align = 'center', alpha = 0.5, color = ['olive','midnightblue','blue','coral'])\n",
    "plt.xticks(size = 20, rotation = 0)\n",
    "plt.yticks(size = 20)\n",
    "plt.ylabel(\"Material Type\", fontweight = 'bold', fontsize = 20)\n",
    "plt.xlabel(\"Number of Bridges\", fontweight = 'bold', fontsize = 20)\n",
    "plt.show()"
   ]
  },
  {
   "cell_type": "markdown",
   "metadata": {},
   "source": [
    "### Very Low Freezethaw"
   ]
  },
  {
   "cell_type": "code",
   "execution_count": 23,
   "metadata": {},
   "outputs": [
    {
     "data": {
      "image/png": "[encoded data removed]",
      "text/plain": [
       "<matplotlib.figure.Figure at 0x1a31a1a9b0>"
      ]
     },
     "metadata": {},
     "output_type": "display_data"
    }
   ],
   "source": [
    "scores_low = freezethaw_small[freezethaw_small['freezethaw'] == 'Very Low']\n",
    "scores_low['materialname'] = retMaterialNames(scores_low['material'])\n",
    "\n",
    "low_mat = scores_low[scores_low['materialname'].isin([\"Wood or Timber\",\"Concrete\", \"Steel\",\"Prestressed Concrete\"])]\n",
    "count_mat = low_mat.groupby('materialname')['score'].count()\n",
    "\n",
    "# Plotting \n",
    "plt.figure(figsize=(8,8))\n",
    "plt.suptitle(\"Distribution of bridges with respect to Material Type in Very Low Freeze Thaw \", fontsize = 20, fontweight = 'bold')\n",
    "sns.set(font_scale=2)\n",
    "\n",
    "\n",
    "labels = [\"Concrete\", \"Prestressed Concrete\",\\\n",
    "          \"Steel\", \"Wood or Timber\"]\n",
    "\n",
    "no_of_records = count_mat\n",
    "plt.barh(labels, no_of_records, align = 'center', alpha = 0.5, color = ['olive','midnightblue','blue','coral'])\n",
    "plt.xticks(size = 20, rotation = 0)\n",
    "plt.yticks(size = 20)\n",
    "plt.ylabel(\"Material Type\", fontweight = 'bold', fontsize = 20)\n",
    "plt.xlabel(\"Number of Bridges\", fontweight = 'bold', fontsize = 20)\n",
    "plt.show()"
   ]
  },
  {
   "cell_type": "markdown",
   "metadata": {},
   "source": [
    "### Count of the bridges with respect to material name with very high number of Freeze Thaw\n",
    "\n"
   ]
  },
  {
   "cell_type": "code",
   "execution_count": 24,
   "metadata": {},
   "outputs": [
    {
     "data": {
      "text/plain": [
       "materialname\n",
       "Concrete                18\n",
       "Prestressed Concrete    24\n",
       "Steel                   27\n",
       "Wood or Timber          31\n",
       "Name: materialname, dtype: int64"
      ]
     },
     "execution_count": 24,
     "metadata": {},
     "output_type": "execute_result"
    }
   ],
   "source": [
    "scores_high.groupby('materialname')['materialname'].count()\n"
   ]
  },
  {
   "cell_type": "markdown",
   "metadata": {},
   "source": [
    "### Count of the bridges with respect to material name with very low number of Freeze Thaw"
   ]
  },
  {
   "cell_type": "code",
   "execution_count": 25,
   "metadata": {},
   "outputs": [
    {
     "data": {
      "text/plain": [
       "materialname\n",
       "Concrete                 5\n",
       "Prestressed Concrete     4\n",
       "Steel                   87\n",
       "Wood or Timber           4\n",
       "Name: materialname, dtype: int64"
      ]
     },
     "execution_count": 25,
     "metadata": {},
     "output_type": "execute_result"
    }
   ],
   "source": [
    "scores_low.groupby('materialname')['materialname'].count()"
   ]
  },
  {
   "cell_type": "markdown",
   "metadata": {},
   "source": [
    "## Analysis of Steel Bridges"
   ]
  },
  {
   "cell_type": "code",
   "execution_count": 26,
   "metadata": {},
   "outputs": [],
   "source": [
    "df_steel = df_anova[df_anova['materialname'] == 'Steel']"
   ]
  },
  {
   "cell_type": "markdown",
   "metadata": {},
   "source": [
    "### Count of Steel Bridges with repect to freezethaw"
   ]
  },
  {
   "cell_type": "code",
   "execution_count": 27,
   "metadata": {},
   "outputs": [
    {
     "data": {
      "text/plain": [
       "freezethaw\n",
       "Very Low      275\n",
       "Medium       4222\n",
       "Very High      99\n",
       "Name: freezethaw, dtype: int64"
      ]
     },
     "execution_count": 27,
     "metadata": {},
     "output_type": "execute_result"
    }
   ],
   "source": [
    "df_steel.groupby('freezethaw')['freezethaw'].count()"
   ]
  },
  {
   "cell_type": "markdown",
   "metadata": {},
   "source": [
    "### Small sample analysis on Steel bridges "
   ]
  },
  {
   "cell_type": "code",
   "execution_count": 28,
   "metadata": {},
   "outputs": [
    {
     "data": {
      "text/html": [
       "<div>\n",
       "<style scoped>\n",
       "    .dataframe tbody tr th:only-of-type {\n",
       "        vertical-align: middle;\n",
       "    }\n",
       "\n",
       "    .dataframe tbody tr th {\n",
       "        vertical-align: top;\n",
       "    }\n",
       "\n",
       "    .dataframe thead th {\n",
       "        text-align: right;\n",
       "    }\n",
       "</style>\n",
       "<table border=\"1\" class=\"dataframe\">\n",
       "  <thead>\n",
       "    <tr style=\"text-align: right;\">\n",
       "      <th></th>\n",
       "      <th>sum_sq</th>\n",
       "      <th>df</th>\n",
       "      <th>F</th>\n",
       "      <th>PR(&gt;F)</th>\n",
       "      <th>eta_sq</th>\n",
       "      <th>omega_sq</th>\n",
       "    </tr>\n",
       "  </thead>\n",
       "  <tbody>\n",
       "    <tr>\n",
       "      <th>C(freezethaw)</th>\n",
       "      <td>48.692054</td>\n",
       "      <td>1.0</td>\n",
       "      <td>65.491428</td>\n",
       "      <td>6.023146e-14</td>\n",
       "      <td>0.250453</td>\n",
       "      <td>0.24569</td>\n",
       "    </tr>\n",
       "    <tr>\n",
       "      <th>Residual</th>\n",
       "      <td>145.723539</td>\n",
       "      <td>196.0</td>\n",
       "      <td>NaN</td>\n",
       "      <td>NaN</td>\n",
       "      <td>NaN</td>\n",
       "      <td>NaN</td>\n",
       "    </tr>\n",
       "  </tbody>\n",
       "</table>\n",
       "</div>"
      ],
      "text/plain": [
       "                   sum_sq     df          F        PR(>F)    eta_sq  omega_sq\n",
       "C(freezethaw)   48.692054    1.0  65.491428  6.023146e-14  0.250453   0.24569\n",
       "Residual       145.723539  196.0        NaN           NaN       NaN       NaN"
      ]
     },
     "execution_count": 28,
     "metadata": {},
     "output_type": "execute_result"
    }
   ],
   "source": [
    "freezethaw_small = df_steel.groupby('freezethaw').apply(lambda s: s.sample(99))\n",
    "freezethaw = df_steel.groupby('freezethaw').apply(lambda s: s.sample(99))['freezethaw'].tolist()\n",
    "score = df_steel.groupby('freezethaw').apply(lambda s: s.sample(99))['score'].tolist()\n",
    "df_freezethaw_sample_100 = pd.DataFrame({'freezethaw':freezethaw, 'score':score})\n",
    "df_freezethaw_100 = df_freezethaw_sample_100[df_freezethaw_sample_100['freezethaw'].isin(['Very Low', 'Very High'])]\n",
    "\n",
    "formula = 'score ~ C(freezethaw)'\n",
    "freezethaw_undersample = undersample(df_freezethaw_100, 'freezethaw')\n",
    "aov(freezethaw_undersample, formula)"
   ]
  },
  {
   "cell_type": "markdown",
   "metadata": {},
   "source": [
    "#### Cohen's d: 1.34 (Very Large)"
   ]
  },
  {
   "cell_type": "markdown",
   "metadata": {},
   "source": [
    "## Correlation between Average Daily Traffic and Freeze Thaw"
   ]
  },
  {
   "cell_type": "code",
   "execution_count": 29,
   "metadata": {
    "scrolled": true
   },
   "outputs": [
    {
     "data": {
      "text/html": [
       "<div>\n",
       "<style scoped>\n",
       "    .dataframe tbody tr th:only-of-type {\n",
       "        vertical-align: middle;\n",
       "    }\n",
       "\n",
       "    .dataframe tbody tr th {\n",
       "        vertical-align: top;\n",
       "    }\n",
       "\n",
       "    .dataframe thead th {\n",
       "        text-align: right;\n",
       "    }\n",
       "</style>\n",
       "<table border=\"1\" class=\"dataframe\">\n",
       "  <thead>\n",
       "    <tr style=\"text-align: right;\">\n",
       "      <th></th>\n",
       "      <th>aadtt</th>\n",
       "      <th>numfreezethaw</th>\n",
       "    </tr>\n",
       "  </thead>\n",
       "  <tbody>\n",
       "    <tr>\n",
       "      <th>aadtt</th>\n",
       "      <td>1.000000</td>\n",
       "      <td>-0.101505</td>\n",
       "    </tr>\n",
       "    <tr>\n",
       "      <th>numfreezethaw</th>\n",
       "      <td>-0.101505</td>\n",
       "      <td>1.000000</td>\n",
       "    </tr>\n",
       "  </tbody>\n",
       "</table>\n",
       "</div>"
      ],
      "text/plain": [
       "                  aadtt  numfreezethaw\n",
       "aadtt          1.000000      -0.101505\n",
       "numfreezethaw -0.101505       1.000000"
      ]
     },
     "execution_count": 29,
     "metadata": {},
     "output_type": "execute_result"
    }
   ],
   "source": [
    "df_high_low = df_anova[df_anova['freezethaw'].isin(['Very Low', 'Very High'])]\n",
    "df_high_low = df_high_low[['aadtt','numfreezethaw']]\n",
    "df_high_low.corr()"
   ]
  },
  {
   "cell_type": "markdown",
   "metadata": {},
   "source": [
    "## Mapping bridges with low and high freezethaw cycle"
   ]
  },
  {
   "cell_type": "markdown",
   "metadata": {},
   "source": [
    "### County with number of bridges in Very Low and Very High Freethaw"
   ]
  },
  {
   "cell_type": "code",
   "execution_count": 78,
   "metadata": {},
   "outputs": [],
   "source": [
    "mapping = df_wo[df_wo['State Code'] == 31]\n",
    "mapping['SN'] = [structureNumber[:-2] for structureNumber in NE['Structure Number']]\n",
    "mapping['No. of Freeze Thaw'] = mapping['SN'].map(d_freeze_thaw)\n",
    "mapping['county'] = mapping['SN'].map(d_structureNumber_county)\n",
    "mapping = mapping.dropna()\n",
    "mapping['county'] = [county[0] for county in mapping['county']]\n",
    "mapping['label'] = pd.qcut(mapping['No. of Freeze Thaw'],[0, .05, .95, 1.], labels = ['Very Low','Medium','Very High'])\n",
    "mapping = mapping[mapping['label'].isin(['Very Low', 'Very High'])]"
   ]
  },
  {
   "cell_type": "code",
   "execution_count": 90,
   "metadata": {
    "scrolled": false
   },
   "outputs": [
    {
     "data": {
      "text/plain": [
       "label      county             \n",
       "Very Low   Cass County             31\n",
       "           Dakota County           26\n",
       "           Douglas County          20\n",
       "           Gage County             27\n",
       "           Nemaha County           82\n",
       "           Otoe County             44\n",
       "           Pawnee County           88\n",
       "           Richardson County      114\n",
       "           Sarpy County            24\n",
       "           Thurston County          5\n",
       "Very High  Banner County           11\n",
       "           Box Butte County         5\n",
       "           Chase County             8\n",
       "           Cherry County            4\n",
       "           Cheyenne County         47\n",
       "           Dawes County            45\n",
       "           Deuel County            27\n",
       "           Garden County           13\n",
       "           Hooker County            1\n",
       "           Keith County            27\n",
       "           Kimball County          24\n",
       "           Lincoln County          30\n",
       "           Morrill County          25\n",
       "           Scotts Bluff County    125\n",
       "           Sheridan County          8\n",
       "           Sioux County            12\n",
       "Name: Structure Number, dtype: int64"
      ]
     },
     "execution_count": 90,
     "metadata": {},
     "output_type": "execute_result"
    }
   ],
   "source": [
    "map_label_county = mapping.groupby(['label','county'])['Structure Number'].count().dropna()\n",
    "map_label_county"
   ]
  },
  {
   "cell_type": "markdown",
   "metadata": {},
   "source": [
    "### County with mean baseline difference score of the bridges in Very Low and Very High Freethaw"
   ]
  },
  {
   "cell_type": "code",
   "execution_count": 93,
   "metadata": {},
   "outputs": [
    {
     "data": {
      "text/plain": [
       "label      county             \n",
       "Very Low   Cass County            0.053362\n",
       "           Dakota County          0.193135\n",
       "           Douglas County         0.240494\n",
       "           Gage County            0.250486\n",
       "           Nemaha County         -0.591140\n",
       "           Otoe County            0.125908\n",
       "           Pawnee County         -0.471580\n",
       "           Richardson County     -0.127696\n",
       "           Sarpy County           0.829369\n",
       "           Thurston County        0.330197\n",
       "Very High  Banner County          0.855671\n",
       "           Box Butte County       0.791149\n",
       "           Chase County           0.490457\n",
       "           Cherry County         -0.841692\n",
       "           Cheyenne County        0.632264\n",
       "           Dawes County           0.253426\n",
       "           Deuel County           0.279768\n",
       "           Garden County          0.762726\n",
       "           Hooker County         -0.209837\n",
       "           Keith County           0.788467\n",
       "           Kimball County         0.604472\n",
       "           Lincoln County         0.661828\n",
       "           Morrill County         1.087062\n",
       "           Scotts Bluff County    0.335126\n",
       "           Sheridan County        0.789760\n",
       "           Sioux County           0.143858\n",
       "Name: Baseline Difference Score, dtype: float64"
      ]
     },
     "execution_count": 93,
     "metadata": {},
     "output_type": "execute_result"
    }
   ],
   "source": [
    "mapping.groupby(['label', 'county'])['Baseline Difference Score'].mean()"
   ]
  }
 ],
 "metadata": {
  "kernelspec": {
   "display_name": "Python 3",
   "language": "python",
   "name": "python3"
  },
  "language_info": {
   "codemirror_mode": {
    "name": "ipython",
    "version": 3
   },
   "file_extension": ".py",
   "mimetype": "text/x-python",
   "name": "python",
   "nbconvert_exporter": "python",
   "pygments_lexer": "ipython3",
   "version": "3.6.4"
  }
 },
 "nbformat": 4,
 "nbformat_minor": 2
}
