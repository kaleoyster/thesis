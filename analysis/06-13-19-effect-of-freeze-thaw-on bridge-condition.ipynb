{
 "cells": [
  {
   "cell_type": "code",
   "execution_count": 1,
   "metadata": {},
   "outputs": [],
   "source": [
    "import pymongo\n",
    "from pymongo import MongoClient\n",
    "import time\n",
    "import pandas as pd\n",
    "import numpy as np\n",
    "import seaborn as sns\n",
    "import matplotlib.pyplot as plt\n",
    "import csv\n",
    "from sklearn import preprocessing\n",
    "from nbi1 import *\n",
    "\n",
    "import warnings\n",
    "from statsmodels.formula.api import ols\n",
    "from statsmodels.stats.anova import anova_lm\n",
    "from statsmodels.graphics.factorplots import interaction_plot\n",
    "from scipy import stats\n",
    "\n",
    "import matplotlib.patches as mpatches\n",
    "import matplotlib.pyplot as plt\n",
    "import matplotlib.lines as mlines\n",
    "\n",
    "warnings.filterwarnings('ignore')\n",
    "                        "
   ]
  },
  {
   "cell_type": "code",
   "execution_count": 2,
   "metadata": {},
   "outputs": [],
   "source": [
    "def eta_squared(aov):\n",
    "    aov['eta_sq'] = 'NaN'\n",
    "    aov['eta_sq'] = aov[:-1]['sum_sq']/sum(aov['sum_sq'])\n",
    "    return aov\n",
    " \n",
    "def omega_squared(aov):\n",
    "    mse = aov['sum_sq'][-1]/aov['df'][-1]\n",
    "    aov['omega_sq'] = 'NaN'\n",
    "    aov['omega_sq'] = (aov[:-1]['sum_sq']-(aov[:-1]['df']*mse))/(sum(aov['sum_sq'])+mse)\n",
    "    return aov\n",
    "\n",
    "def undersample(df, keyword):\n",
    "    \"\"\"\n",
    "    It will take a dataframe and a keyword to groupby\n",
    "    :input: df: Dataframe\n",
    "            Key-word: column to groupby\n",
    "            \n",
    "    :return: undersample_df: Datafram\n",
    "    \n",
    "    \"\"\"\n",
    "    groupby_df = df.groupby([keyword]).count()\n",
    "    count = min(groupby_df[groupby_df.columns[0]].tolist())\n",
    "    \n",
    "    tempdf_list = []\n",
    "\n",
    "    for index in df[keyword].unique():\n",
    "        tempdf_list.append(df[df[keyword] == index].sample(count)) ## Count\n",
    "    \n",
    "    undersample_df = pd.concat(tempdf_list)\n",
    "    \n",
    "    return undersample_df\n",
    "\n",
    "def aov(df, formula):\n",
    "    \"\"\"\n",
    "    :input: df: DataFrame\n",
    "            formula: \n",
    "    \n",
    "    :return: \n",
    "            Table\n",
    "    \"\"\"  \n",
    "    model = ols(formula, df).fit()\n",
    "    aov_table = anova_lm(model, typ=2)\n",
    "\n",
    "    eta_squared(aov_table)\n",
    "    return omega_squared(aov_table)\n",
    "    \n",
    "def createDictionary(dataframe_col1, dataframe_col2):\n",
    "    \"\"\"\n",
    "    returns dictionary of structure number as key and and list of attribute belonging  to structure number\n",
    "    :rtype: dictionary\n",
    "    \n",
    "    \"\"\"\n",
    "    # initialize the dictionary\n",
    "    dictionary = {structure_number:[] for structure_number in dataframe_col1}\n",
    "    \n",
    "    for structure_number, value in zip(dataframe_col1, dataframe_col2):\n",
    "        dictionary[structure_number].append(value)\n",
    "    return dictionary\n",
    "\n",
    "\n",
    "def createDictionaryOfMeanValue(dictionary):\n",
    "    \"\"\"\n",
    "    returns dictionary of structure number as key and and mean values in corresponding to the structure number\n",
    "    :rtype: dictionary\n",
    "    \n",
    "    \"\"\"\n",
    "    dictionary_new = {}\n",
    "    \n",
    "    for key, value in dictionary.items():\n",
    "        mean_value = np.mean(value)\n",
    "        dictionary_new[key] = mean_value\n",
    "        \n",
    "    return dictionary_new\n",
    "\n",
    "def createDictionaryOfFirstValue(dictionary):\n",
    "    dictionary_new = {}\n",
    "    \n",
    "    for key, value in dictionary.items():\n",
    "        value = value[0]\n",
    "        dictionary_new[key] = value\n",
    "        \n",
    "    return dictionary_new\n"
   ]
  },
  {
   "cell_type": "markdown",
   "metadata": {},
   "source": [
    "### Importing dataset"
   ]
  },
  {
   "cell_type": "code",
   "execution_count": 3,
   "metadata": {},
   "outputs": [],
   "source": [
    "df_csv = pd.read_csv('../data-generation/NE_Counties_MERRA_by_bridge.csv', index_col=0)\n",
    "d_structureNumber_county = createDictionary(df_csv['structure_number'],df_csv['COUNTY_NAME'])\n",
    "d_structureNumber_freeze_thaw = createDictionary(df_csv['structure_number'],df_csv['NO_OF_FREEZE_THAW_CYCLES'])"
   ]
  },
  {
   "cell_type": "markdown",
   "metadata": {},
   "source": [
    "### Dataset"
   ]
  },
  {
   "cell_type": "code",
   "execution_count": 5,
   "metadata": {},
   "outputs": [
    {
     "data": {
      "text/html": [
       "<div>\n",
       "<style scoped>\n",
       "    .dataframe tbody tr th:only-of-type {\n",
       "        vertical-align: middle;\n",
       "    }\n",
       "\n",
       "    .dataframe tbody tr th {\n",
       "        vertical-align: top;\n",
       "    }\n",
       "\n",
       "    .dataframe thead th {\n",
       "        text-align: right;\n",
       "    }\n",
       "</style>\n",
       "<table border=\"1\" class=\"dataframe\">\n",
       "  <thead>\n",
       "    <tr style=\"text-align: right;\">\n",
       "      <th></th>\n",
       "      <th>structure_number</th>\n",
       "      <th>county_code</th>\n",
       "      <th>COUNTY_NAME</th>\n",
       "      <th>year</th>\n",
       "      <th>NO_OF_FREEZE_THAW_CYCLES</th>\n",
       "      <th>no_of_snowfalls</th>\n",
       "    </tr>\n",
       "    <tr>\n",
       "      <th>state_code</th>\n",
       "      <th></th>\n",
       "      <th></th>\n",
       "      <th></th>\n",
       "      <th></th>\n",
       "      <th></th>\n",
       "      <th></th>\n",
       "    </tr>\n",
       "  </thead>\n",
       "  <tbody>\n",
       "    <tr>\n",
       "      <th>31</th>\n",
       "      <td>C000100305P</td>\n",
       "      <td>1.0</td>\n",
       "      <td>Adams County</td>\n",
       "      <td>1980.0</td>\n",
       "      <td>115.0</td>\n",
       "      <td>57.0</td>\n",
       "    </tr>\n",
       "    <tr>\n",
       "      <th>31</th>\n",
       "      <td>C000100305P</td>\n",
       "      <td>1.0</td>\n",
       "      <td>Adams County</td>\n",
       "      <td>1981.0</td>\n",
       "      <td>101.0</td>\n",
       "      <td>33.0</td>\n",
       "    </tr>\n",
       "    <tr>\n",
       "      <th>31</th>\n",
       "      <td>C000100305P</td>\n",
       "      <td>1.0</td>\n",
       "      <td>Adams County</td>\n",
       "      <td>1982.0</td>\n",
       "      <td>105.0</td>\n",
       "      <td>56.0</td>\n",
       "    </tr>\n",
       "    <tr>\n",
       "      <th>31</th>\n",
       "      <td>C000100305P</td>\n",
       "      <td>1.0</td>\n",
       "      <td>Adams County</td>\n",
       "      <td>1983.0</td>\n",
       "      <td>99.0</td>\n",
       "      <td>88.0</td>\n",
       "    </tr>\n",
       "    <tr>\n",
       "      <th>31</th>\n",
       "      <td>C000100305P</td>\n",
       "      <td>1.0</td>\n",
       "      <td>Adams County</td>\n",
       "      <td>1984.0</td>\n",
       "      <td>133.0</td>\n",
       "      <td>68.0</td>\n",
       "    </tr>\n",
       "    <tr>\n",
       "      <th>31</th>\n",
       "      <td>C000100305P</td>\n",
       "      <td>1.0</td>\n",
       "      <td>Adams County</td>\n",
       "      <td>1985.0</td>\n",
       "      <td>99.0</td>\n",
       "      <td>62.0</td>\n",
       "    </tr>\n",
       "    <tr>\n",
       "      <th>31</th>\n",
       "      <td>C000100305P</td>\n",
       "      <td>1.0</td>\n",
       "      <td>Adams County</td>\n",
       "      <td>1986.0</td>\n",
       "      <td>112.0</td>\n",
       "      <td>36.0</td>\n",
       "    </tr>\n",
       "    <tr>\n",
       "      <th>31</th>\n",
       "      <td>C000100305P</td>\n",
       "      <td>1.0</td>\n",
       "      <td>Adams County</td>\n",
       "      <td>1987.0</td>\n",
       "      <td>113.0</td>\n",
       "      <td>46.0</td>\n",
       "    </tr>\n",
       "    <tr>\n",
       "      <th>31</th>\n",
       "      <td>C000100305P</td>\n",
       "      <td>1.0</td>\n",
       "      <td>Adams County</td>\n",
       "      <td>1988.0</td>\n",
       "      <td>112.0</td>\n",
       "      <td>43.0</td>\n",
       "    </tr>\n",
       "    <tr>\n",
       "      <th>31</th>\n",
       "      <td>C000100305P</td>\n",
       "      <td>1.0</td>\n",
       "      <td>Adams County</td>\n",
       "      <td>1989.0</td>\n",
       "      <td>110.0</td>\n",
       "      <td>39.0</td>\n",
       "    </tr>\n",
       "  </tbody>\n",
       "</table>\n",
       "</div>"
      ],
      "text/plain": [
       "           structure_number  county_code   COUNTY_NAME    year  \\\n",
       "state_code                                                       \n",
       "31              C000100305P          1.0  Adams County  1980.0   \n",
       "31              C000100305P          1.0  Adams County  1981.0   \n",
       "31              C000100305P          1.0  Adams County  1982.0   \n",
       "31              C000100305P          1.0  Adams County  1983.0   \n",
       "31              C000100305P          1.0  Adams County  1984.0   \n",
       "31              C000100305P          1.0  Adams County  1985.0   \n",
       "31              C000100305P          1.0  Adams County  1986.0   \n",
       "31              C000100305P          1.0  Adams County  1987.0   \n",
       "31              C000100305P          1.0  Adams County  1988.0   \n",
       "31              C000100305P          1.0  Adams County  1989.0   \n",
       "\n",
       "            NO_OF_FREEZE_THAW_CYCLES  no_of_snowfalls  \n",
       "state_code                                             \n",
       "31                             115.0             57.0  \n",
       "31                             101.0             33.0  \n",
       "31                             105.0             56.0  \n",
       "31                              99.0             88.0  \n",
       "31                             133.0             68.0  \n",
       "31                              99.0             62.0  \n",
       "31                             112.0             36.0  \n",
       "31                             113.0             46.0  \n",
       "31                             112.0             43.0  \n",
       "31                             110.0             39.0  "
      ]
     },
     "execution_count": 5,
     "metadata": {},
     "output_type": "execute_result"
    }
   ],
   "source": [
    "df_csv.head(10)\n"
   ]
  },
  {
   "cell_type": "markdown",
   "metadata": {},
   "source": [
    "### Creating a dictionary"
   ]
  },
  {
   "cell_type": "code",
   "execution_count": 6,
   "metadata": {},
   "outputs": [],
   "source": [
    "d_freeze_thaw = createDictionaryOfMeanValue(d_structureNumber_freeze_thaw)"
   ]
  },
  {
   "cell_type": "markdown",
   "metadata": {},
   "source": [
    "### Importing NBI data"
   ]
  },
  {
   "cell_type": "code",
   "execution_count": 7,
   "metadata": {},
   "outputs": [],
   "source": [
    "csv_file = \"../data-generation/04-28-19-thesis-dataset-without-outliers_allstates\"\n",
    "df_wo = pd.read_csv(csv_file, index_col = 0)"
   ]
  },
  {
   "cell_type": "markdown",
   "metadata": {},
   "source": [
    "### Data Preprocessing"
   ]
  },
  {
   "cell_type": "code",
   "execution_count": 8,
   "metadata": {},
   "outputs": [],
   "source": [
    "df_wo = df_wo[df_wo['No Change structure length'] == True]\n",
    "df_wo = df_wo[~df_wo['Structure Length'].isin([-1,0, ])]\n",
    "df_wo = df_wo[df_wo['Structure Length']>6]"
   ]
  },
  {
   "cell_type": "code",
   "execution_count": 9,
   "metadata": {},
   "outputs": [],
   "source": [
    "NE = df_wo[df_wo['State Code'] == 31]\n",
    "NE['SN'] = [structureNumber[:-2] for structureNumber in NE['Structure Number']]\n",
    "NE['No. of Freeze Thaw'] = NE['SN'].map(d_freeze_thaw) \n",
    "NE_clean = NE.dropna()"
   ]
  },
  {
   "cell_type": "code",
   "execution_count": 10,
   "metadata": {},
   "outputs": [
    {
     "data": {
      "text/plain": [
       "(8859, 30)"
      ]
     },
     "execution_count": 10,
     "metadata": {},
     "output_type": "execute_result"
    }
   ],
   "source": [
    "NE_clean.shape"
   ]
  },
  {
   "cell_type": "markdown",
   "metadata": {},
   "source": [
    "## Data visualization "
   ]
  },
  {
   "cell_type": "code",
   "execution_count": 11,
   "metadata": {},
   "outputs": [
    {
     "data": {
      "image/png": "[encoded data removed]",
      "text/plain": [
       "<matplotlib.figure.Figure at 0x1a3714b4a8>"
      ]
     },
     "metadata": {},
     "output_type": "display_data"
    }
   ],
   "source": [
    "plt.figure(figsize=(12,10))\n",
    "plt.subplots_adjust(bottom=0.025, left=0.025, top = 0.9, right=0.975)\n",
    "plt.suptitle(\"Distribution of the Mean Freeze Thaw\", fontsize = 20, fontweight = 'bold')\n",
    "sns.set(font_scale=2)\n",
    "plt.subplot(1,2,1)\n",
    "sns.boxplot(x = NE_clean['No. of Freeze Thaw'],  color = 'Green', orient='v', width = 0.25)\n",
    "plt.ylabel(\"No. of Mean Freeze Thaw\", fontsize = 20, fontweight = \"bold\")\n",
    "\n",
    "plt.subplot(1,2,2)\n",
    "sns.stripplot(y= NE_clean['No. of Freeze Thaw'], jitter=True, color=\".3\")\n",
    "plt.show()\n"
   ]
  },
  {
   "cell_type": "code",
   "execution_count": 12,
   "metadata": {},
   "outputs": [],
   "source": [
    "NE_clean['freezethaw'] = pd.qcut(NE_clean['No. of Freeze Thaw'],[0, .05, .95, 1.], labels = ['Very Low','Medium','Very High'])\n",
    "\n",
    "df_anova = NE_clean[['Baseline Difference Score', 'ADT Category','ADTT Category','Avg. Daily Precipitation', 'State Code',\n",
    "                       'Material','Structure Type', 'Maintainer','freezethaw', 'No. of Freeze Thaw', 'Average ADT']]\n",
    "\n",
    "\n",
    "df_anova = df_anova.rename(index=str, columns={\"Baseline Difference Score\": \"score\", \\\n",
    "                                               \"ADT Category\": \"adt\", \\\n",
    "                                               \"ADTT Category\": \"adtt\",\\\n",
    "                                               \"Avg. Daily Precipitation\": \"precp\", \\\n",
    "                                               \"State Code\":\"region\", \\\n",
    "                                               \"Material\":\"material\",\\\n",
    "                                               \"Structure Type\":\"structuretype\",\\\n",
    "                                               \"Maintainer\":\"maintainer\",\\\n",
    "                                               'freezethaw':'freezethaw',\\\n",
    "                                               'No. of Freeze Thaw':'numfreezethaw',\n",
    "                                               'Average ADT':'aadtt'\n",
    "                                               \n",
    "                                              })"
   ]
  },
  {
   "cell_type": "markdown",
   "metadata": {},
   "source": [
    "### Number of records after removing outliers "
   ]
  },
  {
   "cell_type": "code",
   "execution_count": 13,
   "metadata": {},
   "outputs": [
    {
     "data": {
      "text/plain": [
       "(8859, 11)"
      ]
     },
     "execution_count": 13,
     "metadata": {},
     "output_type": "execute_result"
    }
   ],
   "source": [
    "df_anova.shape\n"
   ]
  },
  {
   "cell_type": "markdown",
   "metadata": {},
   "source": [
    "### Bar chart"
   ]
  },
  {
   "cell_type": "code",
   "execution_count": 14,
   "metadata": {},
   "outputs": [
    {
     "data": {
      "image/png": "[encoded data removed]",
      "text/plain": [
       "<matplotlib.figure.Figure at 0x1a370cb978>"
      ]
     },
     "metadata": {},
     "output_type": "display_data"
    }
   ],
   "source": [
    "count_freezethaw = df_anova.groupby('freezethaw')['score'].count()\n",
    "\n",
    "# Plotting \n",
    "plt.figure(figsize=(8,8))\n",
    "plt.suptitle(\"Mean No. of Freeze Thaw\", fontsize = 20, fontweight = 'bold')\n",
    "sns.set(font_scale=2)\n",
    "\n",
    "#Subplot 1\n",
    "labels = [\"Very Low\", \"Very High\"]\n",
    "no_of_records = [count_freezethaw[0], count_freezethaw[2]]\n",
    "plt.bar(labels, no_of_records, align = 'center', alpha = 0.5, color = ['crimson','teal'])\n",
    "plt.xticks(size = 20, rotation = 0)\n",
    "plt.yticks(size = 20)\n",
    "plt.xlabel(\"Freeze Thaw\", fontweight = 'bold', fontsize = 20)\n",
    "plt.ylabel(\"Number of Bridges\", fontweight = 'bold', fontsize = 20)\n",
    "plt.show()\n"
   ]
  },
  {
   "cell_type": "code",
   "execution_count": 15,
   "metadata": {},
   "outputs": [],
   "source": [
    "df_anova['materialname'] = retMaterialNames(df_anova['material'])\n",
    "df_anova = df_anova[df_anova['materialname'].isin([\"Wood or Timber\",\"Concrete\", \"Steel\",\"Prestressed Concrete\"])]"
   ]
  },
  {
   "cell_type": "markdown",
   "metadata": {},
   "source": [
    "### Five point summary of the very high freeze thaw of the bridges in the Nebraska"
   ]
  },
  {
   "cell_type": "code",
   "execution_count": 16,
   "metadata": {},
   "outputs": [
    {
     "data": {
      "text/plain": [
       "count    300.000000\n",
       "mean     128.408596\n",
       "std        5.237719\n",
       "min      119.157895\n",
       "25%      123.263158\n",
       "50%      128.763158\n",
       "75%      133.894737\n",
       "max      133.894737\n",
       "Name: numfreezethaw, dtype: float64"
      ]
     },
     "execution_count": 16,
     "metadata": {},
     "output_type": "execute_result"
    }
   ],
   "source": [
    "df_anova[df_anova['freezethaw'] == 'Very High']['numfreezethaw'].describe()\n"
   ]
  },
  {
   "cell_type": "markdown",
   "metadata": {},
   "source": [
    "### Five point summary of the very low freeze thaw of the bridges in the Nebraska"
   ]
  },
  {
   "cell_type": "code",
   "execution_count": 18,
   "metadata": {},
   "outputs": [
    {
     "data": {
      "text/plain": [
       "count    338.000000\n",
       "mean      99.425646\n",
       "std        0.615778\n",
       "min       98.447368\n",
       "25%       99.236842\n",
       "50%       99.421053\n",
       "75%       99.973684\n",
       "max      100.552632\n",
       "Name: numfreezethaw, dtype: float64"
      ]
     },
     "execution_count": 18,
     "metadata": {},
     "output_type": "execute_result"
    }
   ],
   "source": [
    "df_anova[df_anova['freezethaw'] == 'Very Low']['numfreezethaw'].describe()\n"
   ]
  },
  {
   "cell_type": "markdown",
   "metadata": {},
   "source": [
    "### Small sample analysis"
   ]
  },
  {
   "cell_type": "code",
   "execution_count": 19,
   "metadata": {},
   "outputs": [
    {
     "data": {
      "text/html": [
       "<div>\n",
       "<style scoped>\n",
       "    .dataframe tbody tr th:only-of-type {\n",
       "        vertical-align: middle;\n",
       "    }\n",
       "\n",
       "    .dataframe tbody tr th {\n",
       "        vertical-align: top;\n",
       "    }\n",
       "\n",
       "    .dataframe thead th {\n",
       "        text-align: right;\n",
       "    }\n",
       "</style>\n",
       "<table border=\"1\" class=\"dataframe\">\n",
       "  <thead>\n",
       "    <tr style=\"text-align: right;\">\n",
       "      <th></th>\n",
       "      <th>sum_sq</th>\n",
       "      <th>df</th>\n",
       "      <th>F</th>\n",
       "      <th>PR(&gt;F)</th>\n",
       "      <th>eta_sq</th>\n",
       "      <th>omega_sq</th>\n",
       "    </tr>\n",
       "  </thead>\n",
       "  <tbody>\n",
       "    <tr>\n",
       "      <th>C(freezethaw)</th>\n",
       "      <td>27.794300</td>\n",
       "      <td>1.0</td>\n",
       "      <td>35.239977</td>\n",
       "      <td>1.286323e-08</td>\n",
       "      <td>0.151089</td>\n",
       "      <td>0.146175</td>\n",
       "    </tr>\n",
       "    <tr>\n",
       "      <th>Residual</th>\n",
       "      <td>156.165581</td>\n",
       "      <td>198.0</td>\n",
       "      <td>NaN</td>\n",
       "      <td>NaN</td>\n",
       "      <td>NaN</td>\n",
       "      <td>NaN</td>\n",
       "    </tr>\n",
       "  </tbody>\n",
       "</table>\n",
       "</div>"
      ],
      "text/plain": [
       "                   sum_sq     df          F        PR(>F)    eta_sq  omega_sq\n",
       "C(freezethaw)   27.794300    1.0  35.239977  1.286323e-08  0.151089  0.146175\n",
       "Residual       156.165581  198.0        NaN           NaN       NaN       NaN"
      ]
     },
     "execution_count": 19,
     "metadata": {},
     "output_type": "execute_result"
    }
   ],
   "source": [
    "freezethaw_small = df_anova.groupby('freezethaw').apply(lambda s: s.sample(100))\n",
    "freezethaw = df_anova.groupby('freezethaw').apply(lambda s: s.sample(100))['freezethaw'].tolist()\n",
    "score = df_anova.groupby('freezethaw').apply(lambda s: s.sample(100))['score'].tolist()\n",
    "df_freezethaw_sample_100 = pd.DataFrame({'freezethaw':freezethaw, 'score':score})\n",
    "df_freezethaw_100 = df_freezethaw_sample_100[df_freezethaw_sample_100['freezethaw'].isin(['Very Low', 'Very High'])]\n",
    "\n",
    "formula = 'score ~ C(freezethaw)'\n",
    "freezethaw_undersample = undersample(df_freezethaw_100, 'freezethaw')\n",
    "aov(freezethaw_undersample, formula)"
   ]
  },
  {
   "cell_type": "markdown",
   "metadata": {},
   "source": [
    "### Cohen'd: 0.96 (Large)"
   ]
  },
  {
   "cell_type": "markdown",
   "metadata": {},
   "source": [
    "### Large sample analysis"
   ]
  },
  {
   "cell_type": "code",
   "execution_count": 20,
   "metadata": {},
   "outputs": [
    {
     "data": {
      "text/html": [
       "<div>\n",
       "<style scoped>\n",
       "    .dataframe tbody tr th:only-of-type {\n",
       "        vertical-align: middle;\n",
       "    }\n",
       "\n",
       "    .dataframe tbody tr th {\n",
       "        vertical-align: top;\n",
       "    }\n",
       "\n",
       "    .dataframe thead th {\n",
       "        text-align: right;\n",
       "    }\n",
       "</style>\n",
       "<table border=\"1\" class=\"dataframe\">\n",
       "  <thead>\n",
       "    <tr style=\"text-align: right;\">\n",
       "      <th></th>\n",
       "      <th>sum_sq</th>\n",
       "      <th>df</th>\n",
       "      <th>F</th>\n",
       "      <th>PR(&gt;F)</th>\n",
       "      <th>eta_sq</th>\n",
       "      <th>omega_sq</th>\n",
       "    </tr>\n",
       "  </thead>\n",
       "  <tbody>\n",
       "    <tr>\n",
       "      <th>C(freezethaw)</th>\n",
       "      <td>103.733067</td>\n",
       "      <td>1.0</td>\n",
       "      <td>127.14719</td>\n",
       "      <td>7.150840e-27</td>\n",
       "      <td>0.17534</td>\n",
       "      <td>0.173721</td>\n",
       "    </tr>\n",
       "    <tr>\n",
       "      <th>Residual</th>\n",
       "      <td>487.878450</td>\n",
       "      <td>598.0</td>\n",
       "      <td>NaN</td>\n",
       "      <td>NaN</td>\n",
       "      <td>NaN</td>\n",
       "      <td>NaN</td>\n",
       "    </tr>\n",
       "  </tbody>\n",
       "</table>\n",
       "</div>"
      ],
      "text/plain": [
       "                   sum_sq     df          F        PR(>F)   eta_sq  omega_sq\n",
       "C(freezethaw)  103.733067    1.0  127.14719  7.150840e-27  0.17534  0.173721\n",
       "Residual       487.878450  598.0        NaN           NaN      NaN       NaN"
      ]
     },
     "execution_count": 20,
     "metadata": {},
     "output_type": "execute_result"
    }
   ],
   "source": [
    "samplesize = min(df_anova.groupby(['freezethaw'])['freezethaw'].count())\n",
    "freezethaw = df_anova.groupby('freezethaw').apply(lambda s: s.sample(samplesize))['freezethaw'].tolist()\n",
    "score = df_anova.groupby('freezethaw').apply(lambda s: s.sample(samplesize))['score'].tolist()\n",
    "df_freezethaw_sample_45121 = pd.DataFrame({'freezethaw':freezethaw, 'score':score})\n",
    "df_freezethaw_45121 = df_freezethaw_sample_45121[df_freezethaw_sample_45121['freezethaw'].isin(['Very Low', 'Very High'])]\n",
    "\n",
    "formula = 'score ~ C(freezethaw)'\n",
    "freezethaw_undersample = undersample(df_freezethaw_45121, 'freezethaw')\n",
    "aov(freezethaw_undersample, formula)"
   ]
  },
  {
   "cell_type": "markdown",
   "metadata": {},
   "source": [
    "### Cohen'd: 0.90 (Large)"
   ]
  },
  {
   "cell_type": "markdown",
   "metadata": {},
   "source": [
    "### Two-way ANOVA "
   ]
  },
  {
   "cell_type": "code",
   "execution_count": 21,
   "metadata": {},
   "outputs": [
    {
     "data": {
      "text/html": [
       "<div>\n",
       "<style scoped>\n",
       "    .dataframe tbody tr th:only-of-type {\n",
       "        vertical-align: middle;\n",
       "    }\n",
       "\n",
       "    .dataframe tbody tr th {\n",
       "        vertical-align: top;\n",
       "    }\n",
       "\n",
       "    .dataframe thead th {\n",
       "        text-align: right;\n",
       "    }\n",
       "</style>\n",
       "<table border=\"1\" class=\"dataframe\">\n",
       "  <thead>\n",
       "    <tr style=\"text-align: right;\">\n",
       "      <th></th>\n",
       "      <th>sum_sq</th>\n",
       "      <th>df</th>\n",
       "      <th>F</th>\n",
       "      <th>PR(&gt;F)</th>\n",
       "      <th>eta_sq</th>\n",
       "      <th>omega_sq</th>\n",
       "    </tr>\n",
       "  </thead>\n",
       "  <tbody>\n",
       "    <tr>\n",
       "      <th>C(freezethaw)</th>\n",
       "      <td>15.393114</td>\n",
       "      <td>1.0</td>\n",
       "      <td>18.896765</td>\n",
       "      <td>0.000022</td>\n",
       "      <td>0.087418</td>\n",
       "      <td>0.082411</td>\n",
       "    </tr>\n",
       "    <tr>\n",
       "      <th>C(material)</th>\n",
       "      <td>0.861208</td>\n",
       "      <td>3.0</td>\n",
       "      <td>0.352410</td>\n",
       "      <td>0.787447</td>\n",
       "      <td>0.004891</td>\n",
       "      <td>-0.008946</td>\n",
       "    </tr>\n",
       "    <tr>\n",
       "      <th>C(freezethaw):C(material)</th>\n",
       "      <td>3.430086</td>\n",
       "      <td>3.0</td>\n",
       "      <td>1.403604</td>\n",
       "      <td>0.243065</td>\n",
       "      <td>0.019480</td>\n",
       "      <td>0.005576</td>\n",
       "    </tr>\n",
       "    <tr>\n",
       "      <th>Residual</th>\n",
       "      <td>156.401262</td>\n",
       "      <td>192.0</td>\n",
       "      <td>NaN</td>\n",
       "      <td>NaN</td>\n",
       "      <td>NaN</td>\n",
       "      <td>NaN</td>\n",
       "    </tr>\n",
       "  </tbody>\n",
       "</table>\n",
       "</div>"
      ],
      "text/plain": [
       "                               sum_sq     df          F    PR(>F)    eta_sq  \\\n",
       "C(freezethaw)               15.393114    1.0  18.896765  0.000022  0.087418   \n",
       "C(material)                  0.861208    3.0   0.352410  0.787447  0.004891   \n",
       "C(freezethaw):C(material)    3.430086    3.0   1.403604  0.243065  0.019480   \n",
       "Residual                   156.401262  192.0        NaN       NaN       NaN   \n",
       "\n",
       "                           omega_sq  \n",
       "C(freezethaw)              0.082411  \n",
       "C(material)               -0.008946  \n",
       "C(freezethaw):C(material)  0.005576  \n",
       "Residual                        NaN  "
      ]
     },
     "execution_count": 21,
     "metadata": {},
     "output_type": "execute_result"
    }
   ],
   "source": [
    "freezethaw_small = df_anova.groupby('freezethaw').apply(lambda s: s.sample(100))\n",
    "span = freezethaw_small['freezethaw'].tolist()\n",
    "material= freezethaw_small['material'].tolist()\n",
    "\n",
    "score = df_anova.groupby('freezethaw').apply(lambda s: s.sample(100))['score'].tolist()\n",
    "df_span_sample_100 = pd.DataFrame({'freezethaw':span, 'score':score, 'material':material})\n",
    "df_span_100 = df_span_sample_100[df_span_sample_100['freezethaw'].isin(['Very Low', 'Very High'])]\n",
    "\n",
    "formula = 'score ~ C(freezethaw) + C(material) + C(freezethaw):C(material)'\n",
    "span_undersample = undersample(df_span_100, 'freezethaw')\n",
    "aov(span_undersample, formula)"
   ]
  },
  {
   "cell_type": "markdown",
   "metadata": {},
   "source": [
    "### Cohen's d\n",
    "### freezethaw: 0.677 (Medium)\n",
    "### material: 0.33 (Small)\n",
    "### freezethaw ~ material: 0.339 (Small)"
   ]
  },
  {
   "cell_type": "code",
   "execution_count": 22,
   "metadata": {},
   "outputs": [
    {
     "data": {
      "image/png": "[encoded data removed]",
      "text/plain": [
       "<matplotlib.figure.Figure at 0x1a3700d240>"
      ]
     },
     "metadata": {},
     "output_type": "display_data"
    }
   ],
   "source": [
    "scores_high = freezethaw_small[freezethaw_small['freezethaw'] == 'Very High']\n",
    "scores_high['materialname'] = retMaterialNames(scores_high['material'])\n",
    "\n",
    "low_mat = scores_high[scores_high['materialname'].isin([\"Wood or Timber\",\"Concrete\", \"Steel\",\"Prestressed Concrete\"])]\n",
    "count_mat = low_mat.groupby('materialname')['score'].count()\n",
    "\n",
    "# Plotting \n",
    "plt.figure(figsize=(8,8))\n",
    "plt.suptitle(\"Distribution of bridges with respect to Material Type in Very High Freeze Thaw \", fontsize = 20, fontweight = 'bold')\n",
    "sns.set(font_scale=2)\n",
    "\n",
    "\n",
    "labels = [\"Concrete\", \"Prestressed Concrete\",\\\n",
    "          \"Steel\", \"Wood or Timber\"]\n",
    "\n",
    "no_of_records = count_mat\n",
    "plt.barh(labels, no_of_records, align = 'center', alpha = 0.5, color = ['olive','midnightblue','blue','coral'])\n",
    "plt.xticks(size = 20, rotation = 0)\n",
    "plt.yticks(size = 20)\n",
    "plt.ylabel(\"Material Type\", fontweight = 'bold', fontsize = 20)\n",
    "plt.xlabel(\"Number of Bridges\", fontweight = 'bold', fontsize = 20)\n",
    "plt.show()"
   ]
  },
  {
   "cell_type": "markdown",
   "metadata": {},
   "source": [
    "### Very Low Freezethaw"
   ]
  },
  {
   "cell_type": "code",
   "execution_count": 23,
   "metadata": {},
   "outputs": [
    {
     "data": {
      "image/png": "[encoded data removed]",
      "text/plain": [
       "<matplotlib.figure.Figure at 0x1a3700b128>"
      ]
     },
     "metadata": {},
     "output_type": "display_data"
    }
   ],
   "source": [
    "scores_low = freezethaw_small[freezethaw_small['freezethaw'] == 'Very Low']\n",
    "scores_low['materialname'] = retMaterialNames(scores_low['material'])\n",
    "\n",
    "low_mat = scores_low[scores_low['materialname'].isin([\"Wood or Timber\",\"Concrete\", \"Steel\",\"Prestressed Concrete\"])]\n",
    "count_mat = low_mat.groupby('materialname')['score'].count()\n",
    "\n",
    "# Plotting \n",
    "plt.figure(figsize=(8,8))\n",
    "plt.suptitle(\"Distribution of bridges with respect to Material Type in Very Low Freeze Thaw \", fontsize = 20, fontweight = 'bold')\n",
    "sns.set(font_scale=2)\n",
    "\n",
    "\n",
    "labels = [\"Concrete\", \"Prestressed Concrete\",\\\n",
    "          \"Steel\", \"Wood or Timber\"]\n",
    "\n",
    "no_of_records = count_mat\n",
    "plt.barh(labels, no_of_records, align = 'center', alpha = 0.5, color = ['olive','midnightblue','blue','coral'])\n",
    "plt.xticks(size = 20, rotation = 0)\n",
    "plt.yticks(size = 20)\n",
    "plt.ylabel(\"Material Type\", fontweight = 'bold', fontsize = 20)\n",
    "plt.xlabel(\"Number of Bridges\", fontweight = 'bold', fontsize = 20)\n",
    "plt.show()"
   ]
  },
  {
   "cell_type": "markdown",
   "metadata": {},
   "source": [
    "### Count of the bridges with respect to material name with very high number of Freeze Thaw\n",
    "\n"
   ]
  },
  {
   "cell_type": "code",
   "execution_count": 24,
   "metadata": {},
   "outputs": [
    {
     "data": {
      "text/plain": [
       "materialname\n",
       "Concrete                20\n",
       "Prestressed Concrete    22\n",
       "Steel                   27\n",
       "Wood or Timber          31\n",
       "Name: materialname, dtype: int64"
      ]
     },
     "execution_count": 24,
     "metadata": {},
     "output_type": "execute_result"
    }
   ],
   "source": [
    "scores_high.groupby('materialname')['materialname'].count()\n"
   ]
  },
  {
   "cell_type": "markdown",
   "metadata": {},
   "source": [
    "### Count of the bridges with respect to material name with very low number of Freeze Thaw"
   ]
  },
  {
   "cell_type": "code",
   "execution_count": 25,
   "metadata": {},
   "outputs": [
    {
     "data": {
      "text/plain": [
       "materialname\n",
       "Concrete                 7\n",
       "Prestressed Concrete    11\n",
       "Steel                   79\n",
       "Wood or Timber           3\n",
       "Name: materialname, dtype: int64"
      ]
     },
     "execution_count": 25,
     "metadata": {},
     "output_type": "execute_result"
    }
   ],
   "source": [
    "scores_low.groupby('materialname')['materialname'].count()"
   ]
  },
  {
   "cell_type": "markdown",
   "metadata": {},
   "source": [
    "## Analysis of Steel Bridges"
   ]
  },
  {
   "cell_type": "code",
   "execution_count": 26,
   "metadata": {},
   "outputs": [],
   "source": [
    "df_steel = df_anova[df_anova['materialname'] == 'Steel']"
   ]
  },
  {
   "cell_type": "markdown",
   "metadata": {},
   "source": [
    "### Count of Steel Bridges with repect to freezethaw"
   ]
  },
  {
   "cell_type": "code",
   "execution_count": 27,
   "metadata": {},
   "outputs": [
    {
     "data": {
      "text/plain": [
       "freezethaw\n",
       "Very Low      275\n",
       "Medium       4222\n",
       "Very High      99\n",
       "Name: freezethaw, dtype: int64"
      ]
     },
     "execution_count": 27,
     "metadata": {},
     "output_type": "execute_result"
    }
   ],
   "source": [
    "df_steel.groupby('freezethaw')['freezethaw'].count()"
   ]
  },
  {
   "cell_type": "markdown",
   "metadata": {},
   "source": [
    "### Small sample analysis on Steel bridges "
   ]
  },
  {
   "cell_type": "code",
   "execution_count": 28,
   "metadata": {},
   "outputs": [
    {
     "data": {
      "text/html": [
       "<div>\n",
       "<style scoped>\n",
       "    .dataframe tbody tr th:only-of-type {\n",
       "        vertical-align: middle;\n",
       "    }\n",
       "\n",
       "    .dataframe tbody tr th {\n",
       "        vertical-align: top;\n",
       "    }\n",
       "\n",
       "    .dataframe thead th {\n",
       "        text-align: right;\n",
       "    }\n",
       "</style>\n",
       "<table border=\"1\" class=\"dataframe\">\n",
       "  <thead>\n",
       "    <tr style=\"text-align: right;\">\n",
       "      <th></th>\n",
       "      <th>sum_sq</th>\n",
       "      <th>df</th>\n",
       "      <th>F</th>\n",
       "      <th>PR(&gt;F)</th>\n",
       "      <th>eta_sq</th>\n",
       "      <th>omega_sq</th>\n",
       "    </tr>\n",
       "  </thead>\n",
       "  <tbody>\n",
       "    <tr>\n",
       "      <th>C(freezethaw)</th>\n",
       "      <td>55.060150</td>\n",
       "      <td>1.0</td>\n",
       "      <td>74.282882</td>\n",
       "      <td>2.254202e-15</td>\n",
       "      <td>0.274834</td>\n",
       "      <td>0.270135</td>\n",
       "    </tr>\n",
       "    <tr>\n",
       "      <th>Residual</th>\n",
       "      <td>145.279628</td>\n",
       "      <td>196.0</td>\n",
       "      <td>NaN</td>\n",
       "      <td>NaN</td>\n",
       "      <td>NaN</td>\n",
       "      <td>NaN</td>\n",
       "    </tr>\n",
       "  </tbody>\n",
       "</table>\n",
       "</div>"
      ],
      "text/plain": [
       "                   sum_sq     df          F        PR(>F)    eta_sq  omega_sq\n",
       "C(freezethaw)   55.060150    1.0  74.282882  2.254202e-15  0.274834  0.270135\n",
       "Residual       145.279628  196.0        NaN           NaN       NaN       NaN"
      ]
     },
     "execution_count": 28,
     "metadata": {},
     "output_type": "execute_result"
    }
   ],
   "source": [
    "freezethaw_small = df_steel.groupby('freezethaw').apply(lambda s: s.sample(99))\n",
    "freezethaw = df_steel.groupby('freezethaw').apply(lambda s: s.sample(99))['freezethaw'].tolist()\n",
    "score = df_steel.groupby('freezethaw').apply(lambda s: s.sample(99))['score'].tolist()\n",
    "df_freezethaw_sample_100 = pd.DataFrame({'freezethaw':freezethaw, 'score':score})\n",
    "df_freezethaw_100 = df_freezethaw_sample_100[df_freezethaw_sample_100['freezethaw'].isin(['Very Low', 'Very High'])]\n",
    "\n",
    "formula = 'score ~ C(freezethaw)'\n",
    "freezethaw_undersample = undersample(df_freezethaw_100, 'freezethaw')\n",
    "aov(freezethaw_undersample, formula)"
   ]
  },
  {
   "cell_type": "markdown",
   "metadata": {},
   "source": [
    "#### Cohen's d: 1.34 (Very Large)"
   ]
  },
  {
   "cell_type": "markdown",
   "metadata": {},
   "source": [
    "## Correlation between Average Daily Traffic and Freeze Thaw"
   ]
  },
  {
   "cell_type": "code",
   "execution_count": 29,
   "metadata": {},
   "outputs": [
    {
     "data": {
      "text/html": [
       "<div>\n",
       "<style scoped>\n",
       "    .dataframe tbody tr th:only-of-type {\n",
       "        vertical-align: middle;\n",
       "    }\n",
       "\n",
       "    .dataframe tbody tr th {\n",
       "        vertical-align: top;\n",
       "    }\n",
       "\n",
       "    .dataframe thead th {\n",
       "        text-align: right;\n",
       "    }\n",
       "</style>\n",
       "<table border=\"1\" class=\"dataframe\">\n",
       "  <thead>\n",
       "    <tr style=\"text-align: right;\">\n",
       "      <th></th>\n",
       "      <th>aadtt</th>\n",
       "      <th>numfreezethaw</th>\n",
       "    </tr>\n",
       "  </thead>\n",
       "  <tbody>\n",
       "    <tr>\n",
       "      <th>aadtt</th>\n",
       "      <td>1.000000</td>\n",
       "      <td>-0.101505</td>\n",
       "    </tr>\n",
       "    <tr>\n",
       "      <th>numfreezethaw</th>\n",
       "      <td>-0.101505</td>\n",
       "      <td>1.000000</td>\n",
       "    </tr>\n",
       "  </tbody>\n",
       "</table>\n",
       "</div>"
      ],
      "text/plain": [
       "                  aadtt  numfreezethaw\n",
       "aadtt          1.000000      -0.101505\n",
       "numfreezethaw -0.101505       1.000000"
      ]
     },
     "execution_count": 29,
     "metadata": {},
     "output_type": "execute_result"
    }
   ],
   "source": [
    "df_high_low = df_anova[df_anova['freezethaw'].isin(['Very Low', 'Very High'])]\n",
    "df_high_low = df_high_low[['aadtt','numfreezethaw']]\n",
    "df_high_low.corr()"
   ]
  }
 ],
 "metadata": {
  "kernelspec": {
   "display_name": "Python 3",
   "language": "python",
   "name": "python3"
  },
  "language_info": {
   "codemirror_mode": {
    "name": "ipython",
    "version": 3
   },
   "file_extension": ".py",
   "mimetype": "text/x-python",
   "name": "python",
   "nbconvert_exporter": "python",
   "pygments_lexer": "ipython3",
   "version": "3.6.4"
  }
 },
 "nbformat": 4,
 "nbformat_minor": 2
}
