{
 "cells": [
  {
   "cell_type": "code",
   "execution_count": 3,
   "metadata": {},
   "outputs": [],
   "source": [
    "import pymongo\n",
    "from pymongo import MongoClient\n",
    "import time\n",
    "import pandas as pd\n",
    "import numpy as np\n",
    "import seaborn as sns\n",
    "import matplotlib.pyplot as plt\n",
    "import csv\n",
    "from sklearn import preprocessing\n",
    "import warnings\n",
    "import sys\n",
    "import os\n",
    "def nbipath():\n",
    "    os.chdir('..')\n",
    "    path = os.getcwd()+'/nbi'\n",
    "    return path \n",
    "\n",
    "sys.path.insert(0, nbipath())\n",
    "from nbi1 import *\n",
    "\n",
    "from numpy.random import randn\n",
    "from scipy.stats import anderson\n",
    "from scipy.stats import normaltest\n",
    "from statsmodels.graphics.gofplots import qqplot\n",
    "from matplotlib import pyplot\n",
    "import scipy\n",
    "\n",
    "from statsmodels.formula.api import ols\n",
    "from statsmodels.stats.anova import anova_lm\n",
    "from statsmodels.graphics.factorplots import interaction_plot\n",
    "from scipy import stats\n",
    "\n",
    "\n",
    "import matplotlib.patches as mpatches\n",
    "import matplotlib.pyplot as plt\n",
    "import matplotlib.lines as mlines\n",
    "\n",
    "warnings.filterwarnings('ignore')"
   ]
  },
  {
   "cell_type": "code",
   "execution_count": 4,
   "metadata": {},
   "outputs": [],
   "source": [
    "def eta_squared(aov):\n",
    "    aov['eta_sq'] = 'NaN'\n",
    "    aov['eta_sq'] = aov[:-1]['sum_sq']/sum(aov['sum_sq'])\n",
    "    return aov\n",
    " \n",
    "def omega_squared(aov):\n",
    "    mse = aov['sum_sq'][-1]/aov['df'][-1]\n",
    "    aov['omega_sq'] = 'NaN'\n",
    "    aov['omega_sq'] = (aov[:-1]['sum_sq']-(aov[:-1]['df']*mse))/(sum(aov['sum_sq'])+mse)\n",
    "    return aov\n",
    "\n",
    "def undersample(df, keyword):\n",
    "    \"\"\"\n",
    "    It will take a dataframe and a keyword to groupby\n",
    "    :input: df: Dataframe\n",
    "            Key-word: column to groupby\n",
    "            \n",
    "    :return: undersample_df: Datafram\n",
    "    \n",
    "    \"\"\"\n",
    "    groupby_df = df.groupby([keyword]).count()\n",
    "    count = min(groupby_df[groupby_df.columns[0]].tolist())\n",
    "    \n",
    "    tempdf_list = []\n",
    "\n",
    "    for index in df[keyword].unique():\n",
    "        tempdf_list.append(df[df[keyword] == index].sample(count)) ## Count\n",
    "    \n",
    "    undersample_df = pd.concat(tempdf_list)\n",
    "    \n",
    "    return undersample_df\n",
    "\n",
    "def aov(df, formula):\n",
    "    \"\"\"\n",
    "    :input: df: DataFrame\n",
    "            formula: \n",
    "    \n",
    "    :return: \n",
    "            Table\n",
    "    \"\"\"  \n",
    "    model = ols(formula, df).fit()\n",
    "    aov_table = anova_lm(model, typ=2)\n",
    "\n",
    "    eta_squared(aov_table)\n",
    "    return omega_squared(aov_table)"
   ]
  },
  {
   "cell_type": "code",
   "execution_count": 6,
   "metadata": {},
   "outputs": [],
   "source": [
    "csv_file = \"/Users/AkshayKale/Documents/github/data/nbi/06-20-19-thesis-dataset-without-outliers_allstates\"\n",
    "df_wo = pd.read_csv(csv_file, index_col = 0)"
   ]
  },
  {
   "cell_type": "code",
   "execution_count": 7,
   "metadata": {},
   "outputs": [],
   "source": [
    "# Arrange Dataframe is ascending order\n",
    "df_wo['5 percent'] = pd.qcut(df_wo['Avg. Daily Precipitation'],[0, .05, .95, 1.], labels = ['Very Low','Medium','Very High'])\n",
    "df_wo['spanlength'] = pd.qcut(df_wo['Length Of Maximum Span Flat'],[0, .1, .8, 1.], labels = ['Very Low','Medium','Very High'])\n",
    "\n",
    "df_anova = df_wo[['Baseline Difference Score', 'ADT Category','ADTT Category','Avg. Daily Precipitation', 'State Code','5 percent',\\\n",
    "                       'Length Of Maximum Span Flat', 'Material','Structure Type', 'Maintainer','spanlength']]\n",
    "\n",
    "df_anova = df_anova.rename(index=str, columns={\"Baseline Difference Score\": \"score\", \\\n",
    "                                               \"ADT Category\": \"adt\", \\\n",
    "                                               \"ADTT Category\": \"adtt\",\\\n",
    "                                               \"Avg. Daily Precipitation\": \"precp\", \\\n",
    "                                               \"State Code\":\"region\", \\\n",
    "                                               \"5 percent\": \"precipitation\", \\\n",
    "                                               \"Length Of Maximum Span Flat\": \"lengthofspan\",\\\n",
    "                                               \"Material\":\"material\",\\\n",
    "                                               \"Structure Type\":\"structuretype\",\\\n",
    "                                               \"Maintainer\":\"maintainer\",\\\n",
    "                                               \"spanlength\":\"spanlength\"\n",
    "                                              })\n",
    "# Northeast\n",
    "N = ['09','23','25','33','44','50','34','36','42']  \n",
    "\n",
    "# Midwest\n",
    "M = ['17','18','21','39','55','19','20','27','29','31','38','46']\n",
    "\n",
    "# South\n",
    "S = ['10','12','13','24','37','45','51','11','54','01','21','28','47','05','22','40','48']\n",
    "\n",
    "# West\n",
    "W = ['04','08','16','32','30','35','49','56','01','06','15','41','53','72']\n",
    "\n",
    "w = [int(i) for i in W]\n",
    "s = [int(i) for i in S]\n",
    "m = [int(i) for i in M]\n",
    "n = [int(i) for i in N]\n",
    "\n",
    "west_df_anova = df_anova[df_anova[\"region\"].isin(w)]\n",
    "west_df_anova['region'] = len(west_df_anova)*['West']\n",
    "\n",
    "south_df_anova = df_anova[df_anova[\"region\"].isin(s)]\n",
    "south_df_anova['region'] = len(south_df_anova)*['South']\n",
    "\n",
    "midwest_df_anova = df_anova[df_anova[\"region\"].isin(m)]\n",
    "midwest_df_anova['region'] = len(midwest_df_anova)*['Midwest']\n",
    "\n",
    "northeast_df_anova = df_anova[df_anova[\"region\"].isin(n)]\n",
    "northeast_df_anova['region'] = len(northeast_df_anova)*['Northeast']\n",
    "\n",
    "\n",
    "\n",
    "df_anova['precp']  =  pd.qcut(df_anova['precp'], 4, labels=[\"Very Light\", \"Light\", \"Moderate\",\"Heavy\"])\n",
    "\n",
    "df_anova = pd.concat([west_df_anova,midwest_df_anova,south_df_anova,northeast_df_anova])"
   ]
  },
  {
   "cell_type": "code",
   "execution_count": 8,
   "metadata": {},
   "outputs": [
    {
     "data": {
      "text/html": [
       "<div>\n",
       "<style scoped>\n",
       "    .dataframe tbody tr th:only-of-type {\n",
       "        vertical-align: middle;\n",
       "    }\n",
       "\n",
       "    .dataframe tbody tr th {\n",
       "        vertical-align: top;\n",
       "    }\n",
       "\n",
       "    .dataframe thead th {\n",
       "        text-align: right;\n",
       "    }\n",
       "</style>\n",
       "<table border=\"1\" class=\"dataframe\">\n",
       "  <thead>\n",
       "    <tr style=\"text-align: right;\">\n",
       "      <th></th>\n",
       "      <th>score</th>\n",
       "      <th>adt</th>\n",
       "      <th>adtt</th>\n",
       "      <th>precp</th>\n",
       "      <th>region</th>\n",
       "      <th>precipitation</th>\n",
       "      <th>lengthofspan</th>\n",
       "      <th>material</th>\n",
       "      <th>structuretype</th>\n",
       "      <th>maintainer</th>\n",
       "      <th>spanlength</th>\n",
       "    </tr>\n",
       "  </thead>\n",
       "  <tbody>\n",
       "    <tr>\n",
       "      <th>5</th>\n",
       "      <td>0.600322</td>\n",
       "      <td>Very Light</td>\n",
       "      <td>Light</td>\n",
       "      <td>0.87</td>\n",
       "      <td>West</td>\n",
       "      <td>Very Low</td>\n",
       "      <td>16.2</td>\n",
       "      <td>7</td>\n",
       "      <td>2</td>\n",
       "      <td>1</td>\n",
       "      <td>Medium</td>\n",
       "    </tr>\n",
       "    <tr>\n",
       "      <th>14</th>\n",
       "      <td>-0.407231</td>\n",
       "      <td>Moderate</td>\n",
       "      <td>Light</td>\n",
       "      <td>0.94</td>\n",
       "      <td>West</td>\n",
       "      <td>Very Low</td>\n",
       "      <td>12.2</td>\n",
       "      <td>5</td>\n",
       "      <td>2</td>\n",
       "      <td>1</td>\n",
       "      <td>Medium</td>\n",
       "    </tr>\n",
       "    <tr>\n",
       "      <th>70</th>\n",
       "      <td>0.179531</td>\n",
       "      <td>Light</td>\n",
       "      <td>Light</td>\n",
       "      <td>0.87</td>\n",
       "      <td>West</td>\n",
       "      <td>Very Low</td>\n",
       "      <td>6.1</td>\n",
       "      <td>7</td>\n",
       "      <td>2</td>\n",
       "      <td>1</td>\n",
       "      <td>Very Low</td>\n",
       "    </tr>\n",
       "    <tr>\n",
       "      <th>204</th>\n",
       "      <td>0.636844</td>\n",
       "      <td>Light</td>\n",
       "      <td>Light</td>\n",
       "      <td>0.70</td>\n",
       "      <td>West</td>\n",
       "      <td>Very Low</td>\n",
       "      <td>8.0</td>\n",
       "      <td>7</td>\n",
       "      <td>2</td>\n",
       "      <td>1</td>\n",
       "      <td>Medium</td>\n",
       "    </tr>\n",
       "    <tr>\n",
       "      <th>308</th>\n",
       "      <td>-1.227671</td>\n",
       "      <td>Moderate</td>\n",
       "      <td>Light</td>\n",
       "      <td>0.70</td>\n",
       "      <td>West</td>\n",
       "      <td>Very Low</td>\n",
       "      <td>61.0</td>\n",
       "      <td>3</td>\n",
       "      <td>10</td>\n",
       "      <td>80</td>\n",
       "      <td>Very High</td>\n",
       "    </tr>\n",
       "  </tbody>\n",
       "</table>\n",
       "</div>"
      ],
      "text/plain": [
       "        score         adt   adtt  precp region precipitation  lengthofspan  \\\n",
       "5    0.600322  Very Light  Light   0.87   West      Very Low          16.2   \n",
       "14  -0.407231    Moderate  Light   0.94   West      Very Low          12.2   \n",
       "70   0.179531       Light  Light   0.87   West      Very Low           6.1   \n",
       "204  0.636844       Light  Light   0.70   West      Very Low           8.0   \n",
       "308 -1.227671    Moderate  Light   0.70   West      Very Low          61.0   \n",
       "\n",
       "     material  structuretype  maintainer spanlength  \n",
       "5           7              2           1     Medium  \n",
       "14          5              2           1     Medium  \n",
       "70          7              2           1   Very Low  \n",
       "204         7              2           1     Medium  \n",
       "308         3             10          80  Very High  "
      ]
     },
     "execution_count": 8,
     "metadata": {},
     "output_type": "execute_result"
    }
   ],
   "source": [
    "df_anova.head()"
   ]
  },
  {
   "cell_type": "code",
   "execution_count": 9,
   "metadata": {},
   "outputs": [
    {
     "data": {
      "image/png": "[encoded data removed]",
      "text/plain": [
       "<matplotlib.figure.Figure at 0x1a26917470>"
      ]
     },
     "metadata": {},
     "output_type": "display_data"
    }
   ],
   "source": [
    "count_adt = df_anova.groupby('adtt')['score'].count()\n",
    "\n",
    "# Plotting \n",
    "plt.figure(figsize=(8,8))\n",
    "plt.suptitle(\"Baseline Difference Scores\", fontsize = 20, fontweight = 'bold')\n",
    "sns.set(font_scale=2)\n",
    "\n",
    "#Subplot 1\n",
    "labels = [\"Light\", \"Moderate\", \"Heavy\"]\n",
    "no_of_records = [count_adt[1], count_adt[2], count_adt[0]]\n",
    "plt.barh(labels, no_of_records, align = 'center', alpha = 0.5, color = ['skyblue','c','cadetblue','darkslategray'])\n",
    "plt.xticks(size = 20, rotation = 0)\n",
    "plt.yticks(size = 20)\n",
    "plt.ylabel(\"Average Daily Truck Traffic\", fontweight = 'bold', fontsize = 20)\n",
    "plt.xlabel(\"Number of Bridges\", fontweight = 'bold', fontsize = 20)\n",
    "plt.show()"
   ]
  },
  {
   "cell_type": "code",
   "execution_count": 10,
   "metadata": {},
   "outputs": [
    {
     "data": {
      "text/plain": [
       "adtt\n",
       "Heavy        70110\n",
       "Light       306753\n",
       "Moderate     56813\n",
       "Name: score, dtype: int64"
      ]
     },
     "execution_count": 10,
     "metadata": {},
     "output_type": "execute_result"
    }
   ],
   "source": [
    "count_adt"
   ]
  },
  {
   "cell_type": "code",
   "execution_count": 11,
   "metadata": {},
   "outputs": [
    {
     "data": {
      "image/png": "[encoded data removed]",
      "text/plain": [
       "<matplotlib.figure.Figure at 0x1a26335128>"
      ]
     },
     "metadata": {},
     "output_type": "display_data"
    }
   ],
   "source": [
    "scores_light = df_anova[df_anova['adtt'] == 'Light']['score']\n",
    "scores_moderate = df_anova[df_anova['adtt'] == 'Moderate']['score']\n",
    "scores_heavy = df_anova[df_anova['adtt'] == 'Heavy']['score']\n",
    "\n",
    "scores_adt = [scores_light, scores_moderate, scores_heavy]\n",
    "\n",
    "\n",
    "green_line = mlines.Line2D([], [], color='Green',\n",
    "                          markersize=15, label='Median')\n",
    "red_triangle = mlines.Line2D([], [], color='Red', marker='^',\n",
    "                          markersize=15, label='Mean')\n",
    "\n",
    "\n",
    "\n",
    "\n",
    "# Plotting \n",
    "plt.figure(figsize=(12,8))\n",
    "plt.subplots_adjust(bottom=0, left=0.025, top = 0.9, right=0.975)\n",
    "plt.suptitle(\"Baseline Difference Scores\", fontsize = 20, fontweight = 'bold')\n",
    "sns.set(font_scale=2)\n",
    "\n",
    "plt.boxplot(scores_adt, labels = labels, showfliers=True, showmeans=True)\n",
    "plt.xticks(size = 20)\n",
    "plt.yticks(size = 20)\n",
    "plt.xlabel(\"Average Daily Truck Traffic\", fontweight = 'bold')\n",
    "plt.ylabel(\"Baseline Difference Score\", fontweight = 'bold')\n",
    "\n",
    "red_patch = mpatches.Patch(color='red', label='The red data')\n",
    "green_patch = mpatches.Patch(color='green', label='The red data')\n",
    "plt.legend(handles=[red_triangle, green_line], loc = \"lower center\")\n",
    "\n",
    "plt.show()"
   ]
  },
  {
   "cell_type": "markdown",
   "metadata": {},
   "source": [
    "#### ANOVA - Small Sample"
   ]
  },
  {
   "cell_type": "code",
   "execution_count": 12,
   "metadata": {},
   "outputs": [
    {
     "data": {
      "text/html": [
       "<div>\n",
       "<style scoped>\n",
       "    .dataframe tbody tr th:only-of-type {\n",
       "        vertical-align: middle;\n",
       "    }\n",
       "\n",
       "    .dataframe tbody tr th {\n",
       "        vertical-align: top;\n",
       "    }\n",
       "\n",
       "    .dataframe thead th {\n",
       "        text-align: right;\n",
       "    }\n",
       "</style>\n",
       "<table border=\"1\" class=\"dataframe\">\n",
       "  <thead>\n",
       "    <tr style=\"text-align: right;\">\n",
       "      <th></th>\n",
       "      <th>sum_sq</th>\n",
       "      <th>df</th>\n",
       "      <th>F</th>\n",
       "      <th>PR(&gt;F)</th>\n",
       "      <th>eta_sq</th>\n",
       "      <th>omega_sq</th>\n",
       "    </tr>\n",
       "  </thead>\n",
       "  <tbody>\n",
       "    <tr>\n",
       "      <th>C(adtt)</th>\n",
       "      <td>1.576256</td>\n",
       "      <td>2.0</td>\n",
       "      <td>1.320849</td>\n",
       "      <td>0.268472</td>\n",
       "      <td>0.008816</td>\n",
       "      <td>0.002134</td>\n",
       "    </tr>\n",
       "    <tr>\n",
       "      <th>Residual</th>\n",
       "      <td>177.214829</td>\n",
       "      <td>297.0</td>\n",
       "      <td>NaN</td>\n",
       "      <td>NaN</td>\n",
       "      <td>NaN</td>\n",
       "      <td>NaN</td>\n",
       "    </tr>\n",
       "  </tbody>\n",
       "</table>\n",
       "</div>"
      ],
      "text/plain": [
       "              sum_sq     df         F    PR(>F)    eta_sq  omega_sq\n",
       "C(adtt)     1.576256    2.0  1.320849  0.268472  0.008816  0.002134\n",
       "Residual  177.214829  297.0       NaN       NaN       NaN       NaN"
      ]
     },
     "execution_count": 12,
     "metadata": {},
     "output_type": "execute_result"
    }
   ],
   "source": [
    "adt = df_anova.groupby('adtt').apply(lambda s: s.sample(100))['adtt'].tolist()\n",
    "score = df_anova.groupby('adtt').apply(lambda s: s.sample(100))['score'].tolist()\n",
    "df_adt_sample_100 = pd.DataFrame({'adtt':adt, 'score':score})\n",
    "formula = 'score ~ C(adtt)'\n",
    "adt_undersample = undersample(df_adt_sample_100, 'adtt')\n",
    "aov(adt_undersample, formula)"
   ]
  },
  {
   "cell_type": "markdown",
   "metadata": {},
   "source": [
    "### Cohen's d: 0.12 (Very small) "
   ]
  },
  {
   "cell_type": "markdown",
   "metadata": {},
   "source": [
    "#### ANOVA - Large Sample"
   ]
  },
  {
   "cell_type": "code",
   "execution_count": 13,
   "metadata": {},
   "outputs": [
    {
     "data": {
      "text/html": [
       "<div>\n",
       "<style scoped>\n",
       "    .dataframe tbody tr th:only-of-type {\n",
       "        vertical-align: middle;\n",
       "    }\n",
       "\n",
       "    .dataframe tbody tr th {\n",
       "        vertical-align: top;\n",
       "    }\n",
       "\n",
       "    .dataframe thead th {\n",
       "        text-align: right;\n",
       "    }\n",
       "</style>\n",
       "<table border=\"1\" class=\"dataframe\">\n",
       "  <thead>\n",
       "    <tr style=\"text-align: right;\">\n",
       "      <th></th>\n",
       "      <th>sum_sq</th>\n",
       "      <th>df</th>\n",
       "      <th>F</th>\n",
       "      <th>PR(&gt;F)</th>\n",
       "      <th>eta_sq</th>\n",
       "      <th>omega_sq</th>\n",
       "    </tr>\n",
       "  </thead>\n",
       "  <tbody>\n",
       "    <tr>\n",
       "      <th>C(adtt)</th>\n",
       "      <td>310.120766</td>\n",
       "      <td>2.0</td>\n",
       "      <td>258.032447</td>\n",
       "      <td>1.280110e-112</td>\n",
       "      <td>0.003019</td>\n",
       "      <td>0.003007</td>\n",
       "    </tr>\n",
       "    <tr>\n",
       "      <th>Residual</th>\n",
       "      <td>102420.729215</td>\n",
       "      <td>170436.0</td>\n",
       "      <td>NaN</td>\n",
       "      <td>NaN</td>\n",
       "      <td>NaN</td>\n",
       "      <td>NaN</td>\n",
       "    </tr>\n",
       "  </tbody>\n",
       "</table>\n",
       "</div>"
      ],
      "text/plain": [
       "                 sum_sq        df           F         PR(>F)    eta_sq  \\\n",
       "C(adtt)      310.120766       2.0  258.032447  1.280110e-112  0.003019   \n",
       "Residual  102420.729215  170436.0         NaN            NaN       NaN   \n",
       "\n",
       "          omega_sq  \n",
       "C(adtt)   0.003007  \n",
       "Residual       NaN  "
      ]
     },
     "execution_count": 13,
     "metadata": {},
     "output_type": "execute_result"
    }
   ],
   "source": [
    "formula = 'score ~ C(adtt)'\n",
    "adt_undersample = undersample(df_anova, 'adtt')\n",
    "aov(adt_undersample, formula)"
   ]
  },
  {
   "cell_type": "markdown",
   "metadata": {},
   "source": [
    "### Cohen's d: 0.08 (Very small)"
   ]
  },
  {
   "cell_type": "markdown",
   "metadata": {},
   "source": [
    "### Analysis of Deck "
   ]
  },
  {
   "cell_type": "code",
   "execution_count": 14,
   "metadata": {},
   "outputs": [],
   "source": [
    "csv_file = \"/Users/AkshayKale/Documents/github/data/nbi/06-20-19-thesis-dataset-without-outliers_allstates\"\n",
    "df_wo = pd.read_csv(csv_file, index_col = 0)"
   ]
  },
  {
   "cell_type": "code",
   "execution_count": 15,
   "metadata": {},
   "outputs": [],
   "source": [
    "# Arrange Dataframe is ascending order\n",
    "df_wo['5 percent'] = pd.qcut(df_wo['Avg. Daily Precipitation'],[0, .05, .95, 1.], labels = ['Very Low','Medium','Very High'])\n",
    "df_wo['spanlength'] = pd.qcut(df_wo['Length Of Maximum Span Flat'],[0, .1, .8, 1.], labels = ['Very Low','Medium','Very High'])\n",
    "\n",
    "df_anova = df_wo[['Baseline Difference Score', 'ADT Category','ADTT Category','Avg. Daily Precipitation', 'State Code','5 percent',\\\n",
    "                       'Length Of Maximum Span Flat', 'Material','Structure Type', 'Maintainer','spanlength']]\n",
    "\n",
    "df_anova = df_anova.rename(index=str, columns={\"Baseline Difference Score\": \"score\", \\\n",
    "                                               \"ADT Category\": \"adt\", \\\n",
    "                                               \"ADTT Category\": \"adtt\",\\\n",
    "                                               \"Avg. Daily Precipitation\": \"precp\", \\\n",
    "                                               \"State Code\":\"region\", \\\n",
    "                                               \"5 percent\": \"precipitation\", \\\n",
    "                                               \"Length Of Maximum Span Flat\": \"lengthofspan\",\\\n",
    "                                               \"Material\":\"material\",\\\n",
    "                                               \"Structure Type\":\"structuretype\",\\\n",
    "                                               \"Maintainer\":\"maintainer\",\\\n",
    "                                               \"spanlength\":\"spanlength\"\n",
    "                                              })\n",
    "# Northeast\n",
    "N = ['09','23','25','33','44','50','34','36','42']  \n",
    "\n",
    "# Midwest\n",
    "M = ['17','18','21','39','55','19','20','27','29','31','38','46']\n",
    "\n",
    "# South\n",
    "S = ['10','12','13','24','37','45','51','11','54','01','21','28','47','05','22','40','48']\n",
    "\n",
    "# West\n",
    "W = ['04','08','16','32','30','35','49','56','01','06','15','41','53','72']\n",
    "\n",
    "w = [int(i) for i in W]\n",
    "s = [int(i) for i in S]\n",
    "m = [int(i) for i in M]\n",
    "n = [int(i) for i in N]\n",
    "\n",
    "west_df_anova = df_anova[df_anova[\"region\"].isin(w)]\n",
    "west_df_anova['region'] = len(west_df_anova)*['West']\n",
    "\n",
    "south_df_anova = df_anova[df_anova[\"region\"].isin(s)]\n",
    "south_df_anova['region'] = len(south_df_anova)*['South']\n",
    "\n",
    "midwest_df_anova = df_anova[df_anova[\"region\"].isin(m)]\n",
    "midwest_df_anova['region'] = len(midwest_df_anova)*['Midwest']\n",
    "\n",
    "northeast_df_anova = df_anova[df_anova[\"region\"].isin(n)]\n",
    "northeast_df_anova['region'] = len(northeast_df_anova)*['Northeast']\n",
    "\n",
    "\n",
    "\n",
    "df_anova['precp']  =  pd.qcut(df_anova['precp'], 4, labels=[\"Very Light\", \"Light\", \"Moderate\",\"Heavy\"])\n",
    "\n",
    "df_anova = pd.concat([west_df_anova,midwest_df_anova,south_df_anova,northeast_df_anova])"
   ]
  },
  {
   "cell_type": "code",
   "execution_count": 16,
   "metadata": {},
   "outputs": [
    {
     "data": {
      "image/png": "[encoded data removed]",
      "text/plain": [
       "<matplotlib.figure.Figure at 0x1a4ae31898>"
      ]
     },
     "metadata": {},
     "output_type": "display_data"
    }
   ],
   "source": [
    "count_adt = df_anova.groupby('adtt')['score'].count()\n",
    "\n",
    "# Plotting \n",
    "plt.figure(figsize=(8,8))\n",
    "plt.suptitle(\"Baseline Difference Scores\", fontsize = 20, fontweight = 'bold')\n",
    "sns.set(font_scale=2)\n",
    "\n",
    "#Subplot 1\n",
    "labels = [\"Light\", \"Moderate\", \"Heavy\"]\n",
    "no_of_records = [count_adt[1], count_adt[2], count_adt[0]]\n",
    "plt.barh(labels, no_of_records, align = 'center', alpha = 0.5, color = ['skyblue','c','cadetblue','darkslategray'])\n",
    "plt.xticks(size = 20, rotation = 0)\n",
    "plt.yticks(size = 20)\n",
    "plt.ylabel(\"Average Daily Truck Traffic\", fontweight = 'bold', fontsize = 20)\n",
    "plt.xlabel(\"Number of Bridges\", fontweight = 'bold', fontsize = 20)\n",
    "plt.show()"
   ]
  },
  {
   "cell_type": "code",
   "execution_count": 17,
   "metadata": {},
   "outputs": [
    {
     "data": {
      "text/plain": [
       "adtt\n",
       "Heavy        70110\n",
       "Light       306753\n",
       "Moderate     56813\n",
       "Name: score, dtype: int64"
      ]
     },
     "execution_count": 17,
     "metadata": {},
     "output_type": "execute_result"
    }
   ],
   "source": [
    "count_adt"
   ]
  },
  {
   "cell_type": "code",
   "execution_count": 18,
   "metadata": {},
   "outputs": [
    {
     "data": {
      "image/png": "[encoded data removed]",
      "text/plain": [
       "<matplotlib.figure.Figure at 0x1a4addae10>"
      ]
     },
     "metadata": {},
     "output_type": "display_data"
    }
   ],
   "source": [
    "scores_light = df_anova[df_anova['adtt'] == 'Light']['score']\n",
    "scores_moderate = df_anova[df_anova['adtt'] == 'Moderate']['score']\n",
    "scores_heavy = df_anova[df_anova['adtt'] == 'Heavy']['score']\n",
    "\n",
    "scores_adt = [scores_light, scores_moderate, scores_heavy]\n",
    "\n",
    "\n",
    "green_line = mlines.Line2D([], [], color='Green',\n",
    "                          markersize=15, label='Median')\n",
    "red_triangle = mlines.Line2D([], [], color='Red', marker='^',\n",
    "                          markersize=15, label='Mean')\n",
    "\n",
    "\n",
    "\n",
    "\n",
    "# Plotting \n",
    "plt.figure(figsize=(12,8))\n",
    "plt.subplots_adjust(bottom=0, left=0.025, top = 0.9, right=0.975)\n",
    "plt.suptitle(\"Baseline Difference Scores\", fontsize = 20, fontweight = 'bold')\n",
    "sns.set(font_scale=2)\n",
    "\n",
    "plt.boxplot(scores_adt, labels = labels, showfliers=True, showmeans=True)\n",
    "plt.xticks(size = 20)\n",
    "plt.yticks(size = 20)\n",
    "plt.xlabel(\"Average Daily Truck Traffic\", fontweight = 'bold')\n",
    "plt.ylabel(\"Baseline Difference Score\", fontweight = 'bold')\n",
    "\n",
    "red_patch = mpatches.Patch(color='red', label='The red data')\n",
    "green_patch = mpatches.Patch(color='green', label='The red data')\n",
    "plt.legend(handles=[red_triangle, green_line], loc = \"lower center\")\n",
    "\n",
    "plt.show()"
   ]
  },
  {
   "cell_type": "code",
   "execution_count": 19,
   "metadata": {},
   "outputs": [
    {
     "data": {
      "text/html": [
       "<div>\n",
       "<style scoped>\n",
       "    .dataframe tbody tr th:only-of-type {\n",
       "        vertical-align: middle;\n",
       "    }\n",
       "\n",
       "    .dataframe tbody tr th {\n",
       "        vertical-align: top;\n",
       "    }\n",
       "\n",
       "    .dataframe thead th {\n",
       "        text-align: right;\n",
       "    }\n",
       "</style>\n",
       "<table border=\"1\" class=\"dataframe\">\n",
       "  <thead>\n",
       "    <tr style=\"text-align: right;\">\n",
       "      <th></th>\n",
       "      <th>sum_sq</th>\n",
       "      <th>df</th>\n",
       "      <th>F</th>\n",
       "      <th>PR(&gt;F)</th>\n",
       "      <th>eta_sq</th>\n",
       "      <th>omega_sq</th>\n",
       "    </tr>\n",
       "  </thead>\n",
       "  <tbody>\n",
       "    <tr>\n",
       "      <th>C(adtt)</th>\n",
       "      <td>1.537915</td>\n",
       "      <td>2.0</td>\n",
       "      <td>1.182623</td>\n",
       "      <td>0.307913</td>\n",
       "      <td>0.007901</td>\n",
       "      <td>0.001216</td>\n",
       "    </tr>\n",
       "    <tr>\n",
       "      <th>Residual</th>\n",
       "      <td>193.113500</td>\n",
       "      <td>297.0</td>\n",
       "      <td>NaN</td>\n",
       "      <td>NaN</td>\n",
       "      <td>NaN</td>\n",
       "      <td>NaN</td>\n",
       "    </tr>\n",
       "  </tbody>\n",
       "</table>\n",
       "</div>"
      ],
      "text/plain": [
       "              sum_sq     df         F    PR(>F)    eta_sq  omega_sq\n",
       "C(adtt)     1.537915    2.0  1.182623  0.307913  0.007901  0.001216\n",
       "Residual  193.113500  297.0       NaN       NaN       NaN       NaN"
      ]
     },
     "execution_count": 19,
     "metadata": {},
     "output_type": "execute_result"
    }
   ],
   "source": [
    "adt = df_anova.groupby('adtt').apply(lambda s: s.sample(100))['adtt'].tolist()\n",
    "score = df_anova.groupby('adtt').apply(lambda s: s.sample(100))['score'].tolist()\n",
    "df_adt_sample_100 = pd.DataFrame({'adtt':adt, 'score':score})\n",
    "formula = 'score ~ C(adtt)'\n",
    "adt_undersample = undersample(df_adt_sample_100, 'adtt')\n",
    "aov(adt_undersample, formula)"
   ]
  },
  {
   "cell_type": "markdown",
   "metadata": {},
   "source": [
    "### Cohen's d: 0.06 (Very small)"
   ]
  },
  {
   "cell_type": "code",
   "execution_count": 20,
   "metadata": {},
   "outputs": [
    {
     "data": {
      "text/html": [
       "<div>\n",
       "<style scoped>\n",
       "    .dataframe tbody tr th:only-of-type {\n",
       "        vertical-align: middle;\n",
       "    }\n",
       "\n",
       "    .dataframe tbody tr th {\n",
       "        vertical-align: top;\n",
       "    }\n",
       "\n",
       "    .dataframe thead th {\n",
       "        text-align: right;\n",
       "    }\n",
       "</style>\n",
       "<table border=\"1\" class=\"dataframe\">\n",
       "  <thead>\n",
       "    <tr style=\"text-align: right;\">\n",
       "      <th></th>\n",
       "      <th>sum_sq</th>\n",
       "      <th>df</th>\n",
       "      <th>F</th>\n",
       "      <th>PR(&gt;F)</th>\n",
       "      <th>eta_sq</th>\n",
       "      <th>omega_sq</th>\n",
       "    </tr>\n",
       "  </thead>\n",
       "  <tbody>\n",
       "    <tr>\n",
       "      <th>C(adtt)</th>\n",
       "      <td>315.762115</td>\n",
       "      <td>2.0</td>\n",
       "      <td>262.565135</td>\n",
       "      <td>1.395470e-114</td>\n",
       "      <td>0.003072</td>\n",
       "      <td>0.00306</td>\n",
       "    </tr>\n",
       "    <tr>\n",
       "      <th>Residual</th>\n",
       "      <td>102483.583380</td>\n",
       "      <td>170436.0</td>\n",
       "      <td>NaN</td>\n",
       "      <td>NaN</td>\n",
       "      <td>NaN</td>\n",
       "      <td>NaN</td>\n",
       "    </tr>\n",
       "  </tbody>\n",
       "</table>\n",
       "</div>"
      ],
      "text/plain": [
       "                 sum_sq        df           F         PR(>F)    eta_sq  \\\n",
       "C(adtt)      315.762115       2.0  262.565135  1.395470e-114  0.003072   \n",
       "Residual  102483.583380  170436.0         NaN            NaN       NaN   \n",
       "\n",
       "          omega_sq  \n",
       "C(adtt)    0.00306  \n",
       "Residual       NaN  "
      ]
     },
     "execution_count": 20,
     "metadata": {},
     "output_type": "execute_result"
    }
   ],
   "source": [
    "formula = 'score ~ C(adtt)'\n",
    "adt_undersample = undersample(df_anova, 'adtt')\n",
    "aov(adt_undersample, formula)"
   ]
  },
  {
   "cell_type": "markdown",
   "metadata": {},
   "source": [
    "### Cohen's d: 0.04 (Very small)"
   ]
  }
 ],
 "metadata": {
  "kernelspec": {
   "display_name": "Python 3",
   "language": "python",
   "name": "python3"
  },
  "language_info": {
   "codemirror_mode": {
    "name": "ipython",
    "version": 3
   },
   "file_extension": ".py",
   "mimetype": "text/x-python",
   "name": "python",
   "nbconvert_exporter": "python",
   "pygments_lexer": "ipython3",
   "version": "3.6.4"
  }
 },
 "nbformat": 4,
 "nbformat_minor": 2
}
