{
 "cells": [
  {
   "cell_type": "code",
   "execution_count": 1,
   "metadata": {},
   "outputs": [],
   "source": [
    "import pymongo\n",
    "from pymongo import MongoClient\n",
    "import time\n",
    "import pandas as pd\n",
    "import numpy as np\n",
    "import seaborn as sns\n",
    "import matplotlib.pyplot as plt\n",
    "import csv\n",
    "from sklearn import preprocessing\n",
    "from nbi1 import *\n",
    "\n",
    "import warnings\n",
    "from statsmodels.formula.api import ols\n",
    "from statsmodels.stats.anova import anova_lm\n",
    "from statsmodels.graphics.factorplots import interaction_plot\n",
    "from scipy import stats\n",
    "\n",
    "import matplotlib.patches as mpatches\n",
    "import matplotlib.pyplot as plt\n",
    "import matplotlib.lines as mlines\n",
    "\n",
    "\n",
    "\n",
    "warnings.filterwarnings('ignore')"
   ]
  },
  {
   "cell_type": "code",
   "execution_count": 2,
   "metadata": {},
   "outputs": [],
   "source": [
    "def eta_squared(aov):\n",
    "    aov['eta_sq'] = 'NaN'\n",
    "    aov['eta_sq'] = aov[:-1]['sum_sq']/sum(aov['sum_sq'])\n",
    "    return aov\n",
    " \n",
    "def omega_squared(aov):\n",
    "    mse = aov['sum_sq'][-1]/aov['df'][-1]\n",
    "    aov['omega_sq'] = 'NaN'\n",
    "    aov['omega_sq'] = (aov[:-1]['sum_sq']-(aov[:-1]['df']*mse))/(sum(aov['sum_sq'])+mse)\n",
    "    return aov\n",
    "\n",
    "def undersample(df, keyword):\n",
    "    \"\"\"\n",
    "    It will take a dataframe and a keyword to groupby\n",
    "    :input: df: Dataframe\n",
    "            Key-word: column to groupby\n",
    "            \n",
    "    :return: undersample_df: Datafram\n",
    "    \n",
    "    \"\"\"\n",
    "    groupby_df = df.groupby([keyword]).count()\n",
    "    count = min(groupby_df[groupby_df.columns[0]].tolist())\n",
    "    \n",
    "    tempdf_list = []\n",
    "\n",
    "    for index in df[keyword].unique():\n",
    "        tempdf_list.append(df[df[keyword] == index].sample(count)) ## Count\n",
    "    \n",
    "    undersample_df = pd.concat(tempdf_list)\n",
    "    \n",
    "    return undersample_df\n",
    "\n",
    "def aov(df, formula):\n",
    "    \"\"\"\n",
    "    :input: df: DataFrame\n",
    "            formula: \n",
    "    \n",
    "    :return: \n",
    "            Table\n",
    "    \"\"\"  \n",
    "    model = ols(formula, df).fit()\n",
    "    aov_table = anova_lm(model, typ=2)\n",
    "\n",
    "    eta_squared(aov_table)\n",
    "    return omega_squared(aov_table)\n",
    "    "
   ]
  },
  {
   "cell_type": "code",
   "execution_count": 3,
   "metadata": {},
   "outputs": [],
   "source": [
    "csv_file = \"../data-generation/04-28-19-thesis-dataset-without-outliers_allstates\"\n",
    "df_wo = pd.read_csv(csv_file, index_col = 0)"
   ]
  },
  {
   "cell_type": "code",
   "execution_count": 4,
   "metadata": {},
   "outputs": [],
   "source": [
    "df_wo = df_wo[df_wo['No Change Span'] == True]"
   ]
  },
  {
   "cell_type": "code",
   "execution_count": 5,
   "metadata": {},
   "outputs": [],
   "source": [
    "# Arrange Dataframe is ascending order\n",
    "df_wo['5 percent'] = pd.qcut(df_wo['Avg. Daily Precipitation'],[0, .05, .95, 1.], labels = ['Very Low','Medium','Very High'])\n",
    "df_wo['spanlength'] = pd.qcut(df_wo['Length Of Maximum Span Flat'],[0, .1, .8, 1.], labels = ['Very Low','Medium','Very High'])\n",
    "\n",
    "df_anova = df_wo[['Baseline Difference Score', 'ADT Category','ADTT Category','Avg. Daily Precipitation', 'State Code','5 percent',\\\n",
    "                       'Length Of Maximum Span Flat', 'Material','Structure Type', 'Maintainer','spanlength']]\n",
    "\n",
    "df_anova = df_anova.rename(index=str, columns={\"Baseline Difference Score\": \"score\", \\\n",
    "                                               \"ADT Category\": \"adt\", \\\n",
    "                                               \"ADTT Category\": \"adtt\",\\\n",
    "                                               \"Avg. Daily Precipitation\": \"precp\", \\\n",
    "                                               \"State Code\":\"region\", \\\n",
    "                                               \"5 percent\": \"precipitation\", \\\n",
    "                                               \"Length Of Maximum Span Flat\": \"lengthofspan\",\\\n",
    "                                               \"Material\":\"material\",\\\n",
    "                                               \"Structure Type\":\"structuretype\",\\\n",
    "                                               \"Maintainer\":\"maintainer\",\\\n",
    "                                               \"spanlength\":\"spanlength\"\n",
    "                                              })\n",
    "# Northeast\n",
    "N = ['09','23','25','33','44','50','34','36','42']  \n",
    "\n",
    "# Midwest\n",
    "M = ['17','18','21','39','55','19','20','27','29','31','38','46']\n",
    "\n",
    "# South\n",
    "S = ['10','12','13','24','37','45','51','11','54','01','21','28','47','05','22','40','48']\n",
    "\n",
    "# West\n",
    "W = ['04','08','16','32','30','35','49','56','01','06','15','41','53','72']\n",
    "\n",
    "w = [int(i) for i in W]\n",
    "s = [int(i) for i in S]\n",
    "m = [int(i) for i in M]\n",
    "n = [int(i) for i in N]\n",
    "\n",
    "west_df_anova = df_anova[df_anova[\"region\"].isin(w)]\n",
    "west_df_anova['region'] = len(west_df_anova)*['West']\n",
    "\n",
    "south_df_anova = df_anova[df_anova[\"region\"].isin(s)]\n",
    "south_df_anova['region'] = len(south_df_anova)*['South']\n",
    "\n",
    "midwest_df_anova = df_anova[df_anova[\"region\"].isin(m)]\n",
    "midwest_df_anova['region'] = len(midwest_df_anova)*['Midwest']\n",
    "\n",
    "northeast_df_anova = df_anova[df_anova[\"region\"].isin(n)]\n",
    "northeast_df_anova['region'] = len(northeast_df_anova)*['Northeast']\n",
    "\n",
    "\n",
    "\n",
    "df_anova['precp']  =  pd.qcut(df_anova['precp'], 4, labels=[\"Very Light\", \"Light\", \"Moderate\",\"Heavy\"])\n",
    "\n",
    "df_anova = pd.concat([west_df_anova,midwest_df_anova,south_df_anova,northeast_df_anova])"
   ]
  },
  {
   "cell_type": "code",
   "execution_count": 7,
   "metadata": {},
   "outputs": [
    {
     "data": {
      "text/plain": [
       "(289884, 30)"
      ]
     },
     "execution_count": 7,
     "metadata": {},
     "output_type": "execute_result"
    }
   ],
   "source": [
    "df_wo.shape"
   ]
  },
  {
   "cell_type": "code",
   "execution_count": 6,
   "metadata": {},
   "outputs": [
    {
     "data": {
      "text/html": [
       "<div>\n",
       "<style scoped>\n",
       "    .dataframe tbody tr th:only-of-type {\n",
       "        vertical-align: middle;\n",
       "    }\n",
       "\n",
       "    .dataframe tbody tr th {\n",
       "        vertical-align: top;\n",
       "    }\n",
       "\n",
       "    .dataframe thead th {\n",
       "        text-align: right;\n",
       "    }\n",
       "</style>\n",
       "<table border=\"1\" class=\"dataframe\">\n",
       "  <thead>\n",
       "    <tr style=\"text-align: right;\">\n",
       "      <th></th>\n",
       "      <th>score</th>\n",
       "      <th>adt</th>\n",
       "      <th>adtt</th>\n",
       "      <th>precp</th>\n",
       "      <th>region</th>\n",
       "      <th>precipitation</th>\n",
       "      <th>lengthofspan</th>\n",
       "      <th>material</th>\n",
       "      <th>structuretype</th>\n",
       "      <th>maintainer</th>\n",
       "      <th>spanlength</th>\n",
       "    </tr>\n",
       "  </thead>\n",
       "  <tbody>\n",
       "    <tr>\n",
       "      <th>7118</th>\n",
       "      <td>-0.916658</td>\n",
       "      <td>Moderate</td>\n",
       "      <td>Light</td>\n",
       "      <td>0.80</td>\n",
       "      <td>West</td>\n",
       "      <td>Very Low</td>\n",
       "      <td>12.2</td>\n",
       "      <td>3</td>\n",
       "      <td>2</td>\n",
       "      <td>1</td>\n",
       "      <td>Medium</td>\n",
       "    </tr>\n",
       "    <tr>\n",
       "      <th>7626</th>\n",
       "      <td>-1.239282</td>\n",
       "      <td>Light</td>\n",
       "      <td>Light</td>\n",
       "      <td>0.71</td>\n",
       "      <td>West</td>\n",
       "      <td>Very Low</td>\n",
       "      <td>8.8</td>\n",
       "      <td>3</td>\n",
       "      <td>2</td>\n",
       "      <td>1</td>\n",
       "      <td>Medium</td>\n",
       "    </tr>\n",
       "    <tr>\n",
       "      <th>10641</th>\n",
       "      <td>-1.156687</td>\n",
       "      <td>Moderate</td>\n",
       "      <td>Moderate</td>\n",
       "      <td>0.84</td>\n",
       "      <td>West</td>\n",
       "      <td>Very Low</td>\n",
       "      <td>4.9</td>\n",
       "      <td>2</td>\n",
       "      <td>1</td>\n",
       "      <td>4</td>\n",
       "      <td>Very Low</td>\n",
       "    </tr>\n",
       "    <tr>\n",
       "      <th>18018</th>\n",
       "      <td>-0.715749</td>\n",
       "      <td>Very Light</td>\n",
       "      <td>Light</td>\n",
       "      <td>1.01</td>\n",
       "      <td>West</td>\n",
       "      <td>Very Low</td>\n",
       "      <td>7.6</td>\n",
       "      <td>7</td>\n",
       "      <td>2</td>\n",
       "      <td>1</td>\n",
       "      <td>Medium</td>\n",
       "    </tr>\n",
       "    <tr>\n",
       "      <th>18472</th>\n",
       "      <td>-1.617218</td>\n",
       "      <td>Moderate</td>\n",
       "      <td>Light</td>\n",
       "      <td>0.84</td>\n",
       "      <td>West</td>\n",
       "      <td>Very Low</td>\n",
       "      <td>22.9</td>\n",
       "      <td>3</td>\n",
       "      <td>2</td>\n",
       "      <td>1</td>\n",
       "      <td>Medium</td>\n",
       "    </tr>\n",
       "  </tbody>\n",
       "</table>\n",
       "</div>"
      ],
      "text/plain": [
       "          score         adt      adtt  precp region precipitation  \\\n",
       "7118  -0.916658    Moderate     Light   0.80   West      Very Low   \n",
       "7626  -1.239282       Light     Light   0.71   West      Very Low   \n",
       "10641 -1.156687    Moderate  Moderate   0.84   West      Very Low   \n",
       "18018 -0.715749  Very Light     Light   1.01   West      Very Low   \n",
       "18472 -1.617218    Moderate     Light   0.84   West      Very Low   \n",
       "\n",
       "       lengthofspan  material  structuretype  maintainer spanlength  \n",
       "7118           12.2         3              2           1     Medium  \n",
       "7626            8.8         3              2           1     Medium  \n",
       "10641           4.9         2              1           4   Very Low  \n",
       "18018           7.6         7              2           1     Medium  \n",
       "18472          22.9         3              2           1     Medium  "
      ]
     },
     "execution_count": 6,
     "metadata": {},
     "output_type": "execute_result"
    }
   ],
   "source": [
    "df_anova.head()"
   ]
  },
  {
   "cell_type": "code",
   "execution_count": 7,
   "metadata": {},
   "outputs": [
    {
     "data": {
      "image/png": "[encoded data removed]",
      "text/plain": [
       "<matplotlib.figure.Figure at 0x1a25157080>"
      ]
     },
     "metadata": {},
     "output_type": "display_data"
    }
   ],
   "source": [
    "count_span = df_anova.groupby('spanlength')['score'].count()\n",
    "\n",
    "# Plotting \n",
    "plt.figure(figsize=(8,8))\n",
    "plt.suptitle(\"Baseline Difference Scores\", fontsize = 20, fontweight = 'bold')\n",
    "sns.set(font_scale=2)\n",
    "\n",
    "#Subplot 1\n",
    "labels = [\"Very Low\", \"Very High\"]\n",
    "no_of_records = [count_span[0], count_span[2]]\n",
    "plt.bar(labels, no_of_records, align = 'center', alpha = 0.5, color = ['crimson','teal'])\n",
    "plt.xticks(size = 20, rotation = 0)\n",
    "plt.yticks(size = 20)\n",
    "plt.xlabel(\"Length Of Maximum Span\", fontweight = 'bold', fontsize = 20)\n",
    "plt.ylabel(\"Number of Bridges\", fontweight = 'bold', fontsize = 20)\n",
    "plt.show()"
   ]
  },
  {
   "cell_type": "code",
   "execution_count": 8,
   "metadata": {},
   "outputs": [
    {
     "data": {
      "image/png": "[encoded data removed]",
      "text/plain": [
       "<matplotlib.figure.Figure at 0x1a1ae713c8>"
      ]
     },
     "metadata": {},
     "output_type": "display_data"
    }
   ],
   "source": [
    "scores_low = df_anova[df_anova['spanlength'] == 'Very Low']['score']\n",
    "scores_high = df_anova[df_anova['spanlength'] == 'Very High']['score']\n",
    "\n",
    "scores_precp = [scores_low,scores_high]\n",
    "\n",
    "\n",
    "green_line = mlines.Line2D([], [], color='Green',\n",
    "                          markersize=15, label='Median')\n",
    "red_triangle = mlines.Line2D([], [], color='Red', marker='^',\n",
    "                          markersize=15, label='Mean')\n",
    "\n",
    "# Plotting \n",
    "plt.figure(figsize=(12,8))\n",
    "plt.subplots_adjust(bottom=0, left=0.025, top = 0.9, right=0.975)\n",
    "plt.suptitle(\"Baseline Difference Scores\", fontsize = 20, fontweight = 'bold')\n",
    "sns.set(font_scale=2)\n",
    "\n",
    "plt.boxplot(scores_precp, labels = labels, showfliers=True, showmeans=True)\n",
    "plt.xticks(size = 20, rotation = 0)\n",
    "plt.yticks(size = 20)\n",
    "plt.xlabel(\"Length Of Maximum Span\", fontweight = 'bold')\n",
    "plt.ylabel(\"Baseline Difference Score\", fontweight = 'bold')\n",
    "\n",
    "red_patch = mpatches.Patch(color='red', label='The red data')\n",
    "green_patch = mpatches.Patch(color='green', label='The red data')\n",
    "plt.legend(handles=[red_triangle, green_line], loc = 'lower center')\n",
    "\n",
    "plt.show()"
   ]
  },
  {
   "cell_type": "markdown",
   "metadata": {},
   "source": [
    "#### ANOVA - Small Sample"
   ]
  },
  {
   "cell_type": "code",
   "execution_count": 9,
   "metadata": {},
   "outputs": [
    {
     "data": {
      "text/html": [
       "<div>\n",
       "<style scoped>\n",
       "    .dataframe tbody tr th:only-of-type {\n",
       "        vertical-align: middle;\n",
       "    }\n",
       "\n",
       "    .dataframe tbody tr th {\n",
       "        vertical-align: top;\n",
       "    }\n",
       "\n",
       "    .dataframe thead th {\n",
       "        text-align: right;\n",
       "    }\n",
       "</style>\n",
       "<table border=\"1\" class=\"dataframe\">\n",
       "  <thead>\n",
       "    <tr style=\"text-align: right;\">\n",
       "      <th></th>\n",
       "      <th>sum_sq</th>\n",
       "      <th>df</th>\n",
       "      <th>F</th>\n",
       "      <th>PR(&gt;F)</th>\n",
       "      <th>eta_sq</th>\n",
       "      <th>omega_sq</th>\n",
       "    </tr>\n",
       "  </thead>\n",
       "  <tbody>\n",
       "    <tr>\n",
       "      <th>C(spanlength)</th>\n",
       "      <td>1.892298</td>\n",
       "      <td>1.0</td>\n",
       "      <td>2.714394</td>\n",
       "      <td>0.101033</td>\n",
       "      <td>0.013524</td>\n",
       "      <td>0.008499</td>\n",
       "    </tr>\n",
       "    <tr>\n",
       "      <th>Residual</th>\n",
       "      <td>138.032701</td>\n",
       "      <td>198.0</td>\n",
       "      <td>NaN</td>\n",
       "      <td>NaN</td>\n",
       "      <td>NaN</td>\n",
       "      <td>NaN</td>\n",
       "    </tr>\n",
       "  </tbody>\n",
       "</table>\n",
       "</div>"
      ],
      "text/plain": [
       "                   sum_sq     df         F    PR(>F)    eta_sq  omega_sq\n",
       "C(spanlength)    1.892298    1.0  2.714394  0.101033  0.013524  0.008499\n",
       "Residual       138.032701  198.0       NaN       NaN       NaN       NaN"
      ]
     },
     "execution_count": 9,
     "metadata": {},
     "output_type": "execute_result"
    }
   ],
   "source": [
    "span = df_anova.groupby('spanlength').apply(lambda s: s.sample(100))['spanlength'].tolist()\n",
    "score = df_anova.groupby('spanlength').apply(lambda s: s.sample(100))['score'].tolist()\n",
    "df_span_sample_100 = pd.DataFrame({'spanlength':span, 'score':score})\n",
    "df_span_100 = df_span_sample_100[df_span_sample_100['spanlength'].isin(['Very Low', 'Very High'])]\n",
    "\n",
    "formula = 'score ~ C(spanlength)'\n",
    "span_undersample = undersample(df_span_100, 'spanlength')\n",
    "aov(span_undersample, formula)"
   ]
  },
  {
   "cell_type": "markdown",
   "metadata": {},
   "source": [
    "#### ANOVA - Large Sample"
   ]
  },
  {
   "cell_type": "code",
   "execution_count": 10,
   "metadata": {},
   "outputs": [
    {
     "data": {
      "text/html": [
       "<div>\n",
       "<style scoped>\n",
       "    .dataframe tbody tr th:only-of-type {\n",
       "        vertical-align: middle;\n",
       "    }\n",
       "\n",
       "    .dataframe tbody tr th {\n",
       "        vertical-align: top;\n",
       "    }\n",
       "\n",
       "    .dataframe thead th {\n",
       "        text-align: right;\n",
       "    }\n",
       "</style>\n",
       "<table border=\"1\" class=\"dataframe\">\n",
       "  <thead>\n",
       "    <tr style=\"text-align: right;\">\n",
       "      <th></th>\n",
       "      <th>sum_sq</th>\n",
       "      <th>df</th>\n",
       "      <th>F</th>\n",
       "      <th>PR(&gt;F)</th>\n",
       "      <th>eta_sq</th>\n",
       "      <th>omega_sq</th>\n",
       "    </tr>\n",
       "  </thead>\n",
       "  <tbody>\n",
       "    <tr>\n",
       "      <th>C(spanlength)</th>\n",
       "      <td>159.985853</td>\n",
       "      <td>1.0</td>\n",
       "      <td>235.353748</td>\n",
       "      <td>4.956705e-53</td>\n",
       "      <td>0.003386</td>\n",
       "      <td>0.003372</td>\n",
       "    </tr>\n",
       "    <tr>\n",
       "      <th>Residual</th>\n",
       "      <td>47088.861282</td>\n",
       "      <td>69272.0</td>\n",
       "      <td>NaN</td>\n",
       "      <td>NaN</td>\n",
       "      <td>NaN</td>\n",
       "      <td>NaN</td>\n",
       "    </tr>\n",
       "  </tbody>\n",
       "</table>\n",
       "</div>"
      ],
      "text/plain": [
       "                     sum_sq       df           F        PR(>F)    eta_sq  \\\n",
       "C(spanlength)    159.985853      1.0  235.353748  4.956705e-53  0.003386   \n",
       "Residual       47088.861282  69272.0         NaN           NaN       NaN   \n",
       "\n",
       "               omega_sq  \n",
       "C(spanlength)  0.003372  \n",
       "Residual            NaN  "
      ]
     },
     "execution_count": 10,
     "metadata": {},
     "output_type": "execute_result"
    }
   ],
   "source": [
    "samplesize = min(df_anova.groupby(['spanlength'])['spanlength'].count())\n",
    "span = df_anova.groupby('spanlength').apply(lambda s: s.sample(samplesize))['spanlength'].tolist()\n",
    "score = df_anova.groupby('spanlength').apply(lambda s: s.sample(samplesize))['score'].tolist()\n",
    "df_span_sample_80000 = pd.DataFrame({'spanlength':span, 'score':score})\n",
    "df_span_80000 = df_span_sample_80000[df_span_sample_80000['spanlength'].isin(['Very Low', 'Very High'])]\n",
    "\n",
    "formula = 'score ~ C(spanlength)'\n",
    "span_undersample = undersample(df_span_80000, 'spanlength')\n",
    "aov(span_undersample, formula)"
   ]
  },
  {
   "cell_type": "markdown",
   "metadata": {},
   "source": [
    "## Analysis of deck"
   ]
  },
  {
   "cell_type": "code",
   "execution_count": 11,
   "metadata": {},
   "outputs": [],
   "source": [
    "csv_file = \"../data-generation/04-28-19-thesis-dataset-without-outliers_allstates\"\n",
    "df_wo = pd.read_csv(csv_file, index_col = 0)"
   ]
  },
  {
   "cell_type": "code",
   "execution_count": 12,
   "metadata": {},
   "outputs": [],
   "source": [
    "df_wo = df_wo[df_wo['No Change Span'] == True]"
   ]
  },
  {
   "cell_type": "code",
   "execution_count": 13,
   "metadata": {},
   "outputs": [],
   "source": [
    "# Arrange Dataframe is ascending order\n",
    "df_wo['5 percent'] = pd.qcut(df_wo['Avg. Daily Precipitation'],[0, .05, .95, 1.], labels = ['Very Low','Medium','Very High'])\n",
    "df_wo['spanlength'] = pd.qcut(df_wo['Length Of Maximum Span Flat'],[0, .1, .8, 1.], labels = ['Very Low','Medium','Very High'])\n",
    "\n",
    "df_anova = df_wo[['Baseline Difference Score', 'ADT Category','ADTT Category','Avg. Daily Precipitation', 'State Code','5 percent',\\\n",
    "                       'Length Of Maximum Span Flat', 'Material','Structure Type', 'Maintainer','spanlength']]\n",
    "\n",
    "df_anova = df_anova.rename(index=str, columns={\"Baseline Difference Score\": \"score\", \\\n",
    "                                               \"ADT Category\": \"adt\", \\\n",
    "                                               \"ADTT Category\": \"adtt\",\\\n",
    "                                               \"Avg. Daily Precipitation\": \"precp\", \\\n",
    "                                               \"State Code\":\"region\", \\\n",
    "                                               \"5 percent\": \"precipitation\", \\\n",
    "                                               \"Length Of Maximum Span Flat\": \"lengthofspan\",\\\n",
    "                                               \"Material\":\"material\",\\\n",
    "                                               \"Structure Type\":\"structuretype\",\\\n",
    "                                               \"Maintainer\":\"maintainer\",\\\n",
    "                                               \"spanlength\":\"spanlength\"\n",
    "                                              })\n",
    "# Northeast\n",
    "N = ['09','23','25','33','44','50','34','36','42']  \n",
    "\n",
    "# Midwest\n",
    "M = ['17','18','21','39','55','19','20','27','29','31','38','46']\n",
    "\n",
    "# South\n",
    "S = ['10','12','13','24','37','45','51','11','54','01','21','28','47','05','22','40','48']\n",
    "\n",
    "# West\n",
    "W = ['04','08','16','32','30','35','49','56','01','06','15','41','53','72']\n",
    "\n",
    "w = [int(i) for i in W]\n",
    "s = [int(i) for i in S]\n",
    "m = [int(i) for i in M]\n",
    "n = [int(i) for i in N]\n",
    "\n",
    "west_df_anova = df_anova[df_anova[\"region\"].isin(w)]\n",
    "west_df_anova['region'] = len(west_df_anova)*['West']\n",
    "\n",
    "south_df_anova = df_anova[df_anova[\"region\"].isin(s)]\n",
    "south_df_anova['region'] = len(south_df_anova)*['South']\n",
    "\n",
    "midwest_df_anova = df_anova[df_anova[\"region\"].isin(m)]\n",
    "midwest_df_anova['region'] = len(midwest_df_anova)*['Midwest']\n",
    "\n",
    "northeast_df_anova = df_anova[df_anova[\"region\"].isin(n)]\n",
    "northeast_df_anova['region'] = len(northeast_df_anova)*['Northeast']\n",
    "\n",
    "\n",
    "\n",
    "df_anova['precp']  =  pd.qcut(df_anova['precp'], 4, labels=[\"Very Light\", \"Light\", \"Moderate\",\"Heavy\"])\n",
    "\n",
    "df_anova = pd.concat([west_df_anova,midwest_df_anova,south_df_anova,northeast_df_anova])"
   ]
  },
  {
   "cell_type": "code",
   "execution_count": 14,
   "metadata": {},
   "outputs": [
    {
     "data": {
      "image/png": "[encoded data removed]",
      "text/plain": [
       "<matplotlib.figure.Figure at 0x1a1a885fd0>"
      ]
     },
     "metadata": {},
     "output_type": "display_data"
    }
   ],
   "source": [
    "count_span = df_anova.groupby('spanlength')['score'].count()\n",
    "\n",
    "# Plotting \n",
    "plt.figure(figsize=(8,8))\n",
    "plt.suptitle(\"Baseline Difference Scores\", fontsize = 20, fontweight = 'bold')\n",
    "sns.set(font_scale=2)\n",
    "\n",
    "#Subplot 1\n",
    "labels = [\"Very Low\", \"Very High\"]\n",
    "no_of_records = [count_span[0], count_span[2]]\n",
    "plt.bar(labels, no_of_records, align = 'center', alpha = 0.5, color = ['crimson','teal'])\n",
    "plt.xticks(size = 20, rotation = 0)\n",
    "plt.yticks(size = 20)\n",
    "plt.xlabel(\"Length Of Maximum Span\", fontweight = 'bold', fontsize = 20)\n",
    "plt.ylabel(\"Number of Bridges\", fontweight = 'bold', fontsize = 20)\n",
    "plt.show()"
   ]
  },
  {
   "cell_type": "code",
   "execution_count": 15,
   "metadata": {},
   "outputs": [
    {
     "data": {
      "image/png": "[encoded data removed]",
      "text/plain": [
       "<matplotlib.figure.Figure at 0x1a161a9d68>"
      ]
     },
     "metadata": {},
     "output_type": "display_data"
    }
   ],
   "source": [
    "scores_low = df_anova[df_anova['spanlength'] == 'Very Low']['score']\n",
    "scores_high = df_anova[df_anova['spanlength'] == 'Very High']['score']\n",
    "\n",
    "scores_precp = [scores_low,scores_high]\n",
    "\n",
    "\n",
    "green_line = mlines.Line2D([], [], color='Green',\n",
    "                          markersize=15, label='Median')\n",
    "red_triangle = mlines.Line2D([], [], color='Red', marker='^',\n",
    "                          markersize=15, label='Mean')\n",
    "\n",
    "# Plotting \n",
    "plt.figure(figsize=(12,8))\n",
    "plt.subplots_adjust(bottom=0, left=0.025, top = 0.9, right=0.975)\n",
    "plt.suptitle(\"Baseline Difference Scores\", fontsize = 20, fontweight = 'bold')\n",
    "sns.set(font_scale=2)\n",
    "\n",
    "plt.boxplot(scores_precp, labels = labels, showfliers=True, showmeans=True)\n",
    "plt.xticks(size = 20, rotation = 0)\n",
    "plt.yticks(size = 20)\n",
    "plt.xlabel(\"Length Of Maximum Span\", fontweight = 'bold')\n",
    "plt.ylabel(\"Baseline Difference Score\", fontweight = 'bold')\n",
    "\n",
    "red_patch = mpatches.Patch(color='red', label='The red data')\n",
    "green_patch = mpatches.Patch(color='green', label='The red data')\n",
    "plt.legend(handles=[red_triangle, green_line], loc = 'lower center')\n",
    "\n",
    "plt.show()"
   ]
  },
  {
   "cell_type": "markdown",
   "metadata": {},
   "source": [
    "### Small sample analysis"
   ]
  },
  {
   "cell_type": "code",
   "execution_count": 16,
   "metadata": {},
   "outputs": [
    {
     "data": {
      "text/html": [
       "<div>\n",
       "<style scoped>\n",
       "    .dataframe tbody tr th:only-of-type {\n",
       "        vertical-align: middle;\n",
       "    }\n",
       "\n",
       "    .dataframe tbody tr th {\n",
       "        vertical-align: top;\n",
       "    }\n",
       "\n",
       "    .dataframe thead th {\n",
       "        text-align: right;\n",
       "    }\n",
       "</style>\n",
       "<table border=\"1\" class=\"dataframe\">\n",
       "  <thead>\n",
       "    <tr style=\"text-align: right;\">\n",
       "      <th></th>\n",
       "      <th>sum_sq</th>\n",
       "      <th>df</th>\n",
       "      <th>F</th>\n",
       "      <th>PR(&gt;F)</th>\n",
       "      <th>eta_sq</th>\n",
       "      <th>omega_sq</th>\n",
       "    </tr>\n",
       "  </thead>\n",
       "  <tbody>\n",
       "    <tr>\n",
       "      <th>C(spanlength)</th>\n",
       "      <td>1.361424</td>\n",
       "      <td>1.0</td>\n",
       "      <td>2.231806</td>\n",
       "      <td>0.136788</td>\n",
       "      <td>0.011146</td>\n",
       "      <td>0.006121</td>\n",
       "    </tr>\n",
       "    <tr>\n",
       "      <th>Residual</th>\n",
       "      <td>120.781939</td>\n",
       "      <td>198.0</td>\n",
       "      <td>NaN</td>\n",
       "      <td>NaN</td>\n",
       "      <td>NaN</td>\n",
       "      <td>NaN</td>\n",
       "    </tr>\n",
       "  </tbody>\n",
       "</table>\n",
       "</div>"
      ],
      "text/plain": [
       "                   sum_sq     df         F    PR(>F)    eta_sq  omega_sq\n",
       "C(spanlength)    1.361424    1.0  2.231806  0.136788  0.011146  0.006121\n",
       "Residual       120.781939  198.0       NaN       NaN       NaN       NaN"
      ]
     },
     "execution_count": 16,
     "metadata": {},
     "output_type": "execute_result"
    }
   ],
   "source": [
    "span = df_anova.groupby('spanlength').apply(lambda s: s.sample(100))['spanlength'].tolist()\n",
    "score = df_anova.groupby('spanlength').apply(lambda s: s.sample(100))['score'].tolist()\n",
    "df_span_sample_100 = pd.DataFrame({'spanlength':span, 'score':score})\n",
    "df_span_100 = df_span_sample_100[df_span_sample_100['spanlength'].isin(['Very Low', 'Very High'])]\n",
    "\n",
    "formula = 'score ~ C(spanlength)'\n",
    "span_undersample = undersample(df_span_100, 'spanlength')\n",
    "aov(span_undersample, formula)"
   ]
  },
  {
   "cell_type": "markdown",
   "metadata": {},
   "source": [
    "### Large sample analysis"
   ]
  },
  {
   "cell_type": "code",
   "execution_count": 17,
   "metadata": {},
   "outputs": [
    {
     "data": {
      "text/html": [
       "<div>\n",
       "<style scoped>\n",
       "    .dataframe tbody tr th:only-of-type {\n",
       "        vertical-align: middle;\n",
       "    }\n",
       "\n",
       "    .dataframe tbody tr th {\n",
       "        vertical-align: top;\n",
       "    }\n",
       "\n",
       "    .dataframe thead th {\n",
       "        text-align: right;\n",
       "    }\n",
       "</style>\n",
       "<table border=\"1\" class=\"dataframe\">\n",
       "  <thead>\n",
       "    <tr style=\"text-align: right;\">\n",
       "      <th></th>\n",
       "      <th>sum_sq</th>\n",
       "      <th>df</th>\n",
       "      <th>F</th>\n",
       "      <th>PR(&gt;F)</th>\n",
       "      <th>eta_sq</th>\n",
       "      <th>omega_sq</th>\n",
       "    </tr>\n",
       "  </thead>\n",
       "  <tbody>\n",
       "    <tr>\n",
       "      <th>C(spanlength)</th>\n",
       "      <td>162.958327</td>\n",
       "      <td>1.0</td>\n",
       "      <td>238.8065</td>\n",
       "      <td>8.807834e-54</td>\n",
       "      <td>0.003436</td>\n",
       "      <td>0.003421</td>\n",
       "    </tr>\n",
       "    <tr>\n",
       "      <th>Residual</th>\n",
       "      <td>47270.276296</td>\n",
       "      <td>69272.0</td>\n",
       "      <td>NaN</td>\n",
       "      <td>NaN</td>\n",
       "      <td>NaN</td>\n",
       "      <td>NaN</td>\n",
       "    </tr>\n",
       "  </tbody>\n",
       "</table>\n",
       "</div>"
      ],
      "text/plain": [
       "                     sum_sq       df         F        PR(>F)    eta_sq  \\\n",
       "C(spanlength)    162.958327      1.0  238.8065  8.807834e-54  0.003436   \n",
       "Residual       47270.276296  69272.0       NaN           NaN       NaN   \n",
       "\n",
       "               omega_sq  \n",
       "C(spanlength)  0.003421  \n",
       "Residual            NaN  "
      ]
     },
     "execution_count": 17,
     "metadata": {},
     "output_type": "execute_result"
    }
   ],
   "source": [
    "samplesize = min(df_anova.groupby(['spanlength'])['spanlength'].count())\n",
    "span = df_anova.groupby('spanlength').apply(lambda s: s.sample(samplesize))['spanlength'].tolist()\n",
    "score = df_anova.groupby('spanlength').apply(lambda s: s.sample(samplesize))['score'].tolist()\n",
    "df_span_sample_80000 = pd.DataFrame({'spanlength':span, 'score':score})\n",
    "df_span_80000 = df_span_sample_80000[df_span_sample_80000['spanlength'].isin(['Very Low', 'Very High'])]\n",
    "\n",
    "formula = 'score ~ C(spanlength)'\n",
    "span_undersample = undersample(df_span_80000, 'spanlength')\n",
    "aov(span_undersample, formula)"
   ]
  }
 ],
 "metadata": {
  "kernelspec": {
   "display_name": "Python 3",
   "language": "python",
   "name": "python3"
  },
  "language_info": {
   "codemirror_mode": {
    "name": "ipython",
    "version": 3
   },
   "file_extension": ".py",
   "mimetype": "text/x-python",
   "name": "python",
   "nbconvert_exporter": "python",
   "pygments_lexer": "ipython3",
   "version": "3.6.4"
  }
 },
 "nbformat": 4,
 "nbformat_minor": 2
}
