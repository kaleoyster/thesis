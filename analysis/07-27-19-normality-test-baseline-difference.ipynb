{
 "cells": [
  {
   "cell_type": "code",
   "execution_count": 1,
   "metadata": {},
   "outputs": [],
   "source": [
    "import pymongo\n",
    "from pymongo import MongoClient\n",
    "import time\n",
    "import pandas as pd\n",
    "import numpy as np\n",
    "import seaborn as sns\n",
    "import matplotlib.pyplot as plt\n",
    "import csv\n",
    "from sklearn import preprocessing\n",
    "import warnings\n",
    "import sys\n",
    "import os\n",
    "def nbipath():\n",
    "    os.chdir('..')\n",
    "    path = os.getcwd()+'/nbi'\n",
    "    return path \n",
    "\n",
    "sys.path.insert(0, nbipath())\n",
    "from nbi1 import *\n",
    "\n",
    "from numpy.random import randn\n",
    "from scipy.stats import anderson\n",
    "from scipy.stats import normaltest\n",
    "from statsmodels.graphics.gofplots import qqplot\n",
    "from matplotlib import pyplot\n",
    "import matplotlib.patches as mpatches\n",
    "import matplotlib.pyplot as plt\n",
    "import matplotlib.lines as mlines\n",
    "import scipy\n",
    "\n",
    "warnings.filterwarnings('ignore')"
   ]
  },
  {
   "cell_type": "markdown",
   "metadata": {},
   "source": [
    "## Import Data"
   ]
  },
  {
   "cell_type": "code",
   "execution_count": 2,
   "metadata": {},
   "outputs": [],
   "source": [
    "### Dataset without outliers\n",
    "csv_file = \"/Users/AkshayKale/Documents/github/data/nbi/06-20-19-thesis-dataset-without-outliers_allstates\"\n",
    "df_wo = pd.read_csv(csv_file, index_col = 0)"
   ]
  },
  {
   "cell_type": "markdown",
   "metadata": {},
   "source": [
    "## Normality Test"
   ]
  },
  {
   "cell_type": "code",
   "execution_count": 3,
   "metadata": {},
   "outputs": [],
   "source": [
    "def normality_test(data):\n",
    "    # normality test\n",
    "    result = anderson(data)\n",
    "    print(\"Anderson - Darling Test\")\n",
    "    print(\"---\"*15)\n",
    "    print('Statistic: %.3f' % result.statistic)\n",
    "    p = 0\n",
    "    for i in range(len(result.critical_values)):\n",
    "        sl, cv = result.significance_level[i], result.critical_values[i]\n",
    "        if result.statistic < result.critical_values[i]:\n",
    "            print('%.3f: %.3f, data looks Gaussian (fail to reject H0) ' % (sl, cv))\n",
    "        else:\n",
    "            print('%.3f: %.3f, data does not look Gaussian (reject H0) ' % (sl, cv))\n",
    "    print(\"\\n\")\n",
    "    print(\"D’Agostino’s K^2 Test\")\n",
    "    print(\"---\"*15)\n",
    "    \n",
    "    \n",
    "    stat, p = normaltest(data)\n",
    "    print('Statistics=%.3f, p=%.3f' % (stat, p))\n",
    "    # interpret\n",
    "    alpha = 0.05\n",
    "    if p > alpha:\n",
    "        print('Data looks Gaussian (fail to reject H0)')\n",
    "    else:\n",
    "        print('Data does not look Gaussian (reject H0)')\n",
    "        \n",
    "    print(\"\\n\")\n",
    "    print(\"Kolmogorov-Smirnov\")\n",
    "    print(\"---\"*15)\n",
    "\n",
    "    stat, p = scipy.stats.kstest(data, cdf='norm')\n",
    "    print('Statistics=%.3f, p=%.3f' % (stat, p))\n",
    "    if p > alpha:\n",
    "        print('Data looks Gaussian (fail to reject H0)')\n",
    "    else:\n",
    "        print('Data does not look Gaussian (reject H0)')\n",
    "        \n",
    "    # q-q plot\n",
    "    qqplot(data, line='s')\n",
    "    pyplot.show()\n",
    "    "
   ]
  },
  {
   "cell_type": "markdown",
   "metadata": {},
   "source": [
    "### Results : Data without outliers"
   ]
  },
  {
   "cell_type": "code",
   "execution_count": 4,
   "metadata": {},
   "outputs": [
    {
     "name": "stdout",
     "output_type": "stream",
     "text": [
      "Anderson - Darling Test\n",
      "---------------------------------------------\n",
      "Statistic: 1353.343\n",
      "15.000: 0.576, data does not look Gaussian (reject H0) \n",
      "10.000: 0.656, data does not look Gaussian (reject H0) \n",
      "5.000: 0.787, data does not look Gaussian (reject H0) \n",
      "2.500: 0.918, data does not look Gaussian (reject H0) \n",
      "1.000: 1.092, data does not look Gaussian (reject H0) \n",
      "\n",
      "\n",
      "D’Agostino’s K^2 Test\n",
      "---------------------------------------------\n",
      "Statistics=7656.201, p=0.000\n",
      "Data does not look Gaussian (reject H0)\n",
      "\n",
      "\n",
      "Kolmogorov-Smirnov\n",
      "---------------------------------------------\n",
      "Statistics=0.081, p=0.000\n",
      "Data does not look Gaussian (reject H0)\n"
     ]
    },
    {
     "data": {
      "image/png": "[encoded data removed]",
      "text/plain": [
       "<matplotlib.figure.Figure at 0x1a2814d0b8>"
      ]
     },
     "metadata": {},
     "output_type": "display_data"
    }
   ],
   "source": [
    "normality_test(df_wo[\"Baseline Difference Score\"])"
   ]
  },
  {
   "cell_type": "markdown",
   "metadata": {},
   "source": [
    "### Normality Test - Random Sample N = 100"
   ]
  },
  {
   "cell_type": "code",
   "execution_count": 5,
   "metadata": {},
   "outputs": [
    {
     "name": "stdout",
     "output_type": "stream",
     "text": [
      "Anderson - Darling Test\n",
      "---------------------------------------------\n",
      "Statistic: 1.504\n",
      "15.000: 0.570, data does not look Gaussian (reject H0) \n",
      "10.000: 0.650, data does not look Gaussian (reject H0) \n",
      "5.000: 0.779, data does not look Gaussian (reject H0) \n",
      "2.500: 0.909, data does not look Gaussian (reject H0) \n",
      "1.000: 1.081, data does not look Gaussian (reject H0) \n",
      "\n",
      "\n",
      "D’Agostino’s K^2 Test\n",
      "---------------------------------------------\n",
      "Statistics=8.245, p=0.016\n",
      "Data does not look Gaussian (reject H0)\n",
      "\n",
      "\n",
      "Kolmogorov-Smirnov\n",
      "---------------------------------------------\n",
      "Statistics=0.082, p=0.009\n",
      "Data does not look Gaussian (reject H0)\n"
     ]
    },
    {
     "data": {
      "image/png": "[encoded data removed]",
      "text/plain": [
       "<matplotlib.figure.Figure at 0x10d34e588>"
      ]
     },
     "metadata": {},
     "output_type": "display_data"
    }
   ],
   "source": [
    "sample = df_wo[\"Baseline Difference Score\"].sample(n=400)\n",
    "normality_test(sample)"
   ]
  },
  {
   "cell_type": "markdown",
   "metadata": {},
   "source": [
    "### Results : Data with outliers"
   ]
  },
  {
   "cell_type": "markdown",
   "metadata": {},
   "source": [
    "### Baseline Difference Score - Summary Statistics\n"
   ]
  },
  {
   "cell_type": "code",
   "execution_count": 6,
   "metadata": {},
   "outputs": [
    {
     "data": {
      "text/html": [
       "<div>\n",
       "<style scoped>\n",
       "    .dataframe tbody tr th:only-of-type {\n",
       "        vertical-align: middle;\n",
       "    }\n",
       "\n",
       "    .dataframe tbody tr th {\n",
       "        vertical-align: top;\n",
       "    }\n",
       "\n",
       "    .dataframe thead th {\n",
       "        text-align: right;\n",
       "    }\n",
       "</style>\n",
       "<table border=\"1\" class=\"dataframe\">\n",
       "  <thead>\n",
       "    <tr style=\"text-align: right;\">\n",
       "      <th></th>\n",
       "      <th>Baseline Difference Score</th>\n",
       "    </tr>\n",
       "  </thead>\n",
       "  <tbody>\n",
       "    <tr>\n",
       "      <th>count</th>\n",
       "      <td>435447.000000</td>\n",
       "    </tr>\n",
       "    <tr>\n",
       "      <th>mean</th>\n",
       "      <td>-0.058723</td>\n",
       "    </tr>\n",
       "    <tr>\n",
       "      <th>std</th>\n",
       "      <td>0.812030</td>\n",
       "    </tr>\n",
       "    <tr>\n",
       "      <th>min</th>\n",
       "      <td>-2.316239</td>\n",
       "    </tr>\n",
       "    <tr>\n",
       "      <th>25%</th>\n",
       "      <td>-0.563155</td>\n",
       "    </tr>\n",
       "    <tr>\n",
       "      <th>50%</th>\n",
       "      <td>0.021876</td>\n",
       "    </tr>\n",
       "    <tr>\n",
       "      <th>75%</th>\n",
       "      <td>0.499427</td>\n",
       "    </tr>\n",
       "    <tr>\n",
       "      <th>max</th>\n",
       "      <td>2.176155</td>\n",
       "    </tr>\n",
       "  </tbody>\n",
       "</table>\n",
       "</div>"
      ],
      "text/plain": [
       "       Baseline Difference Score\n",
       "count              435447.000000\n",
       "mean                   -0.058723\n",
       "std                     0.812030\n",
       "min                    -2.316239\n",
       "25%                    -0.563155\n",
       "50%                     0.021876\n",
       "75%                     0.499427\n",
       "max                     2.176155"
      ]
     },
     "execution_count": 6,
     "metadata": {},
     "output_type": "execute_result"
    }
   ],
   "source": [
    "pd.set_option('float_format', '{:f}'.format)\n",
    "pd.DataFrame(df_wo[\"Baseline Difference Score\"].describe())"
   ]
  },
  {
   "cell_type": "code",
   "execution_count": 7,
   "metadata": {},
   "outputs": [
    {
     "data": {
      "text/html": [
       "<div>\n",
       "<style scoped>\n",
       "    .dataframe tbody tr th:only-of-type {\n",
       "        vertical-align: middle;\n",
       "    }\n",
       "\n",
       "    .dataframe tbody tr th {\n",
       "        vertical-align: top;\n",
       "    }\n",
       "\n",
       "    .dataframe thead th {\n",
       "        text-align: right;\n",
       "    }\n",
       "</style>\n",
       "<table border=\"1\" class=\"dataframe\">\n",
       "  <thead>\n",
       "    <tr style=\"text-align: right;\">\n",
       "      <th></th>\n",
       "      <th>Baseline Difference Score</th>\n",
       "    </tr>\n",
       "  </thead>\n",
       "  <tbody>\n",
       "    <tr>\n",
       "      <th>count</th>\n",
       "      <td>400.000000</td>\n",
       "    </tr>\n",
       "    <tr>\n",
       "      <th>mean</th>\n",
       "      <td>-0.048673</td>\n",
       "    </tr>\n",
       "    <tr>\n",
       "      <th>std</th>\n",
       "      <td>0.822354</td>\n",
       "    </tr>\n",
       "    <tr>\n",
       "      <th>min</th>\n",
       "      <td>-2.250170</td>\n",
       "    </tr>\n",
       "    <tr>\n",
       "      <th>25%</th>\n",
       "      <td>-0.596949</td>\n",
       "    </tr>\n",
       "    <tr>\n",
       "      <th>50%</th>\n",
       "      <td>0.033423</td>\n",
       "    </tr>\n",
       "    <tr>\n",
       "      <th>75%</th>\n",
       "      <td>0.476020</td>\n",
       "    </tr>\n",
       "    <tr>\n",
       "      <th>max</th>\n",
       "      <td>1.956514</td>\n",
       "    </tr>\n",
       "  </tbody>\n",
       "</table>\n",
       "</div>"
      ],
      "text/plain": [
       "       Baseline Difference Score\n",
       "count                 400.000000\n",
       "mean                   -0.048673\n",
       "std                     0.822354\n",
       "min                    -2.250170\n",
       "25%                    -0.596949\n",
       "50%                     0.033423\n",
       "75%                     0.476020\n",
       "max                     1.956514"
      ]
     },
     "execution_count": 7,
     "metadata": {},
     "output_type": "execute_result"
    }
   ],
   "source": [
    "sample_desc = pd.DataFrame(sample.describe())\n",
    "sample_desc"
   ]
  },
  {
   "cell_type": "code",
   "execution_count": 8,
   "metadata": {},
   "outputs": [
    {
     "data": {
      "image/png": "[encoded data removed]",
      "text/plain": [
       "<matplotlib.figure.Figure at 0x1a2060cf60>"
      ]
     },
     "metadata": {},
     "output_type": "display_data"
    }
   ],
   "source": [
    "\n",
    "# Plotting Baseline Difference Scores\n",
    "plt.figure(figsize=(12,4))\n",
    "plt.subplots_adjust(bottom=0.025, left=0.025, top = 0.9, right=0.975)\n",
    "plt.suptitle(\"Baseline Difference Scores - Random Sample of 100 Bridges\", fontsize = 16,fontweight = 'bold')\n",
    "sns.set(font_scale=2)\n",
    "plt.subplot(1,2,1)\n",
    "ax_1 = sns.boxplot(x = df_wo[\"Baseline Difference Score\"], color = 'grey', orient='v', width=.25)\n",
    "\n",
    "\n",
    "plt.subplot(1,2,2)\n",
    "sns.distplot(df_wo['Baseline Difference Score'], hist=True, kde=True, \n",
    "             bins=int(180/5), color = 'Black', \n",
    "             hist_kws={'edgecolor':'black'},\n",
    "             kde_kws={'linewidth': 2}, label=\"US\")\n",
    "plt.show()"
   ]
  },
  {
   "cell_type": "markdown",
   "metadata": {},
   "source": [
    "### Median"
   ]
  },
  {
   "cell_type": "code",
   "execution_count": 9,
   "metadata": {},
   "outputs": [
    {
     "data": {
      "text/plain": [
       "0.02187567368111809"
      ]
     },
     "execution_count": 9,
     "metadata": {},
     "output_type": "execute_result"
    }
   ],
   "source": [
    "df_wo['Baseline Difference Score'].median()"
   ]
  }
 ],
 "metadata": {
  "kernelspec": {
   "display_name": "Python 3",
   "language": "python",
   "name": "python3"
  },
  "language_info": {
   "codemirror_mode": {
    "name": "ipython",
    "version": 3
   },
   "file_extension": ".py",
   "mimetype": "text/x-python",
   "name": "python",
   "nbconvert_exporter": "python",
   "pygments_lexer": "ipython3",
   "version": "3.6.4"
  }
 },
 "nbformat": 4,
 "nbformat_minor": 2
}
