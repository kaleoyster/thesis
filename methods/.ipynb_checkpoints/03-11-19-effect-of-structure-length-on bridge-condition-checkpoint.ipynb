{
 "cells": [
  {
   "cell_type": "code",
   "execution_count": 1,
   "metadata": {},
   "outputs": [],
   "source": [
    "import pymongo\n",
    "from pymongo import MongoClient\n",
    "import time\n",
    "import pandas as pd\n",
    "import numpy as np\n",
    "import seaborn as sns\n",
    "import matplotlib.pyplot as plt\n",
    "import csv\n",
    "from sklearn import preprocessing\n",
    "from nbi1 import *\n",
    "\n",
    "import warnings\n",
    "from statsmodels.formula.api import ols\n",
    "from statsmodels.stats.anova import anova_lm\n",
    "from statsmodels.graphics.factorplots import interaction_plot\n",
    "from scipy import stats\n",
    "\n",
    "import matplotlib.patches as mpatches\n",
    "import matplotlib.pyplot as plt\n",
    "import matplotlib.lines as mlines\n",
    "\n",
    "\n",
    "\n",
    "warnings.filterwarnings('ignore')"
   ]
  },
  {
   "cell_type": "code",
   "execution_count": 2,
   "metadata": {},
   "outputs": [],
   "source": [
    "def eta_squared(aov):\n",
    "    aov['eta_sq'] = 'NaN'\n",
    "    aov['eta_sq'] = aov[:-1]['sum_sq']/sum(aov['sum_sq'])\n",
    "    return aov\n",
    " \n",
    "def omega_squared(aov):\n",
    "    mse = aov['sum_sq'][-1]/aov['df'][-1]\n",
    "    aov['omega_sq'] = 'NaN'\n",
    "    aov['omega_sq'] = (aov[:-1]['sum_sq']-(aov[:-1]['df']*mse))/(sum(aov['sum_sq'])+mse)\n",
    "    return aov\n",
    "\n",
    "def undersample(df, keyword):\n",
    "    \"\"\"\n",
    "    It will take a dataframe and a keyword to groupby\n",
    "    :input: df: Dataframe\n",
    "            Key-word: column to groupby\n",
    "            \n",
    "    :return: undersample_df: Datafram\n",
    "    \n",
    "    \"\"\"\n",
    "    groupby_df = df.groupby([keyword]).count()\n",
    "    count = min(groupby_df[groupby_df.columns[0]].tolist())\n",
    "    \n",
    "    tempdf_list = []\n",
    "\n",
    "    for index in df[keyword].unique():\n",
    "        tempdf_list.append(df[df[keyword] == index].sample(count)) ## Count\n",
    "    \n",
    "    undersample_df = pd.concat(tempdf_list)\n",
    "    \n",
    "    return undersample_df\n",
    "\n",
    "def aov(df, formula):\n",
    "    \"\"\"\n",
    "    :input: df: DataFrame\n",
    "            formula: \n",
    "    \n",
    "    :return: \n",
    "            Table\n",
    "    \"\"\"  \n",
    "    model = ols(formula, df).fit()\n",
    "    aov_table = anova_lm(model, typ=2)\n",
    "\n",
    "    eta_squared(aov_table)\n",
    "    return omega_squared(aov_table)\n",
    "    "
   ]
  },
  {
   "cell_type": "code",
   "execution_count": 3,
   "metadata": {},
   "outputs": [],
   "source": [
    "state_1 = pd.read_csv(\"03-09-19-thesis-dataset-without-outliers_states_1\", index_col = 0)\n",
    "state_2 = pd.read_csv(\"03-09-19-thesis-dataset-without-outliers_states_2\", index_col = 0)\n",
    "state_3 = pd.read_csv(\"03-09-19-thesis-dataset-without-outliers_states_3\", index_col = 0)\n",
    "state_4 = pd.read_csv(\"03-09-19-thesis-dataset-without-outliers_states_4\", index_col = 0)\n",
    "state_5 = pd.read_csv(\"03-09-19-thesis-dataset-without-outliers_states_5\", index_col = 0)"
   ]
  },
  {
   "cell_type": "code",
   "execution_count": 18,
   "metadata": {},
   "outputs": [],
   "source": [
    "df_wo = pd.concat([state_1,state_2,state_3,state_4,state_5])"
   ]
  },
  {
   "cell_type": "code",
   "execution_count": 16,
   "metadata": {},
   "outputs": [
    {
     "data": {
      "text/plain": [
       "647958"
      ]
     },
     "execution_count": 16,
     "metadata": {},
     "output_type": "execute_result"
    }
   ],
   "source": [
    "df_wo = df_wo[df_wo['No Change Span'] == True]"
   ]
  },
  {
   "cell_type": "code",
   "execution_count": 21,
   "metadata": {},
   "outputs": [],
   "source": [
    "df_wo = df_wo[df_wo['No Change Span'] == True]"
   ]
  },
  {
   "cell_type": "code",
   "execution_count": 22,
   "metadata": {},
   "outputs": [],
   "source": [
    "# Arrange Dataframe is ascending order\n",
    "df_wo['5 percent'] = pd.qcut(df_wo['Avg. Daily Precipitation'],[0, .05, .95, 1.], labels = ['Very Low','Medium','Very High'])\n",
    "df_wo['spanlength'] = pd.qcut(df_wo['Length Of Maximum Span Flat'],[0, .1, .8, 1.], labels = ['Very Low','Medium','Very High'])\n",
    "\n",
    "df_anova = df_wo[['Baseline Difference Score', 'ADT Category','ADTT Category','Avg. Daily Precipitation', 'State Code','5 percent',\\\n",
    "                       'Length Of Maximum Span Flat', 'Material','Structure Type', 'Maintainer','spanlength']]\n",
    "\n",
    "df_anova = df_anova.rename(index=str, columns={\"Baseline Difference Score\": \"score\", \\\n",
    "                                               \"ADT Category\": \"adt\", \\\n",
    "                                               \"ADTT Category\": \"adtt\",\\\n",
    "                                               \"Avg. Daily Precipitation\": \"precp\", \\\n",
    "                                               \"State Code\":\"region\", \\\n",
    "                                               \"5 percent\": \"precipitation\", \\\n",
    "                                               \"Length Of Maximum Span Flat\": \"lengthofspan\",\\\n",
    "                                               \"Material\":\"material\",\\\n",
    "                                               \"Structure Type\":\"structuretype\",\\\n",
    "                                               \"Maintainer\":\"maintainer\",\\\n",
    "                                               \"spanlength\":\"spanlength\"\n",
    "                                              })\n",
    "# Northeast\n",
    "N = ['09','23','25','33','44','50','34','36','42']  \n",
    "\n",
    "# Midwest\n",
    "M = ['17','18','21','39','55','19','20','27','29','31','38','46']\n",
    "\n",
    "# South\n",
    "S = ['10','12','13','24','37','45','51','11','54','01','21','28','47','05','22','40','48']\n",
    "\n",
    "# West\n",
    "W = ['04','08','16','32','30','35','49','56','01','06','15','41','53','72']\n",
    "\n",
    "w = [int(i) for i in W]\n",
    "s = [int(i) for i in S]\n",
    "m = [int(i) for i in M]\n",
    "n = [int(i) for i in N]\n",
    "\n",
    "west_df_anova = df_anova[df_anova[\"region\"].isin(w)]\n",
    "west_df_anova['region'] = len(west_df_anova)*['West']\n",
    "\n",
    "south_df_anova = df_anova[df_anova[\"region\"].isin(s)]\n",
    "south_df_anova['region'] = len(south_df_anova)*['South']\n",
    "\n",
    "midwest_df_anova = df_anova[df_anova[\"region\"].isin(m)]\n",
    "midwest_df_anova['region'] = len(midwest_df_anova)*['Midwest']\n",
    "\n",
    "northeast_df_anova = df_anova[df_anova[\"region\"].isin(n)]\n",
    "northeast_df_anova['region'] = len(northeast_df_anova)*['Northeast']\n",
    "\n",
    "\n",
    "\n",
    "df_anova['precp']  =  pd.qcut(df_anova['precp'], 4, labels=[\"Very Light\", \"Light\", \"Moderate\",\"Heavy\"])\n",
    "\n",
    "df_anova = pd.concat([west_df_anova,midwest_df_anova,south_df_anova,northeast_df_anova])"
   ]
  },
  {
   "cell_type": "code",
   "execution_count": 20,
   "metadata": {},
   "outputs": [
    {
     "data": {
      "text/plain": [
       "(828726, 22)"
      ]
     },
     "execution_count": 20,
     "metadata": {},
     "output_type": "execute_result"
    }
   ],
   "source": [
    "df_wo.shape"
   ]
  },
  {
   "cell_type": "code",
   "execution_count": 23,
   "metadata": {},
   "outputs": [
    {
     "data": {
      "text/html": [
       "<div>\n",
       "<style scoped>\n",
       "    .dataframe tbody tr th:only-of-type {\n",
       "        vertical-align: middle;\n",
       "    }\n",
       "\n",
       "    .dataframe tbody tr th {\n",
       "        vertical-align: top;\n",
       "    }\n",
       "\n",
       "    .dataframe thead th {\n",
       "        text-align: right;\n",
       "    }\n",
       "</style>\n",
       "<table border=\"1\" class=\"dataframe\">\n",
       "  <thead>\n",
       "    <tr style=\"text-align: right;\">\n",
       "      <th></th>\n",
       "      <th>score</th>\n",
       "      <th>adt</th>\n",
       "      <th>adtt</th>\n",
       "      <th>precp</th>\n",
       "      <th>region</th>\n",
       "      <th>precipitation</th>\n",
       "      <th>lengthofspan</th>\n",
       "      <th>material</th>\n",
       "      <th>structuretype</th>\n",
       "      <th>maintainer</th>\n",
       "      <th>spanlength</th>\n",
       "    </tr>\n",
       "  </thead>\n",
       "  <tbody>\n",
       "    <tr>\n",
       "      <th>109</th>\n",
       "      <td>0.683726</td>\n",
       "      <td>Light</td>\n",
       "      <td>Light</td>\n",
       "      <td>0.7</td>\n",
       "      <td>West</td>\n",
       "      <td>Very Low</td>\n",
       "      <td>8.0</td>\n",
       "      <td>7</td>\n",
       "      <td>2</td>\n",
       "      <td>1</td>\n",
       "      <td>Medium</td>\n",
       "    </tr>\n",
       "    <tr>\n",
       "      <th>165</th>\n",
       "      <td>-1.676626</td>\n",
       "      <td>Moderate</td>\n",
       "      <td>Light</td>\n",
       "      <td>0.7</td>\n",
       "      <td>West</td>\n",
       "      <td>Very Low</td>\n",
       "      <td>61.0</td>\n",
       "      <td>3</td>\n",
       "      <td>10</td>\n",
       "      <td>1</td>\n",
       "      <td>Very High</td>\n",
       "    </tr>\n",
       "    <tr>\n",
       "      <th>167</th>\n",
       "      <td>-1.609040</td>\n",
       "      <td>Moderate</td>\n",
       "      <td>Light</td>\n",
       "      <td>0.7</td>\n",
       "      <td>West</td>\n",
       "      <td>Very Low</td>\n",
       "      <td>61.0</td>\n",
       "      <td>3</td>\n",
       "      <td>10</td>\n",
       "      <td>1</td>\n",
       "      <td>Very High</td>\n",
       "    </tr>\n",
       "    <tr>\n",
       "      <th>169</th>\n",
       "      <td>-1.528990</td>\n",
       "      <td>Heavy</td>\n",
       "      <td>Light</td>\n",
       "      <td>0.7</td>\n",
       "      <td>West</td>\n",
       "      <td>Very Low</td>\n",
       "      <td>61.0</td>\n",
       "      <td>3</td>\n",
       "      <td>10</td>\n",
       "      <td>1</td>\n",
       "      <td>Very High</td>\n",
       "    </tr>\n",
       "    <tr>\n",
       "      <th>171</th>\n",
       "      <td>-1.504896</td>\n",
       "      <td>Heavy</td>\n",
       "      <td>Light</td>\n",
       "      <td>0.7</td>\n",
       "      <td>West</td>\n",
       "      <td>Very Low</td>\n",
       "      <td>61.0</td>\n",
       "      <td>3</td>\n",
       "      <td>10</td>\n",
       "      <td>1</td>\n",
       "      <td>Very High</td>\n",
       "    </tr>\n",
       "  </tbody>\n",
       "</table>\n",
       "</div>"
      ],
      "text/plain": [
       "        score       adt   adtt  precp region precipitation  lengthofspan  \\\n",
       "109  0.683726     Light  Light    0.7   West      Very Low           8.0   \n",
       "165 -1.676626  Moderate  Light    0.7   West      Very Low          61.0   \n",
       "167 -1.609040  Moderate  Light    0.7   West      Very Low          61.0   \n",
       "169 -1.528990     Heavy  Light    0.7   West      Very Low          61.0   \n",
       "171 -1.504896     Heavy  Light    0.7   West      Very Low          61.0   \n",
       "\n",
       "     material  structuretype  maintainer spanlength  \n",
       "109         7              2           1     Medium  \n",
       "165         3             10           1  Very High  \n",
       "167         3             10           1  Very High  \n",
       "169         3             10           1  Very High  \n",
       "171         3             10           1  Very High  "
      ]
     },
     "execution_count": 23,
     "metadata": {},
     "output_type": "execute_result"
    }
   ],
   "source": [
    "df_anova.head()"
   ]
  },
  {
   "cell_type": "code",
   "execution_count": 24,
   "metadata": {},
   "outputs": [
    {
     "data": {
      "image/png": "[encoded data removed]",
      "text/plain": [
       "<matplotlib.figure.Figure at 0x1a3a653eb8>"
      ]
     },
     "metadata": {},
     "output_type": "display_data"
    }
   ],
   "source": [
    "count_span = df_anova.groupby('spanlength')['score'].count()\n",
    "\n",
    "# Plotting \n",
    "plt.figure(figsize=(8,8))\n",
    "plt.suptitle(\"Baseline Difference Scores\", fontsize = 20, fontweight = 'bold')\n",
    "sns.set(font_scale=2)\n",
    "\n",
    "#Subplot 1\n",
    "labels = [\"Very Low\", \"Very High\"]\n",
    "no_of_records = [count_span[0], count_span[2]]\n",
    "plt.bar(labels, no_of_records, align = 'center', alpha = 0.5, color = ['crimson','teal'])\n",
    "plt.xticks(size = 20, rotation = 0)\n",
    "plt.yticks(size = 20)\n",
    "plt.xlabel(\"Length Of Maximum Span\", fontweight = 'bold', fontsize = 20)\n",
    "plt.ylabel(\"Number of Bridges\", fontweight = 'bold', fontsize = 20)\n",
    "plt.show()"
   ]
  },
  {
   "cell_type": "code",
   "execution_count": 27,
   "metadata": {},
   "outputs": [
    {
     "data": {
      "image/png": "[encoded data removed]",
      "text/plain": [
       "<matplotlib.figure.Figure at 0x1a28c40b70>"
      ]
     },
     "metadata": {},
     "output_type": "display_data"
    }
   ],
   "source": [
    "scores_low = df_anova[df_anova['spanlength'] == 'Very Low']['score']\n",
    "scores_high = df_anova[df_anova['spanlength'] == 'Very High']['score']\n",
    "\n",
    "scores_precp = [scores_low,scores_high]\n",
    "\n",
    "\n",
    "green_line = mlines.Line2D([], [], color='Green',\n",
    "                          markersize=15, label='Median')\n",
    "red_triangle = mlines.Line2D([], [], color='Red', marker='^',\n",
    "                          markersize=15, label='Mean')\n",
    "\n",
    "# Plotting \n",
    "plt.figure(figsize=(12,8))\n",
    "plt.subplots_adjust(bottom=0, left=0.025, top = 0.9, right=0.975)\n",
    "plt.suptitle(\"Baseline Difference Scores\", fontsize = 20, fontweight = 'bold')\n",
    "sns.set(font_scale=2)\n",
    "\n",
    "plt.boxplot(scores_precp, labels = labels, showfliers=True, showmeans=True)\n",
    "plt.xticks(size = 20, rotation = 0)\n",
    "plt.yticks(size = 20)\n",
    "plt.xlabel(\"Length Of Maximum Span\", fontweight = 'bold')\n",
    "plt.ylabel(\"Baseline Difference Score\", fontweight = 'bold')\n",
    "\n",
    "red_patch = mpatches.Patch(color='red', label='The red data')\n",
    "green_patch = mpatches.Patch(color='green', label='The red data')\n",
    "plt.legend(handles=[red_triangle, green_line], loc = 'lower center')\n",
    "\n",
    "plt.show()"
   ]
  },
  {
   "cell_type": "markdown",
   "metadata": {},
   "source": [
    "#### ANOVA - Small Sample"
   ]
  },
  {
   "cell_type": "code",
   "execution_count": 28,
   "metadata": {},
   "outputs": [
    {
     "data": {
      "text/html": [
       "<div>\n",
       "<style scoped>\n",
       "    .dataframe tbody tr th:only-of-type {\n",
       "        vertical-align: middle;\n",
       "    }\n",
       "\n",
       "    .dataframe tbody tr th {\n",
       "        vertical-align: top;\n",
       "    }\n",
       "\n",
       "    .dataframe thead th {\n",
       "        text-align: right;\n",
       "    }\n",
       "</style>\n",
       "<table border=\"1\" class=\"dataframe\">\n",
       "  <thead>\n",
       "    <tr style=\"text-align: right;\">\n",
       "      <th></th>\n",
       "      <th>sum_sq</th>\n",
       "      <th>df</th>\n",
       "      <th>F</th>\n",
       "      <th>PR(&gt;F)</th>\n",
       "      <th>eta_sq</th>\n",
       "      <th>omega_sq</th>\n",
       "    </tr>\n",
       "  </thead>\n",
       "  <tbody>\n",
       "    <tr>\n",
       "      <th>C(spanlength)</th>\n",
       "      <td>0.117087</td>\n",
       "      <td>1.0</td>\n",
       "      <td>0.150986</td>\n",
       "      <td>0.698013</td>\n",
       "      <td>0.000762</td>\n",
       "      <td>-0.004263</td>\n",
       "    </tr>\n",
       "    <tr>\n",
       "      <th>Residual</th>\n",
       "      <td>153.545513</td>\n",
       "      <td>198.0</td>\n",
       "      <td>NaN</td>\n",
       "      <td>NaN</td>\n",
       "      <td>NaN</td>\n",
       "      <td>NaN</td>\n",
       "    </tr>\n",
       "  </tbody>\n",
       "</table>\n",
       "</div>"
      ],
      "text/plain": [
       "                   sum_sq     df         F    PR(>F)    eta_sq  omega_sq\n",
       "C(spanlength)    0.117087    1.0  0.150986  0.698013  0.000762 -0.004263\n",
       "Residual       153.545513  198.0       NaN       NaN       NaN       NaN"
      ]
     },
     "execution_count": 28,
     "metadata": {},
     "output_type": "execute_result"
    }
   ],
   "source": [
    "span = df_anova.groupby('spanlength').apply(lambda s: s.sample(100))['spanlength'].tolist()\n",
    "score = df_anova.groupby('spanlength').apply(lambda s: s.sample(100))['score'].tolist()\n",
    "df_span_sample_100 = pd.DataFrame({'spanlength':span, 'score':score})\n",
    "df_span_100 = df_span_sample_100[df_span_sample_100['spanlength'].isin(['Very Low', 'Very High'])]\n",
    "\n",
    "formula = 'score ~ C(spanlength)'\n",
    "span_undersample = undersample(df_span_100, 'spanlength')\n",
    "aov(span_undersample, formula)"
   ]
  },
  {
   "cell_type": "markdown",
   "metadata": {},
   "source": [
    "#### ANOVA - Large Sample"
   ]
  },
  {
   "cell_type": "code",
   "execution_count": 30,
   "metadata": {},
   "outputs": [
    {
     "data": {
      "text/html": [
       "<div>\n",
       "<style scoped>\n",
       "    .dataframe tbody tr th:only-of-type {\n",
       "        vertical-align: middle;\n",
       "    }\n",
       "\n",
       "    .dataframe tbody tr th {\n",
       "        vertical-align: top;\n",
       "    }\n",
       "\n",
       "    .dataframe thead th {\n",
       "        text-align: right;\n",
       "    }\n",
       "</style>\n",
       "<table border=\"1\" class=\"dataframe\">\n",
       "  <thead>\n",
       "    <tr style=\"text-align: right;\">\n",
       "      <th></th>\n",
       "      <th>sum_sq</th>\n",
       "      <th>df</th>\n",
       "      <th>F</th>\n",
       "      <th>PR(&gt;F)</th>\n",
       "      <th>eta_sq</th>\n",
       "      <th>omega_sq</th>\n",
       "    </tr>\n",
       "  </thead>\n",
       "  <tbody>\n",
       "    <tr>\n",
       "      <th>C(spanlength)</th>\n",
       "      <td>808.577164</td>\n",
       "      <td>1.0</td>\n",
       "      <td>1004.047686</td>\n",
       "      <td>1.140392e-219</td>\n",
       "      <td>0.006236</td>\n",
       "      <td>0.00623</td>\n",
       "    </tr>\n",
       "    <tr>\n",
       "      <th>Residual</th>\n",
       "      <td>128849.188025</td>\n",
       "      <td>159998.0</td>\n",
       "      <td>NaN</td>\n",
       "      <td>NaN</td>\n",
       "      <td>NaN</td>\n",
       "      <td>NaN</td>\n",
       "    </tr>\n",
       "  </tbody>\n",
       "</table>\n",
       "</div>"
      ],
      "text/plain": [
       "                      sum_sq        df            F         PR(>F)    eta_sq  \\\n",
       "C(spanlength)     808.577164       1.0  1004.047686  1.140392e-219  0.006236   \n",
       "Residual       128849.188025  159998.0          NaN            NaN       NaN   \n",
       "\n",
       "               omega_sq  \n",
       "C(spanlength)   0.00623  \n",
       "Residual            NaN  "
      ]
     },
     "execution_count": 30,
     "metadata": {},
     "output_type": "execute_result"
    }
   ],
   "source": [
    "span = df_anova.groupby('spanlength').apply(lambda s: s.sample(80000))['spanlength'].tolist()\n",
    "score = df_anova.groupby('spanlength').apply(lambda s: s.sample(80000))['score'].tolist()\n",
    "df_span_sample_80000 = pd.DataFrame({'spanlength':span, 'score':score})\n",
    "df_span_80000 = df_span_sample_80000[df_span_sample_80000['spanlength'].isin(['Very Low', 'Very High'])]\n",
    "\n",
    "formula = 'score ~ C(spanlength)'\n",
    "span_undersample = undersample(df_span_80000, 'spanlength')\n",
    "aov(span_undersample, formula)"
   ]
  },
  {
   "cell_type": "code",
   "execution_count": null,
   "metadata": {},
   "outputs": [],
   "source": []
  }
 ],
 "metadata": {
  "kernelspec": {
   "display_name": "Python 3",
   "language": "python",
   "name": "python3"
  },
  "language_info": {
   "codemirror_mode": {
    "name": "ipython",
    "version": 3
   },
   "file_extension": ".py",
   "mimetype": "text/x-python",
   "name": "python",
   "nbconvert_exporter": "python",
   "pygments_lexer": "ipython3",
   "version": "3.6.4"
  }
 },
 "nbformat": 4,
 "nbformat_minor": 2
}
