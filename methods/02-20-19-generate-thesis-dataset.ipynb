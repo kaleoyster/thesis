{
 "cells": [
  {
   "cell_type": "code",
   "execution_count": 1,
   "metadata": {},
   "outputs": [],
   "source": [
    "import pymongo\n",
    "from pymongo import MongoClient\n",
    "import time\n",
    "import pandas as pd\n",
    "import numpy as np\n",
    "import seaborn as sns\n",
    "import matplotlib.pyplot as plt\n",
    "import csv\n",
    "from sklearn import preprocessing\n",
    "import warnings\n",
    "from nbi1 import *\n",
    "\n",
    "warnings.filterwarnings('ignore')"
   ]
  },
  {
   "cell_type": "markdown",
   "metadata": {},
   "source": [
    "## Importing data"
   ]
  },
  {
   "cell_type": "code",
   "execution_count": 2,
   "metadata": {},
   "outputs": [],
   "source": [
    "### Importing NBI Data\n",
    "survey_records = pd.concat([pd.read_csv('ConditionRatings-first-twenty-allyears.csv'),pd.read_csv('ConditionRatings-last-thirty-allyears.csv')])\n",
    "\n",
    "### Importing Precipitation Data\n",
    "df_precp = pd.read_csv('new_climate_data.csv')\n",
    "\n",
    "### Data Manipulation \n",
    "df_precp.drop('Unnamed: 0', axis = 1, inplace = True)\n",
    "\n",
    "survey_records['FIPS'] = correctFips(survey_records['stateCode'], survey_records['countyCode']) ## fips need to bee int\n",
    "\n",
    "survey_records['County '] = survey_records['FIPS'].map(getDict(df_precp['FIPS'], df_precp['County']))\n",
    "\n",
    "survey_records['Avg. Daily Precipitation (mm)'] = survey_records['FIPS'].map(getDict(df_precp['County Code'], df_precp['Avg Daily Precipitation (mm)']))"
   ]
  },
  {
   "cell_type": "markdown",
   "metadata": {},
   "source": [
    "## Data Cleaning and Preparation "
   ]
  },
  {
   "cell_type": "code",
   "execution_count": 4,
   "metadata": {},
   "outputs": [],
   "source": [
    "## Create timeseries of every bridge from the NBI dataset.\n",
    "survey_timeseries = createTimeseries(survey_records)\n",
    "\n",
    "## Identify rebuild of the bridges in timeseries and split survey records accordingly.\n",
    "survey_timeseries = splitSurveyRecords(survey_timeseries)\n",
    "\n",
    "## Identify inconsistency in aging of the bridges.\n",
    "split_profiles = createSplitProfiles(survey_timeseries)\n",
    "\n",
    "## Split bridge records again, where the inconsistencies are identified.\n",
    "survey_timeseries = splitBackward(survey_timeseries, split_profiles) \n",
    "\n",
    "## Counting and renaming the splits of the bridges.\n",
    "survey_timeseries_split_structureNumbers = splitStructureNumbers(survey_timeseries)\n",
    "\n",
    "## Combining the all splits of the survey records \n",
    "survey_timeseries = combinedStructureNumberWithRecords(survey_timeseries_split_structureNumbers, survey_timeseries)\n",
    "\n",
    "## Introducing each split of the bridge as a separate bridge.\n",
    "survey_timeseries = createIndividualRecords(survey_timeseries)"
   ]
  },
  {
   "cell_type": "markdown",
   "metadata": {},
   "source": [
    "### Creating Dataframe"
   ]
  },
  {
   "cell_type": "code",
   "execution_count": 5,
   "metadata": {},
   "outputs": [
    {
     "name": "stdout",
     "output_type": "stream",
     "text": [
      "Shape of the dataframe:  (921676, 10)\n"
     ]
    },
    {
     "data": {
      "text/html": [
       "<div>\n",
       "<style scoped>\n",
       "    .dataframe tbody tr th:only-of-type {\n",
       "        vertical-align: middle;\n",
       "    }\n",
       "\n",
       "    .dataframe tbody tr th {\n",
       "        vertical-align: top;\n",
       "    }\n",
       "\n",
       "    .dataframe thead th {\n",
       "        text-align: right;\n",
       "    }\n",
       "</style>\n",
       "<table border=\"1\" class=\"dataframe\">\n",
       "  <thead>\n",
       "    <tr style=\"text-align: right;\">\n",
       "      <th></th>\n",
       "      <th>Structure Number</th>\n",
       "      <th>Age</th>\n",
       "      <th>ADT Type</th>\n",
       "      <th>Superstructure</th>\n",
       "      <th>Avg. Daily Precipitation</th>\n",
       "      <th>State Code</th>\n",
       "      <th>Average Daily Traffic</th>\n",
       "      <th>Owner</th>\n",
       "      <th>Average ADT</th>\n",
       "      <th>ADT Category</th>\n",
       "    </tr>\n",
       "  </thead>\n",
       "  <tbody>\n",
       "    <tr>\n",
       "      <th>0</th>\n",
       "      <td>10000000000_1</td>\n",
       "      <td>[62]</td>\n",
       "      <td>[Light]</td>\n",
       "      <td>[5]</td>\n",
       "      <td>2.31</td>\n",
       "      <td>40</td>\n",
       "      <td>[100]</td>\n",
       "      <td>2</td>\n",
       "      <td>100.0</td>\n",
       "      <td>Light</td>\n",
       "    </tr>\n",
       "    <tr>\n",
       "      <th>1</th>\n",
       "      <td>20000000000_1</td>\n",
       "      <td>[94]</td>\n",
       "      <td>[Light]</td>\n",
       "      <td>[8]</td>\n",
       "      <td>3.12</td>\n",
       "      <td>40</td>\n",
       "      <td>[150]</td>\n",
       "      <td>4</td>\n",
       "      <td>150.0</td>\n",
       "      <td>Light</td>\n",
       "    </tr>\n",
       "    <tr>\n",
       "      <th>2</th>\n",
       "      <td>40000000000_1</td>\n",
       "      <td>[5]</td>\n",
       "      <td>[Light]</td>\n",
       "      <td>[8]</td>\n",
       "      <td>1.87</td>\n",
       "      <td>40</td>\n",
       "      <td>[100]</td>\n",
       "      <td>2</td>\n",
       "      <td>100.0</td>\n",
       "      <td>Light</td>\n",
       "    </tr>\n",
       "    <tr>\n",
       "      <th>3</th>\n",
       "      <td>50000000000_1</td>\n",
       "      <td>[4]</td>\n",
       "      <td>[Light]</td>\n",
       "      <td>[8]</td>\n",
       "      <td>2.59</td>\n",
       "      <td>40</td>\n",
       "      <td>[100]</td>\n",
       "      <td>2</td>\n",
       "      <td>100.0</td>\n",
       "      <td>Light</td>\n",
       "    </tr>\n",
       "    <tr>\n",
       "      <th>4</th>\n",
       "      <td>60000000000_1</td>\n",
       "      <td>[94]</td>\n",
       "      <td>[Light]</td>\n",
       "      <td>[5]</td>\n",
       "      <td>3.57</td>\n",
       "      <td>40</td>\n",
       "      <td>[100]</td>\n",
       "      <td>2</td>\n",
       "      <td>100.0</td>\n",
       "      <td>Light</td>\n",
       "    </tr>\n",
       "  </tbody>\n",
       "</table>\n",
       "</div>"
      ],
      "text/plain": [
       "  Structure Number   Age ADT Type Superstructure  Avg. Daily Precipitation  \\\n",
       "0    10000000000_1  [62]  [Light]            [5]                      2.31   \n",
       "1    20000000000_1  [94]  [Light]            [8]                      3.12   \n",
       "2    40000000000_1   [5]  [Light]            [8]                      1.87   \n",
       "3    50000000000_1   [4]  [Light]            [8]                      2.59   \n",
       "4    60000000000_1  [94]  [Light]            [5]                      3.57   \n",
       "\n",
       "  State Code Average Daily Traffic  Owner  Average ADT ADT Category  \n",
       "0         40                 [100]      2        100.0        Light  \n",
       "1         40                 [150]      4        150.0        Light  \n",
       "2         40                 [100]      2        100.0        Light  \n",
       "3         40                 [100]      2        100.0        Light  \n",
       "4         40                 [100]      2        100.0        Light  "
      ]
     },
     "execution_count": 5,
     "metadata": {},
     "output_type": "execute_result"
    }
   ],
   "source": [
    "### Creating Dataframe from 2x9 list of \"survey_timeseries\".\n",
    "survey_timeseries_df = pd.DataFrame(survey_timeseries,  columns=['Structure Number', 'Age', 'ADT Type', 'Superstructure','Avg. Daily Precipitation', 'State Code','Average Daily Traffic','Owner'])\n",
    "\n",
    "### flattening columns\n",
    "survey_timeseries_df['State Code'] = [str(statecode[0]) for statecode in survey_timeseries_df['State Code']]\n",
    "survey_timeseries_df['Average ADT'] = [np.mean(ADT) for ADT in survey_timeseries_df['Average Daily Traffic']]\n",
    "survey_timeseries_df['Avg. Daily Precipitation'] = [ precp[0] for precp in survey_timeseries_df['Avg. Daily Precipitation']]\n",
    "survey_timeseries_df['ADT Category'] = [ ADT_type[0] for ADT_type in survey_timeseries_df['ADT Type']]\n",
    "survey_timeseries_df['Owner'] = [ ADT_type[0] for ADT_type in survey_timeseries_df['Owner']]\n",
    "\n",
    "### shape of the dataframe\n",
    "print(\"Shape of the dataframe: \",survey_timeseries_df.shape)\n",
    "\n",
    "##E Printing sample of the dataframe.\n",
    "survey_timeseries_df.head()"
   ]
  },
  {
   "cell_type": "markdown",
   "metadata": {},
   "source": [
    "## Computing Scores"
   ]
  },
  {
   "cell_type": "markdown",
   "metadata": {},
   "source": [
    "### Computing Deterioration Scores"
   ]
  },
  {
   "cell_type": "code",
   "execution_count": 6,
   "metadata": {},
   "outputs": [],
   "source": [
    "## Creating a flatlist of the Age\n",
    "age_flat_list = survey_timeseries_df['Age'].tolist() ## This list - >\n",
    "\n",
    "## Creating a flatlist of the Condition Ratings: Superstructure\n",
    "superstructure_flat_list = survey_timeseries_df['Superstructure'].tolist() ## This list ->\n",
    "\n",
    "## Computing Slope \n",
    "slopes = computeSlope(age_flat_list,superstructure_flat_list)\n",
    "\n",
    "## Creating a new column (Deterioration Score) in the dataframe.\n",
    "survey_timeseries_df['Deterioration Score'] = slopes"
   ]
  },
  {
   "cell_type": "markdown",
   "metadata": {},
   "source": [
    "### Computing Baseline Difference Scores"
   ]
  },
  {
   "cell_type": "code",
   "execution_count": 7,
   "metadata": {},
   "outputs": [],
   "source": [
    "## Creating the list of averages \n",
    "list_of_avgs, dict_of_avgs, counts_of_aba = getListOfAvgs(age_flat_list, superstructure_flat_list)\n",
    "\n",
    "## Computing Baseline Difference Score\n",
    "baselineScoreList = computeBaselineScore(age_flat_list, superstructure_flat_list, dict_of_avgs)\n",
    "\n",
    "## Creating a new column (Baseline Difference Score) in the dataframe.\n",
    "survey_timeseries_df['Baseline Difference Score'] = [np.mean(score) for score in baselineScoreList]"
   ]
  },
  {
   "cell_type": "markdown",
   "metadata": {},
   "source": [
    "## Post Computation Data Cleaning"
   ]
  },
  {
   "cell_type": "markdown",
   "metadata": {},
   "source": [
    "### Removing Outliers"
   ]
  },
  {
   "cell_type": "code",
   "execution_count": 9,
   "metadata": {},
   "outputs": [
    {
     "name": "stdout",
     "output_type": "stream",
     "text": [
      "IQR - West Regions: 1.2410418510116243\n",
      "Shape before removing outliers  - US Regions: (886503, 13)\n",
      "Shape after removing outliers  - US Regions: (855472, 13)\n"
     ]
    }
   ],
   "source": [
    "### Removing Null Values\n",
    "survey_timeseries_df = survey_timeseries_df.dropna()\n",
    "\n",
    "### Scaling Baseline Difference Score\n",
    "survey_timeseries_df['Scaled Baseline Difference Score'] =  preprocessing.scale(survey_timeseries_df['Baseline Difference Score'])\n",
    "\n",
    "### Removing Outliers\n",
    "Q1 = survey_timeseries_df['Baseline Difference Score'].quantile(0.25)\n",
    "Q3 = survey_timeseries_df['Baseline Difference Score'].quantile(0.75)\n",
    "IQR = Q3 - Q1\n",
    "print(\"IQR - West Regions:\",IQR)\n",
    "print(\"Shape before removing outliers  - US Regions:\",survey_timeseries_df.shape)\n",
    "survey_timeseries_no_outliers_df = survey_timeseries_df[survey_timeseries_df['Baseline Difference Score'] < (Q3+1.5*IQR)]\n",
    "survey_timeseries_no_outliers_df = survey_timeseries_no_outliers_df[survey_timeseries_no_outliers_df['Baseline Difference Score'] > (Q1-1.5*IQR)]\n",
    "print(\"Shape after removing outliers  - US Regions:\",survey_timeseries_no_outliers_df.shape)"
   ]
  },
  {
   "cell_type": "markdown",
   "metadata": {},
   "source": [
    "## Visualization"
   ]
  },
  {
   "cell_type": "markdown",
   "metadata": {},
   "source": [
    "### Distribution of Baseline Difference Scores"
   ]
  },
  {
   "cell_type": "code",
   "execution_count": 10,
   "metadata": {},
   "outputs": [
    {
     "data": {
      "image/png": "[encoded data removed]",
      "text/plain": [
       "<matplotlib.figure.Figure at 0x1ac8987978>"
      ]
     },
     "metadata": {},
     "output_type": "display_data"
    }
   ],
   "source": [
    "### Plotting Baseline Difference Scores\n",
    "plt.figure(figsize=(12,4))\n",
    "plt.subplots_adjust(bottom=0.025, left=0.025, top = 0.9, right=0.975)\n",
    "plt.suptitle(\"Baseline Difference Scores - U.S\", fontsize = 16,fontweight = 'bold')\n",
    "sns.set(font_scale=2)\n",
    "plt.subplot(1,2,1)\n",
    "ax_1 = sns.boxplot(x = survey_timeseries_no_outliers_df[\"Baseline Difference Score\"], color = 'grey', orient='v', width=.25)\n",
    "\n",
    "\n",
    "plt.subplot(1,2,2)\n",
    "sns.distplot(survey_timeseries_no_outliers_df['Baseline Difference Score'], hist=True, kde=True, \n",
    "             bins=int(180/5), color = 'Black', \n",
    "             hist_kws={'edgecolor':'black'},\n",
    "             kde_kws={'linewidth': 2}, label=\"US\")\n",
    "plt.show()"
   ]
  },
  {
   "cell_type": "markdown",
   "metadata": {},
   "source": [
    "## Export data"
   ]
  },
  {
   "cell_type": "markdown",
   "metadata": {},
   "source": [
    "### Without Outliers"
   ]
  },
  {
   "cell_type": "code",
   "execution_count": 12,
   "metadata": {},
   "outputs": [],
   "source": [
    "survey_timeseries_no_outliers_df.to_csv(\"02-20-19-thesis-dataset-without-outliers\")"
   ]
  },
  {
   "cell_type": "markdown",
   "metadata": {},
   "source": [
    "### Without Outliers"
   ]
  },
  {
   "cell_type": "code",
   "execution_count": 11,
   "metadata": {},
   "outputs": [],
   "source": [
    "survey_timeseries_df.to_csv(\"02-20-19-thesis-dataset\")"
   ]
  }
 ],
 "metadata": {
  "kernelspec": {
   "display_name": "Python 3",
   "language": "python",
   "name": "python3"
  },
  "language_info": {
   "codemirror_mode": {
    "name": "ipython",
    "version": 3
   },
   "file_extension": ".py",
   "mimetype": "text/x-python",
   "name": "python",
   "nbconvert_exporter": "python",
   "pygments_lexer": "ipython3",
   "version": "3.6.4"
  }
 },
 "nbformat": 4,
 "nbformat_minor": 2
}
