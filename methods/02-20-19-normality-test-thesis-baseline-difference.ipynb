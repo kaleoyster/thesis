{
 "cells": [
  {
   "cell_type": "code",
   "execution_count": 7,
   "metadata": {},
   "outputs": [],
   "source": [
    "import pymongo\n",
    "from pymongo import MongoClient\n",
    "import time\n",
    "import pandas as pd\n",
    "import numpy as np\n",
    "import seaborn as sns\n",
    "import matplotlib.pyplot as plt\n",
    "import csv\n",
    "from sklearn import preprocessing\n",
    "import warnings\n",
    "from nbi1 import *\n",
    "from numpy.random import randn\n",
    "from scipy.stats import anderson\n",
    "from scipy.stats import normaltest\n",
    "from statsmodels.graphics.gofplots import qqplot\n",
    "from matplotlib import pyplot\n",
    "import scipy\n",
    "\n",
    "warnings.filterwarnings('ignore')"
   ]
  },
  {
   "cell_type": "markdown",
   "metadata": {},
   "source": [
    "## Import Data"
   ]
  },
  {
   "cell_type": "code",
   "execution_count": 5,
   "metadata": {},
   "outputs": [],
   "source": [
    "### Dataset without outliers\n",
    "df_no_outliers = pd.read_csv(\"02-20-19-thesis-dataset-without-outliers\", index_col=0 )\n",
    "\n",
    "### Dataset with outlier\n",
    "df = pd.read_csv(\"02-20-19-thesis-dataset\", index_col=0 )"
   ]
  },
  {
   "cell_type": "markdown",
   "metadata": {},
   "source": [
    "## Normality Test"
   ]
  },
  {
   "cell_type": "code",
   "execution_count": 10,
   "metadata": {},
   "outputs": [],
   "source": [
    "def normality_test(data):\n",
    "    # normality test\n",
    "    result = anderson(data)\n",
    "    print(\"Anderson - Darling Test\")\n",
    "    print(\"---\"*15)\n",
    "    print('Statistic: %.3f' % result.statistic)\n",
    "    p = 0\n",
    "    for i in range(len(result.critical_values)):\n",
    "        sl, cv = result.significance_level[i], result.critical_values[i]\n",
    "        if result.statistic < result.critical_values[i]:\n",
    "            print('%.3f: %.3f, data looks Gaussian (fail to reject H0) ' % (sl, cv))\n",
    "        else:\n",
    "            print('%.3f: %.3f, data does not look Gaussian (reject H0) ' % (sl, cv))\n",
    "    print(\"\\n\")\n",
    "    print(\"D’Agostino’s K^2 Test\")\n",
    "    print(\"---\"*15)\n",
    "    \n",
    "    \n",
    "    stat, p = normaltest(data)\n",
    "    print('Statistics=%.3f, p=%.3f' % (stat, p))\n",
    "    # interpret\n",
    "    alpha = 0.05\n",
    "    if p > alpha:\n",
    "        print('Data looks Gaussian (fail to reject H0)')\n",
    "    else:\n",
    "        print('Data does not look Gaussian (reject H0)')\n",
    "        \n",
    "    print(\"\\n\")\n",
    "    print(\"Kolmogorov-Smirnov\")\n",
    "    print(\"---\"*15)\n",
    "\n",
    "    stat, p = scipy.stats.kstest(data, cdf='norm')\n",
    "    if p > alpha:\n",
    "        print('Data looks Gaussian (fail to reject H0)')\n",
    "    else:\n",
    "        print('Data does not look Gaussian (reject H0)')\n",
    "        \n",
    "    # q-q plot\n",
    "    qqplot(data, line='s')\n",
    "    pyplot.show()\n",
    "    "
   ]
  },
  {
   "cell_type": "markdown",
   "metadata": {},
   "source": [
    "### Results : Data without outliers"
   ]
  },
  {
   "cell_type": "code",
   "execution_count": 11,
   "metadata": {},
   "outputs": [
    {
     "name": "stdout",
     "output_type": "stream",
     "text": [
      "Anderson - Darling Test\n",
      "---------------------------------------------\n",
      "Statistic: 3087.328\n",
      "15.000: 0.576, data does not look Gaussian (reject H0) \n",
      "10.000: 0.656, data does not look Gaussian (reject H0) \n",
      "5.000: 0.787, data does not look Gaussian (reject H0) \n",
      "2.500: 0.918, data does not look Gaussian (reject H0) \n",
      "1.000: 1.092, data does not look Gaussian (reject H0) \n",
      "\n",
      "\n",
      "D’Agostino’s K^2 Test\n",
      "---------------------------------------------\n",
      "Statistics=17273.528, p=0.000\n",
      "Data does not look Gaussian (reject H0)\n",
      "\n",
      "\n",
      "Kolmogorov-Smirnov\n",
      "---------------------------------------------\n",
      "Data does not look Gaussian (reject H0)\n"
     ]
    },
    {
     "data": {
      "image/png": "[encoded data removed]",
      "text/plain": [
       "<matplotlib.figure.Figure at 0x1a209e2358>"
      ]
     },
     "metadata": {},
     "output_type": "display_data"
    }
   ],
   "source": [
    "normality_test(df_no_outliers[\"Baseline Difference Score\"])"
   ]
  },
  {
   "cell_type": "markdown",
   "metadata": {},
   "source": [
    "### Results : Data with outliers"
   ]
  },
  {
   "cell_type": "code",
   "execution_count": 12,
   "metadata": {},
   "outputs": [
    {
     "name": "stdout",
     "output_type": "stream",
     "text": [
      "Anderson - Darling Test\n",
      "---------------------------------------------\n",
      "Statistic: 9942.995\n",
      "15.000: 0.576, data does not look Gaussian (reject H0) \n",
      "10.000: 0.656, data does not look Gaussian (reject H0) \n",
      "5.000: 0.787, data does not look Gaussian (reject H0) \n",
      "2.500: 0.918, data does not look Gaussian (reject H0) \n",
      "1.000: 1.092, data does not look Gaussian (reject H0) \n",
      "\n",
      "\n",
      "D’Agostino’s K^2 Test\n",
      "---------------------------------------------\n",
      "Statistics=189872.493, p=0.000\n",
      "Data does not look Gaussian (reject H0)\n",
      "\n",
      "\n",
      "Kolmogorov-Smirnov\n",
      "---------------------------------------------\n",
      "Data does not look Gaussian (reject H0)\n"
     ]
    },
    {
     "data": {
      "image/png": "[encoded data removed]",
      "text/plain": [
       "<matplotlib.figure.Figure at 0x1a2154b828>"
      ]
     },
     "metadata": {},
     "output_type": "display_data"
    }
   ],
   "source": [
    "normality_test(df[\"Baseline Difference Score\"])"
   ]
  }
 ],
 "metadata": {
  "kernelspec": {
   "display_name": "Python 3",
   "language": "python",
   "name": "python3"
  },
  "language_info": {
   "codemirror_mode": {
    "name": "ipython",
    "version": 3
   },
   "file_extension": ".py",
   "mimetype": "text/x-python",
   "name": "python",
   "nbconvert_exporter": "python",
   "pygments_lexer": "ipython3",
   "version": "3.6.4"
  }
 },
 "nbformat": 4,
 "nbformat_minor": 2
}
