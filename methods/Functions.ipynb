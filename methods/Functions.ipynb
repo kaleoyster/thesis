{
 "cells": [
  {
   "cell_type": "markdown",
   "metadata": {},
   "source": [
    "### Function:  Create Condition Rating Split Profile (createCRProfile)\n",
    "##### Description: returns a (boolean) profile, using which the survey records can be split into several segments and returns the cause of split (Intervention) such as repair, reconstruction, and rehabilitation."
   ]
  },
  {
   "cell_type": "code",
   "execution_count": 1,
   "metadata": {},
   "outputs": [],
   "source": [
    "intervention_matrix = {'8-9':'Repair',\n",
    "                  '7-9':'Repair',\n",
    "                  '6-9':'Repair / Reconstruction',\n",
    "                  '5-9':'Repair / Reconstruction',\n",
    "                  '4-9':'Repair / Reconstruction',\n",
    "                  '3-9':'Repair / Reconstruction',\n",
    "                  '2-9':'Repair / Reconstruction',\n",
    "                  '1-9':'Repair / Reconstruction',\n",
    "                  '7-8':'Repair',\n",
    "                  '6-8':'Rehabilitation',\n",
    "                  '5-8':'Repair / Reconstruction',\n",
    "                  '4-8':'Repair / Reconstruction',\n",
    "                  '3-8':'Repair / Reconstruction',\n",
    "                  '2-8':'Repair / Reconstruction',\n",
    "                  '1-8':'Repair / Reconstruction',\n",
    "                  '6-7':'Repair / Reconstruction',\n",
    "                  '5-7':'Rehabilitation',\n",
    "                  '4-7':'Rehabilitation',\n",
    "                  '3-7':'Rehabilitation',\n",
    "                  '2-7':'Rehabilitation',\n",
    "                  '1-7':'Rehabilitation',\n",
    "                  '5-6':'Repair',\n",
    "                  '4-6':'Rehabilitation',\n",
    "                  '3-6':'Rehabilitation',\n",
    "                  '2-6':'Rehabilitation',\n",
    "                  '1-6':'Rehabilitation',\n",
    "                  '4-5':'Repair',\n",
    "                  '3-5':'Rehabilitation',\n",
    "                  '2-5':'Rehabilitation',\n",
    "                  '1-5':'Rehabilitation',\n",
    "                  '3-4':'Repair',\n",
    "                  '2-4':'Repair',\n",
    "                  '1-4':'Repair',\n",
    "                  '2-3':'Repair',\n",
    "                  '1-3':'Repair',\n",
    "                  '1-2':'Repair',\n",
    "                  '0-9':'Reconstruction',\n",
    "                  '0-8':'Reconstruction',\n",
    "                  '0-6':'Reconstruction',\n",
    "                  '0-7':'Reconstruction',\n",
    "                  '0-5':'Rehabilitation',\n",
    "                  '0-4':'Rehabilitation',\n",
    "                  '0-3':'Rehabilitation',\n",
    "                  '0-2':'Rehabilitation',\n",
    "                  '0-1':'Rehabilitation'\n",
    "                 }  \n",
    "\n",
    "\n",
    "def createCRProfile(data, intervention_matrix):\n",
    "    \"\"\" this function creates a profile to split records using Condition Rating\"\"\"\n",
    "    counter = 0\n",
    "    profile = [True]\n",
    "    interventions = []\n",
    "    while counter+1 < len(data):\n",
    "        # Save data[Counter 1]\n",
    "        # Save data[Counter 2]\n",
    "        \n",
    "        \n",
    "        \n",
    "        holder1 = int(data[counter])\n",
    "        holder2 = int(data[counter+1])\n",
    "        \n",
    "\n",
    "        if holder1 < holder2 :\n",
    "            key = str(holder1)+'-'+str(holder2)\n",
    "            intervention = intervention_matrix[key]\n",
    "            interventions.append(intervention)\n",
    "            #print(intervention)\n",
    "            profile.append(False)\n",
    "            profile.append(True)\n",
    "           \n",
    "        else:\n",
    "            profile.append(True)\n",
    "        counter = counter + 1\n",
    "    return profile, interventions"
   ]
  },
  {
   "cell_type": "code",
   "execution_count": 2,
   "metadata": {},
   "outputs": [
    {
     "data": {
      "text/plain": [
       "([True, True, True, True, True], [])"
      ]
     },
     "execution_count": 2,
     "metadata": {},
     "output_type": "execute_result"
    }
   ],
   "source": [
    "# Test Case: 1 (All same number)\n",
    "# Input: ['5','5','5','5','5']\n",
    "# Expected output: ([True, True, True, True, True], [])\n",
    "\n",
    "conditionRating  = ['5','5','5','5','5']\n",
    "createCRProfile(conditionRating, intervention_matrix)"
   ]
  },
  {
   "cell_type": "code",
   "execution_count": 3,
   "metadata": {},
   "outputs": [
    {
     "data": {
      "text/plain": [
       "([True, True, True, True, False, True, True, False, True, True, False, True],\n",
       " ['Rehabilitation', 'Repair', 'Rehabilitation'])"
      ]
     },
     "execution_count": 3,
     "metadata": {},
     "output_type": "execute_result"
    }
   ],
   "source": [
    "# Test Case: 2 ()\n",
    "# Input: ['9','8','7','5','7','5','6','5','7']\n",
    "# Expected output:  ([True, True, True, True, False, True, True, False, True, True, False, True],['Rehabilitation', 'Repair', 'Rehabilitation'])\n",
    "\n",
    "conditionRating = ['9','8','7','5','7','5','6','5','7']\n",
    "createCRProfile(conditionRating, intervention_matrix)"
   ]
  },
  {
   "cell_type": "code",
   "execution_count": 4,
   "metadata": {},
   "outputs": [
    {
     "data": {
      "text/plain": [
       "([True, True, True, True, True, True, True, True, True], [])"
      ]
     },
     "execution_count": 4,
     "metadata": {},
     "output_type": "execute_result"
    }
   ],
   "source": [
    "# Test Case: 3 (Monotonically descreasing segment)\n",
    "# Input: ['9','8','7','5','7','5','6','5','7']\n",
    "# Expected output:  ([True, True, True, True, True, True, True, True, True], [])\n",
    "\n",
    "conditionRating = ['9','8','7','6','5','3','2','1','0']\n",
    "createCRProfile(conditionRating, intervention_matrix)"
   ]
  },
  {
   "cell_type": "code",
   "execution_count": 5,
   "metadata": {},
   "outputs": [
    {
     "data": {
      "text/plain": [
       "([True, False, True, True, True, True, True, True, True, True], ['Repair'])"
      ]
     },
     "execution_count": 5,
     "metadata": {},
     "output_type": "execute_result"
    }
   ],
   "source": [
    "# Test Case: 4 (Edge Case: Left)\n",
    "# Input: ['7','9','8','7','6','5','3','2','1']\n",
    "# Expected Output: ([True, False, True, True, True, True, True, True, True, True, True], ['Repair'])\n",
    "\n",
    "conditionRating = ['7','9','8','7','6','5','3','2','1']\n",
    "createCRProfile(conditionRating, intervention_matrix)"
   ]
  },
  {
   "cell_type": "code",
   "execution_count": 6,
   "metadata": {},
   "outputs": [
    {
     "data": {
      "text/plain": [
       "([True, False, True, True, True, True, True, True, True, True, False, True],\n",
       " ['Repair', 'Repair / Reconstruction'])"
      ]
     },
     "execution_count": 6,
     "metadata": {},
     "output_type": "execute_result"
    }
   ],
   "source": [
    "# Test Case: 4 (Edge Case: Left)\n",
    "# Input: ['7','9','8','7','6','5','3','2','1','9']\n",
    "# Expected Output: ([True, False, True, True, True, True, True, True, True, True, False, True], ['Repair', 'Repair / Reconstruction'])\n",
    "\n",
    "conditionRating = ['7','9','8','7','6','5','3','2','1','9']\n",
    "createCRProfile(conditionRating, intervention_matrix)"
   ]
  }
 ],
 "metadata": {
  "kernelspec": {
   "display_name": "Python 3",
   "language": "python",
   "name": "python3"
  },
  "language_info": {
   "codemirror_mode": {
    "name": "ipython",
    "version": 3
   },
   "file_extension": ".py",
   "mimetype": "text/x-python",
   "name": "python",
   "nbconvert_exporter": "python",
   "pygments_lexer": "ipython3",
   "version": "3.6.4"
  }
 },
 "nbformat": 4,
 "nbformat_minor": 2
}
